{
 "cells": [
  {
   "cell_type": "code",
   "execution_count": 1,
   "metadata": {
    "colab": {
     "base_uri": "https://localhost:8080/"
    },
    "id": "84yf8IHJnd_O",
    "outputId": "d6abce1c-015e-42c6-dd87-ac4f518d141c"
   },
   "outputs": [
    {
     "name": "stdout",
     "output_type": "stream",
     "text": [
      "Collecting aif360\n",
      "  Downloading aif360-0.4.0-py3-none-any.whl (175 kB)\n",
      "\u001b[?25l\r",
      "\u001b[K     |█▉                              | 10 kB 23.1 MB/s eta 0:00:01\r",
      "\u001b[K     |███▊                            | 20 kB 27.1 MB/s eta 0:00:01\r",
      "\u001b[K     |█████▋                          | 30 kB 19.6 MB/s eta 0:00:01\r",
      "\u001b[K     |███████▌                        | 40 kB 12.9 MB/s eta 0:00:01\r",
      "\u001b[K     |█████████▍                      | 51 kB 6.1 MB/s eta 0:00:01\r",
      "\u001b[K     |███████████▎                    | 61 kB 7.2 MB/s eta 0:00:01\r",
      "\u001b[K     |█████████████                   | 71 kB 7.7 MB/s eta 0:00:01\r",
      "\u001b[K     |███████████████                 | 81 kB 8.5 MB/s eta 0:00:01\r",
      "\u001b[K     |████████████████▉               | 92 kB 9.4 MB/s eta 0:00:01\r",
      "\u001b[K     |██████████████████▊             | 102 kB 8.5 MB/s eta 0:00:01\r",
      "\u001b[K     |████████████████████▋           | 112 kB 8.5 MB/s eta 0:00:01\r",
      "\u001b[K     |██████████████████████▌         | 122 kB 8.5 MB/s eta 0:00:01\r",
      "\u001b[K     |████████████████████████▎       | 133 kB 8.5 MB/s eta 0:00:01\r",
      "\u001b[K     |██████████████████████████▏     | 143 kB 8.5 MB/s eta 0:00:01\r",
      "\u001b[K     |████████████████████████████    | 153 kB 8.5 MB/s eta 0:00:01\r",
      "\u001b[K     |██████████████████████████████  | 163 kB 8.5 MB/s eta 0:00:01\r",
      "\u001b[K     |███████████████████████████████▉| 174 kB 8.5 MB/s eta 0:00:01\r",
      "\u001b[K     |████████████████████████████████| 175 kB 8.5 MB/s \n",
      "\u001b[?25hRequirement already satisfied: numpy>=1.16 in /usr/local/lib/python3.7/dist-packages (from aif360) (1.21.6)\n",
      "Requirement already satisfied: matplotlib in /usr/local/lib/python3.7/dist-packages (from aif360) (3.2.2)\n",
      "Requirement already satisfied: scikit-learn>=0.22.1 in /usr/local/lib/python3.7/dist-packages (from aif360) (1.0.2)\n",
      "Requirement already satisfied: scipy<1.6.0,>=1.2.0 in /usr/local/lib/python3.7/dist-packages (from aif360) (1.4.1)\n",
      "Collecting tempeh\n",
      "  Downloading tempeh-0.1.12-py3-none-any.whl (39 kB)\n",
      "Requirement already satisfied: pandas>=0.24.0 in /usr/local/lib/python3.7/dist-packages (from aif360) (1.3.5)\n",
      "Requirement already satisfied: pytz>=2017.3 in /usr/local/lib/python3.7/dist-packages (from pandas>=0.24.0->aif360) (2022.1)\n",
      "Requirement already satisfied: python-dateutil>=2.7.3 in /usr/local/lib/python3.7/dist-packages (from pandas>=0.24.0->aif360) (2.8.2)\n",
      "Requirement already satisfied: six>=1.5 in /usr/local/lib/python3.7/dist-packages (from python-dateutil>=2.7.3->pandas>=0.24.0->aif360) (1.15.0)\n",
      "Requirement already satisfied: joblib>=0.11 in /usr/local/lib/python3.7/dist-packages (from scikit-learn>=0.22.1->aif360) (1.1.0)\n",
      "Requirement already satisfied: threadpoolctl>=2.0.0 in /usr/local/lib/python3.7/dist-packages (from scikit-learn>=0.22.1->aif360) (3.1.0)\n",
      "Requirement already satisfied: kiwisolver>=1.0.1 in /usr/local/lib/python3.7/dist-packages (from matplotlib->aif360) (1.4.2)\n",
      "Requirement already satisfied: cycler>=0.10 in /usr/local/lib/python3.7/dist-packages (from matplotlib->aif360) (0.11.0)\n",
      "Requirement already satisfied: pyparsing!=2.0.4,!=2.1.2,!=2.1.6,>=2.0.1 in /usr/local/lib/python3.7/dist-packages (from matplotlib->aif360) (3.0.8)\n",
      "Requirement already satisfied: typing-extensions in /usr/local/lib/python3.7/dist-packages (from kiwisolver>=1.0.1->matplotlib->aif360) (4.2.0)\n",
      "Requirement already satisfied: pytest in /usr/local/lib/python3.7/dist-packages (from tempeh->aif360) (3.6.4)\n",
      "Collecting memory-profiler\n",
      "  Downloading memory_profiler-0.60.0.tar.gz (38 kB)\n",
      "Collecting shap\n",
      "  Downloading shap-0.40.0-cp37-cp37m-manylinux2010_x86_64.whl (564 kB)\n",
      "\u001b[K     |████████████████████████████████| 564 kB 40.6 MB/s \n",
      "\u001b[?25hRequirement already satisfied: requests in /usr/local/lib/python3.7/dist-packages (from tempeh->aif360) (2.23.0)\n",
      "Requirement already satisfied: psutil in /usr/local/lib/python3.7/dist-packages (from memory-profiler->tempeh->aif360) (5.4.8)\n",
      "Requirement already satisfied: attrs>=17.4.0 in /usr/local/lib/python3.7/dist-packages (from pytest->tempeh->aif360) (21.4.0)\n",
      "Requirement already satisfied: atomicwrites>=1.0 in /usr/local/lib/python3.7/dist-packages (from pytest->tempeh->aif360) (1.4.0)\n",
      "Requirement already satisfied: more-itertools>=4.0.0 in /usr/local/lib/python3.7/dist-packages (from pytest->tempeh->aif360) (8.12.0)\n",
      "Requirement already satisfied: py>=1.5.0 in /usr/local/lib/python3.7/dist-packages (from pytest->tempeh->aif360) (1.11.0)\n",
      "Requirement already satisfied: setuptools in /usr/local/lib/python3.7/dist-packages (from pytest->tempeh->aif360) (57.4.0)\n",
      "Requirement already satisfied: pluggy<0.8,>=0.5 in /usr/local/lib/python3.7/dist-packages (from pytest->tempeh->aif360) (0.7.1)\n",
      "Requirement already satisfied: idna<3,>=2.5 in /usr/local/lib/python3.7/dist-packages (from requests->tempeh->aif360) (2.10)\n",
      "Requirement already satisfied: chardet<4,>=3.0.2 in /usr/local/lib/python3.7/dist-packages (from requests->tempeh->aif360) (3.0.4)\n",
      "Requirement already satisfied: certifi>=2017.4.17 in /usr/local/lib/python3.7/dist-packages (from requests->tempeh->aif360) (2021.10.8)\n",
      "Requirement already satisfied: urllib3!=1.25.0,!=1.25.1,<1.26,>=1.21.1 in /usr/local/lib/python3.7/dist-packages (from requests->tempeh->aif360) (1.24.3)\n",
      "Requirement already satisfied: numba in /usr/local/lib/python3.7/dist-packages (from shap->tempeh->aif360) (0.51.2)\n",
      "Collecting slicer==0.0.7\n",
      "  Downloading slicer-0.0.7-py3-none-any.whl (14 kB)\n",
      "Requirement already satisfied: cloudpickle in /usr/local/lib/python3.7/dist-packages (from shap->tempeh->aif360) (1.3.0)\n",
      "Requirement already satisfied: tqdm>4.25.0 in /usr/local/lib/python3.7/dist-packages (from shap->tempeh->aif360) (4.64.0)\n",
      "Requirement already satisfied: packaging>20.9 in /usr/local/lib/python3.7/dist-packages (from shap->tempeh->aif360) (21.3)\n",
      "Requirement already satisfied: llvmlite<0.35,>=0.34.0.dev0 in /usr/local/lib/python3.7/dist-packages (from numba->shap->tempeh->aif360) (0.34.0)\n",
      "Building wheels for collected packages: memory-profiler\n",
      "  Building wheel for memory-profiler (setup.py) ... \u001b[?25l\u001b[?25hdone\n",
      "  Created wheel for memory-profiler: filename=memory_profiler-0.60.0-py3-none-any.whl size=31284 sha256=0eaee7fd99ccbeb59680c69b3dcf9b5dcb883b391f4c24e3b2f570543c89c32f\n",
      "  Stored in directory: /root/.cache/pip/wheels/67/2b/fb/326e30d638c538e69a5eb0aa47f4223d979f502bbdb403950f\n",
      "Successfully built memory-profiler\n",
      "Installing collected packages: slicer, shap, memory-profiler, tempeh, aif360\n",
      "Successfully installed aif360-0.4.0 memory-profiler-0.60.0 shap-0.40.0 slicer-0.0.7 tempeh-0.1.12\n"
     ]
    }
   ],
   "source": [
    "!pip install 'aif360'"
   ]
  },
  {
   "cell_type": "code",
   "execution_count": 2,
   "metadata": {
    "colab": {
     "base_uri": "https://localhost:8080/"
    },
    "id": "YiIjcULsnh8r",
    "outputId": "0b05fa31-67f6-45f0-d8f2-9dfbf15986d8"
   },
   "outputs": [
    {
     "name": "stdout",
     "output_type": "stream",
     "text": [
      "/usr/local/lib/python3.7/dist-packages/aif360/data/raw/adult\n"
     ]
    }
   ],
   "source": [
    "cd /usr/local/lib/python3.7/dist-packages/aif360/data/raw/adult"
   ]
  },
  {
   "cell_type": "code",
   "execution_count": 3,
   "metadata": {
    "colab": {
     "base_uri": "https://localhost:8080/"
    },
    "id": "ZVsoVNLFnjt6",
    "outputId": "0fc3076e-9a9e-4bb9-ea9e-21615ed07110"
   },
   "outputs": [
    {
     "name": "stdout",
     "output_type": "stream",
     "text": [
      "--2022-05-11 10:48:14--  https://archive.ics.uci.edu/ml/machine-learning-databases/adult/adult.data\n",
      "Resolving archive.ics.uci.edu (archive.ics.uci.edu)... 128.195.10.252\n",
      "Connecting to archive.ics.uci.edu (archive.ics.uci.edu)|128.195.10.252|:443... connected.\n",
      "HTTP request sent, awaiting response... 200 OK\n",
      "Length: 3974305 (3.8M) [application/x-httpd-php]\n",
      "Saving to: ‘adult.data’\n",
      "\n",
      "adult.data          100%[===================>]   3.79M  16.2MB/s    in 0.2s    \n",
      "\n",
      "2022-05-11 10:48:14 (16.2 MB/s) - ‘adult.data’ saved [3974305/3974305]\n",
      "\n",
      "--2022-05-11 10:48:14--  https://archive.ics.uci.edu/ml/machine-learning-databases/adult/adult.names\n",
      "Resolving archive.ics.uci.edu (archive.ics.uci.edu)... 128.195.10.252\n",
      "Connecting to archive.ics.uci.edu (archive.ics.uci.edu)|128.195.10.252|:443... connected.\n",
      "HTTP request sent, awaiting response... 200 OK\n",
      "Length: 5229 (5.1K) [application/x-httpd-php]\n",
      "Saving to: ‘adult.names’\n",
      "\n",
      "adult.names         100%[===================>]   5.11K  --.-KB/s    in 0s      \n",
      "\n",
      "2022-05-11 10:48:14 (101 MB/s) - ‘adult.names’ saved [5229/5229]\n",
      "\n",
      "--2022-05-11 10:48:14--  https://archive.ics.uci.edu/ml/machine-learning-databases/adult/adult.test\n",
      "Resolving archive.ics.uci.edu (archive.ics.uci.edu)... 128.195.10.252\n",
      "Connecting to archive.ics.uci.edu (archive.ics.uci.edu)|128.195.10.252|:443... connected.\n",
      "HTTP request sent, awaiting response... 200 OK\n",
      "Length: 2003153 (1.9M) [application/x-httpd-php]\n",
      "Saving to: ‘adult.test’\n",
      "\n",
      "adult.test          100%[===================>]   1.91M  9.72MB/s    in 0.2s    \n",
      "\n",
      "2022-05-11 10:48:15 (9.72 MB/s) - ‘adult.test’ saved [2003153/2003153]\n",
      "\n"
     ]
    }
   ],
   "source": [
    "!wget https://archive.ics.uci.edu/ml/machine-learning-databases/adult/adult.data\n",
    "!wget https://archive.ics.uci.edu/ml/machine-learning-databases/adult/adult.names\n",
    "!wget https://archive.ics.uci.edu/ml/machine-learning-databases/adult/adult.test"
   ]
  },
  {
   "cell_type": "code",
   "execution_count": 4,
   "metadata": {
    "colab": {
     "base_uri": "https://localhost:8080/"
    },
    "id": "TI6z84iXnmGs",
    "outputId": "840449f1-0126-4d21-86db-73bb95d4e28f"
   },
   "outputs": [
    {
     "name": "stdout",
     "output_type": "stream",
     "text": [
      "Collecting fairlearn\n",
      "  Downloading fairlearn-0.7.0-py3-none-any.whl (177 kB)\n",
      "\u001b[?25l\r",
      "\u001b[K     |█▉                              | 10 kB 18.6 MB/s eta 0:00:01\r",
      "\u001b[K     |███▊                            | 20 kB 25.4 MB/s eta 0:00:01\r",
      "\u001b[K     |█████▌                          | 30 kB 15.5 MB/s eta 0:00:01\r",
      "\u001b[K     |███████▍                        | 40 kB 6.1 MB/s eta 0:00:01\r",
      "\u001b[K     |█████████▎                      | 51 kB 5.7 MB/s eta 0:00:01\r",
      "\u001b[K     |███████████                     | 61 kB 6.6 MB/s eta 0:00:01\r",
      "\u001b[K     |█████████████                   | 71 kB 7.5 MB/s eta 0:00:01\r",
      "\u001b[K     |██████████████▊                 | 81 kB 7.1 MB/s eta 0:00:01\r",
      "\u001b[K     |████████████████▋               | 92 kB 7.9 MB/s eta 0:00:01\r",
      "\u001b[K     |██████████████████▌             | 102 kB 7.0 MB/s eta 0:00:01\r",
      "\u001b[K     |████████████████████▎           | 112 kB 7.0 MB/s eta 0:00:01\r",
      "\u001b[K     |██████████████████████▏         | 122 kB 7.0 MB/s eta 0:00:01\r",
      "\u001b[K     |████████████████████████        | 133 kB 7.0 MB/s eta 0:00:01\r",
      "\u001b[K     |█████████████████████████▉      | 143 kB 7.0 MB/s eta 0:00:01\r",
      "\u001b[K     |███████████████████████████▊    | 153 kB 7.0 MB/s eta 0:00:01\r",
      "\u001b[K     |█████████████████████████████▌  | 163 kB 7.0 MB/s eta 0:00:01\r",
      "\u001b[K     |███████████████████████████████▍| 174 kB 7.0 MB/s eta 0:00:01\r",
      "\u001b[K     |████████████████████████████████| 177 kB 7.0 MB/s \n",
      "\u001b[?25hRequirement already satisfied: pandas>=0.25.1 in /usr/local/lib/python3.7/dist-packages (from fairlearn) (1.3.5)\n",
      "Requirement already satisfied: scikit-learn>=0.22.1 in /usr/local/lib/python3.7/dist-packages (from fairlearn) (1.0.2)\n",
      "Requirement already satisfied: numpy>=1.17.2 in /usr/local/lib/python3.7/dist-packages (from fairlearn) (1.21.6)\n",
      "Requirement already satisfied: scipy>=1.4.1 in /usr/local/lib/python3.7/dist-packages (from fairlearn) (1.4.1)\n",
      "Requirement already satisfied: pytz>=2017.3 in /usr/local/lib/python3.7/dist-packages (from pandas>=0.25.1->fairlearn) (2022.1)\n",
      "Requirement already satisfied: python-dateutil>=2.7.3 in /usr/local/lib/python3.7/dist-packages (from pandas>=0.25.1->fairlearn) (2.8.2)\n",
      "Requirement already satisfied: six>=1.5 in /usr/local/lib/python3.7/dist-packages (from python-dateutil>=2.7.3->pandas>=0.25.1->fairlearn) (1.15.0)\n",
      "Requirement already satisfied: joblib>=0.11 in /usr/local/lib/python3.7/dist-packages (from scikit-learn>=0.22.1->fairlearn) (1.1.0)\n",
      "Requirement already satisfied: threadpoolctl>=2.0.0 in /usr/local/lib/python3.7/dist-packages (from scikit-learn>=0.22.1->fairlearn) (3.1.0)\n",
      "Installing collected packages: fairlearn\n",
      "Successfully installed fairlearn-0.7.0\n"
     ]
    }
   ],
   "source": [
    "pip install fairlearn"
   ]
  },
  {
   "cell_type": "code",
   "execution_count": 5,
   "metadata": {
    "id": "1CdLBywZnos9"
   },
   "outputs": [],
   "source": [
    "from aif360.datasets import AdultDataset\n",
    "from aif360.algorithms.preprocessing.optim_preproc_helpers.data_preproc_functions import load_preproc_data_adult\n",
    "import numpy as np\n",
    "from sklearn.preprocessing import StandardScaler\n",
    "from aif360.metrics import ClassificationMetric\n",
    "from sklearn.model_selection import StratifiedKFold\n",
    "\n",
    "np.random.seed(4) #set random seed"
   ]
  },
  {
   "cell_type": "code",
   "execution_count": 6,
   "metadata": {
    "id": "OT2rsqLinsnw"
   },
   "outputs": [],
   "source": [
    "OG_dataset = load_preproc_data_adult(['sex']) #setting the protected attribute to sex \n",
    "\n",
    "OG_dataset_train, OG_dataset_test = OG_dataset.split([0.7], shuffle=True) \n",
    "\n",
    "privileged_groups = [{'sex': 1}] #Male\n",
    "unprivileged_groups = [{'sex': 0}] #Female\n",
    "\n",
    "#Normalise all the data (as per the lab class)\n",
    "scale = StandardScaler()\n",
    "X_train = scale.fit_transform(OG_dataset_train.features) #scales each feature/variable to unit variance\n",
    "y_train = OG_dataset_train.labels.ravel() #Flattens array\n",
    "\n",
    "X_test = scale.transform(OG_dataset_test.features) \n",
    "y_test = OG_dataset_test.labels.ravel() "
   ]
  },
  {
   "cell_type": "code",
   "execution_count": 7,
   "metadata": {
    "colab": {
     "base_uri": "https://localhost:8080/"
    },
    "id": "5-XIv6ap2PAl",
    "outputId": "fb979c64-a4c2-4133-cad0-875fdec8c8fc"
   },
   "outputs": [
    {
     "name": "stdout",
     "output_type": "stream",
     "text": [
      "               instance weights features                                      \\\n",
      "                                         protected attribute                   \n",
      "                                    race                 sex Age (decade)=10   \n",
      "instance names                                                                 \n",
      "0                           1.0      0.0                 1.0             0.0   \n",
      "1                           1.0      1.0                 1.0             0.0   \n",
      "2                           1.0      1.0                 1.0             0.0   \n",
      "3                           1.0      0.0                 1.0             0.0   \n",
      "4                           1.0      1.0                 0.0             1.0   \n",
      "...                         ...      ...                 ...             ...   \n",
      "48837                       1.0      1.0                 0.0             0.0   \n",
      "48838                       1.0      1.0                 1.0             0.0   \n",
      "48839                       1.0      1.0                 0.0             0.0   \n",
      "48840                       1.0      1.0                 1.0             0.0   \n",
      "48841                       1.0      1.0                 0.0             0.0   \n",
      "\n",
      "                                                                \\\n",
      "                                                                 \n",
      "               Age (decade)=20 Age (decade)=30 Age (decade)=40   \n",
      "instance names                                                   \n",
      "0                          1.0             0.0             0.0   \n",
      "1                          0.0             1.0             0.0   \n",
      "2                          1.0             0.0             0.0   \n",
      "3                          0.0             0.0             1.0   \n",
      "4                          0.0             0.0             0.0   \n",
      "...                        ...             ...             ...   \n",
      "48837                      1.0             0.0             0.0   \n",
      "48838                      0.0             0.0             1.0   \n",
      "48839                      0.0             0.0             0.0   \n",
      "48840                      1.0             0.0             0.0   \n",
      "48841                      0.0             0.0             0.0   \n",
      "\n",
      "                                                                  \\\n",
      "                                                                   \n",
      "               Age (decade)=50 Age (decade)=60 Age (decade)=>=70   \n",
      "instance names                                                     \n",
      "0                          0.0             0.0               0.0   \n",
      "1                          0.0             0.0               0.0   \n",
      "2                          0.0             0.0               0.0   \n",
      "3                          0.0             0.0               0.0   \n",
      "4                          0.0             0.0               0.0   \n",
      "...                        ...             ...               ...   \n",
      "48837                      0.0             0.0               0.0   \n",
      "48838                      0.0             0.0               0.0   \n",
      "48839                      1.0             0.0               0.0   \n",
      "48840                      0.0             0.0               0.0   \n",
      "48841                      1.0             0.0               0.0   \n",
      "\n",
      "                                                                      \\\n",
      "                                                                       \n",
      "               Education Years=6 Education Years=7 Education Years=8   \n",
      "instance names                                                         \n",
      "0                            0.0               1.0               0.0   \n",
      "1                            0.0               0.0               0.0   \n",
      "2                            0.0               0.0               0.0   \n",
      "3                            0.0               0.0               0.0   \n",
      "4                            0.0               0.0               0.0   \n",
      "...                          ...               ...               ...   \n",
      "48837                        0.0               0.0               0.0   \n",
      "48838                        0.0               0.0               0.0   \n",
      "48839                        0.0               0.0               0.0   \n",
      "48840                        0.0               0.0               0.0   \n",
      "48841                        0.0               0.0               0.0   \n",
      "\n",
      "                                                                        \\\n",
      "                                                                         \n",
      "               Education Years=9 Education Years=10 Education Years=11   \n",
      "instance names                                                           \n",
      "0                            0.0                0.0                0.0   \n",
      "1                            1.0                0.0                0.0   \n",
      "2                            0.0                0.0                0.0   \n",
      "3                            0.0                1.0                0.0   \n",
      "4                            0.0                1.0                0.0   \n",
      "...                          ...                ...                ...   \n",
      "48837                        0.0                0.0                0.0   \n",
      "48838                        1.0                0.0                0.0   \n",
      "48839                        1.0                0.0                0.0   \n",
      "48840                        1.0                0.0                0.0   \n",
      "48841                        1.0                0.0                0.0   \n",
      "\n",
      "                                                                          \\\n",
      "                                                                           \n",
      "               Education Years=12 Education Years=<6 Education Years=>12   \n",
      "instance names                                                             \n",
      "0                             0.0                0.0                 0.0   \n",
      "1                             0.0                0.0                 0.0   \n",
      "2                             1.0                0.0                 0.0   \n",
      "3                             0.0                0.0                 0.0   \n",
      "4                             0.0                0.0                 0.0   \n",
      "...                           ...                ...                 ...   \n",
      "48837                         1.0                0.0                 0.0   \n",
      "48838                         0.0                0.0                 0.0   \n",
      "48839                         0.0                0.0                 0.0   \n",
      "48840                         0.0                0.0                 0.0   \n",
      "48841                         0.0                0.0                 0.0   \n",
      "\n",
      "               labels  \n",
      "                       \n",
      "                       \n",
      "instance names         \n",
      "0                 0.0  \n",
      "1                 0.0  \n",
      "2                 1.0  \n",
      "3                 1.0  \n",
      "4                 0.0  \n",
      "...               ...  \n",
      "48837             0.0  \n",
      "48838             1.0  \n",
      "48839             0.0  \n",
      "48840             0.0  \n",
      "48841             1.0  \n",
      "\n",
      "[48842 rows x 20 columns]\n"
     ]
    }
   ],
   "source": [
    "print(OG_dataset) #find where the protected attribute sex is"
   ]
  },
  {
   "cell_type": "code",
   "execution_count": 8,
   "metadata": {
    "colab": {
     "base_uri": "https://localhost:8080/"
    },
    "id": "FfSW90eRioC8",
    "outputId": "4b1b69a7-56fc-4458-f031-471cf6ebd287"
   },
   "outputs": [
    {
     "name": "stdout",
     "output_type": "stream",
     "text": [
      "[[ 0.41135685  0.70369693 -0.23177581 ... -0.18309776 -0.23219587\n",
      "  -0.57477217]\n",
      " [ 0.41135685 -1.42106632 -0.23177581 ... -0.18309776 -0.23219587\n",
      "  -0.57477217]\n",
      " [ 0.41135685 -1.42106632 -0.23177581 ... -0.18309776 -0.23219587\n",
      "  -0.57477217]\n",
      " ...\n",
      " [ 0.41135685 -1.42106632 -0.23177581 ... -0.18309776 -0.23219587\n",
      "  -0.57477217]\n",
      " [ 0.41135685  0.70369693 -0.23177581 ... -0.18309776 -0.23219587\n",
      "  -0.57477217]\n",
      " [ 0.41135685  0.70369693 -0.23177581 ... -0.18309776 -0.23219587\n",
      "  -0.57477217]]\n"
     ]
    }
   ],
   "source": [
    "print(X_train)"
   ]
  },
  {
   "cell_type": "code",
   "execution_count": 9,
   "metadata": {
    "colab": {
     "base_uri": "https://localhost:8080/"
    },
    "id": "Kg8X1qaa1wpw",
    "outputId": "5ee079e2-caaf-436d-f443-df6790f0c029"
   },
   "outputs": [
    {
     "name": "stdout",
     "output_type": "stream",
     "text": [
      "(34189, 18)\n"
     ]
    }
   ],
   "source": [
    "print(X_train.shape)"
   ]
  },
  {
   "cell_type": "code",
   "execution_count": 10,
   "metadata": {
    "id": "PMJJfQLQ4CcV"
   },
   "outputs": [],
   "source": [
    "X_train = np.delete(X_train, (1,1), 1) #should delete the sex attribute "
   ]
  },
  {
   "cell_type": "code",
   "execution_count": 11,
   "metadata": {
    "colab": {
     "base_uri": "https://localhost:8080/"
    },
    "id": "PjrigFbq4yfj",
    "outputId": "9eebdce1-b780-4577-97d3-081a552b48fb"
   },
   "outputs": [
    {
     "name": "stdout",
     "output_type": "stream",
     "text": [
      "[[ 0.41135685 -0.23177581 -0.5748172  ... -0.18309776 -0.23219587\n",
      "  -0.57477217]\n",
      " [ 0.41135685 -0.23177581 -0.5748172  ... -0.18309776 -0.23219587\n",
      "  -0.57477217]\n",
      " [ 0.41135685 -0.23177581 -0.5748172  ... -0.18309776 -0.23219587\n",
      "  -0.57477217]\n",
      " ...\n",
      " [ 0.41135685 -0.23177581  1.73968349 ... -0.18309776 -0.23219587\n",
      "  -0.57477217]\n",
      " [ 0.41135685 -0.23177581 -0.5748172  ... -0.18309776 -0.23219587\n",
      "  -0.57477217]\n",
      " [ 0.41135685 -0.23177581 -0.5748172  ... -0.18309776 -0.23219587\n",
      "  -0.57477217]]\n"
     ]
    }
   ],
   "source": [
    "print(X_train) #checking i've deleted what i intended to "
   ]
  },
  {
   "cell_type": "code",
   "execution_count": 12,
   "metadata": {
    "colab": {
     "base_uri": "https://localhost:8080/"
    },
    "id": "vfULrb9t5D45",
    "outputId": "8a58c772-c176-4eb4-b0d7-74f6643c336e"
   },
   "outputs": [
    {
     "name": "stdout",
     "output_type": "stream",
     "text": [
      "(34189, 17)\n"
     ]
    }
   ],
   "source": [
    "print(X_train.shape)"
   ]
  },
  {
   "cell_type": "code",
   "execution_count": 13,
   "metadata": {
    "id": "AGsdX_dNzZ8y"
   },
   "outputs": [],
   "source": [
    "from numpy import mean\n",
    "from numpy import std\n",
    "from sklearn.model_selection import KFold\n",
    "from sklearn.model_selection import cross_val_score\n",
    "from sklearn.model_selection import cross_val_predict\n",
    "from sklearn.linear_model import LogisticRegression\n",
    "\n",
    "np.random.seed(4)"
   ]
  },
  {
   "cell_type": "code",
   "execution_count": 14,
   "metadata": {
    "colab": {
     "base_uri": "https://localhost:8080/"
    },
    "id": "xgGttOmuzU_W",
    "outputId": "2f397a79-6240-4387-c8b4-2521983ad688"
   },
   "outputs": [
    {
     "name": "stdout",
     "output_type": "stream",
     "text": [
      "Accuracy: 0.789  Standard deviation: 0.004\n"
     ]
    }
   ],
   "source": [
    "#same process as before \n",
    "\n",
    "Cross_Validation = StratifiedKFold(n_splits=5, shuffle=True, random_state=1)\n",
    "Model = LogisticRegression(solver='liblinear', random_state=1)\n",
    "\n",
    "Scores = cross_val_score(Model, X_train, y_train, scoring='accuracy', cv=Cross_Validation)\n",
    "\n",
    "print('Accuracy: %.3f  Standard deviation: %.3f' % (mean(Scores), std(Scores)))"
   ]
  },
  {
   "cell_type": "code",
   "execution_count": 15,
   "metadata": {
    "colab": {
     "base_uri": "https://localhost:8080/"
    },
    "id": "hb-rqxuK8pA6",
    "outputId": "06001dcc-bb97-449d-96c1-91aa1666f302"
   },
   "outputs": [
    {
     "name": "stdout",
     "output_type": "stream",
     "text": [
      "C value = 100000  Accuracy: 0.789\n",
      "C value = 1000  Accuracy: 0.789\n",
      "C value = 10  Accuracy: 0.789\n",
      "C value = 1.0  Accuracy: 0.789\n",
      "C value = 0.01  Accuracy: 0.789\n",
      "C value = 0.0001  Accuracy: 0.789\n",
      "C value = 1e-06  Accuracy: 0.788\n",
      "C value = 1e-08  Accuracy: 0.788\n",
      "The model with the highest accuracy has a C value of:  0.0001\n"
     ]
    }
   ],
   "source": [
    "C_Values=[100000, 1000, 10, 1.0, 0.01, 0.0001, 0.000001, 0.00000001]\n",
    "\n",
    "my_dict = {}\n",
    "accuracy = []\n",
    "\n",
    "for i in C_Values:\n",
    "  Model = LogisticRegression(C=i, solver='liblinear')\n",
    "  Scores = cross_val_score(Model, X_train, y_train, scoring='accuracy', cv=Cross_Validation)\n",
    "  print(\"C value = \" +  str(i) + '  Accuracy: %.3f' % (mean(Scores)))\n",
    "  accuracy.append(mean(Scores))\n",
    "\n",
    "for i in range(len(C_Values)):\n",
    "    my_dict[C_Values[i]] = accuracy[i]\n",
    "\n",
    "find_best_accuracy = max(my_dict, key=my_dict.get)\n",
    "\n",
    "print( \"The model with the highest accuracy has a C value of: \", find_best_accuracy)"
   ]
  },
  {
   "cell_type": "code",
   "execution_count": 17,
   "metadata": {
    "colab": {
     "base_uri": "https://localhost:8080/"
    },
    "id": "659Bugi-8qwG",
    "outputId": "a4bb824c-9963-491f-e6e6-c59bf168b07a"
   },
   "outputs": [
    {
     "name": "stdout",
     "output_type": "stream",
     "text": [
      "C value = 100000  Equality_of_Opportunity score: -0.015\n",
      "C value = 1000  Equality_of_Opportunity score: -0.015\n",
      "C value = 10  Equality_of_Opportunity score: -0.015\n",
      "C value = 1.0  Equality_of_Opportunity score: -0.015\n",
      "C value = 0.01  Equality_of_Opportunity score: -0.015\n",
      "C value = 0.0001  Equality_of_Opportunity score: 0.005\n",
      "C value = 1e-06  Equality_of_Opportunity score: 0.003\n",
      "C value = 1e-08  Equality_of_Opportunity score: 0.003\n",
      "The model with the highest fairness has a C value of:  1e-06\n"
     ]
    }
   ],
   "source": [
    "C_Values=[100000, 1000, 10, 1.0, 0.01, 0.0001, 0.000001, 0.00000001]\n",
    "\n",
    "my_dict = {}\n",
    "fairness = []\n",
    "value=0\n",
    "\n",
    "for i in C_Values:\n",
    "  Model = LogisticRegression(C=i, solver='liblinear')\n",
    "  Scores = cross_val_score(Model, X_train, y_train, scoring='accuracy', cv=Cross_Validation)\n",
    "\n",
    "  predictions = cross_val_predict(Model, X_train, y_train, cv=Cross_Validation)\n",
    "\n",
    "  train_predictions = OG_dataset_train.copy()\n",
    "  train_predictions.labels = predictions\n",
    "\n",
    "  Metric = ClassificationMetric(OG_dataset_train, train_predictions , unprivileged_groups=unprivileged_groups, privileged_groups=privileged_groups)\n",
    "  Equal_of_Opp = Metric.equal_opportunity_difference()\n",
    "  print(\"C value = \" +  str(i) + '  Equality_of_Opportunity score: %.3f' % Equal_of_Opp)\n",
    "  fairness.append(Equal_of_Opp)\n",
    "\n",
    "for i in range(len(C_Values)):\n",
    "    my_dict[C_Values[i]] = fairness[i]\n",
    "\n",
    "fair_key, fair_val = min(my_dict.items(), key=lambda x: abs(value - x[1]))\n",
    "\n",
    "print( \"The model with the highest fairness has a C value of: \", fair_key)"
   ]
  },
  {
   "cell_type": "code",
   "execution_count": 18,
   "metadata": {
    "id": "79f-D8dd9JW2"
   },
   "outputs": [],
   "source": [
    "X_test = np.delete(X_test, (1,1), 1)"
   ]
  },
  {
   "cell_type": "code",
   "execution_count": 19,
   "metadata": {
    "id": "9XDVC1IBsmnw"
   },
   "outputs": [],
   "source": [
    "Accurate_model = find_best_accuracy\n",
    "Fair_model = fair_key"
   ]
  },
  {
   "cell_type": "code",
   "execution_count": 20,
   "metadata": {
    "colab": {
     "base_uri": "https://localhost:8080/"
    },
    "id": "rq-I9F0I88H4",
    "outputId": "e13d02b2-df7a-414e-8c8f-6a00db1d7f62"
   },
   "outputs": [
    {
     "name": "stdout",
     "output_type": "stream",
     "text": [
      "C value =  0.0001\n",
      "Accuracy 0.7911007984713028\n",
      "Equality_of_Opportunity score: -0.003\n"
     ]
    }
   ],
   "source": [
    "print(\"C value = \", Accurate_model)\n",
    "Model = LogisticRegression(C=Accurate_model, solver='liblinear')\n",
    "Model.fit(X_train, y_train)\n",
    "predictions = Model.predict(X_test)\n",
    "\n",
    "test_predictions = OG_dataset_test.copy()\n",
    "test_predictions.labels = predictions\n",
    "print(\"Accuracy\", sum(predictions==y_test)/len(y_test))\n",
    "\n",
    "Metric = ClassificationMetric(OG_dataset_test, test_predictions , unprivileged_groups=unprivileged_groups, privileged_groups=privileged_groups)\n",
    "Equal_of_Opp = Metric.equal_opportunity_difference()\n",
    "print('Equality_of_Opportunity score: %.3f' % Equal_of_Opp)"
   ]
  },
  {
   "cell_type": "code",
   "execution_count": 21,
   "metadata": {
    "colab": {
     "base_uri": "https://localhost:8080/"
    },
    "id": "1cwR77hRs1-O",
    "outputId": "c500563f-08aa-45c5-a3c0-ed25da62937a"
   },
   "outputs": [
    {
     "name": "stdout",
     "output_type": "stream",
     "text": [
      "C value =  1e-06\n",
      "Accuracy 0.7906230805978298\n",
      "Equality_of_Opportunity score: -0.003\n"
     ]
    }
   ],
   "source": [
    "print(\"C value = \", Fair_model)\n",
    "Model = LogisticRegression(C=Fair_model, solver='liblinear')\n",
    "Model.fit(X_train, y_train)\n",
    "predictions = Model.predict(X_test)\n",
    "\n",
    "test_predictions = OG_dataset_test.copy()\n",
    "test_predictions.labels = predictions\n",
    "print(\"Accuracy\", sum(predictions==y_test)/len(y_test))\n",
    "\n",
    "Metric = ClassificationMetric(OG_dataset_test, test_predictions , unprivileged_groups=unprivileged_groups, privileged_groups=privileged_groups)\n",
    "Equal_of_Opp = Metric.equal_opportunity_difference()\n",
    "print('Equality_of_Opportunity score: %.3f' % Equal_of_Opp)"
   ]
  },
  {
   "cell_type": "code",
   "execution_count": 22,
   "metadata": {
    "colab": {
     "base_uri": "https://localhost:8080/",
     "height": 541
    },
    "id": "p4_miaw66WJ4",
    "outputId": "94de5c24-7c06-4cf8-fefa-827f059c446e"
   },
   "outputs": [
    {
     "data": {
      "image/png": "[encoded data removed]",
      "text/plain": [
       "<Figure size 432x288 with 1 Axes>"
      ]
     },
     "metadata": {
      "needs_background": "light"
     },
     "output_type": "display_data"
    },
    {
     "data": {
      "image/png": "[encoded data removed]",
      "text/plain": [
       "<Figure size 432x288 with 1 Axes>"
      ]
     },
     "metadata": {
      "needs_background": "light"
     },
     "output_type": "display_data"
    }
   ],
   "source": [
    "from sklearn.metrics import roc_curve\n",
    "from sklearn.metrics import RocCurveDisplay\n",
    "from sklearn.metrics import precision_recall_curve\n",
    "from sklearn.metrics import PrecisionRecallDisplay\n",
    "\n",
    "y_score = Model.decision_function(X_test)\n",
    "\n",
    "fpr, tpr, _ = roc_curve(y_test, y_score, pos_label=Model.classes_[1])\n",
    "roc_display = RocCurveDisplay(fpr=fpr, tpr=tpr).plot()\n",
    "\n",
    "prec, recall, _ = precision_recall_curve(y_test, y_score, pos_label=Model.classes_[1])\n",
    "pr_display = PrecisionRecallDisplay(precision=prec, recall=recall).plot()"
   ]
  },
  {
   "cell_type": "code",
   "execution_count": 22,
   "metadata": {
    "id": "8seDHold6WW2"
   },
   "outputs": [],
   "source": []
  },
  {
   "cell_type": "code",
   "execution_count": 22,
   "metadata": {
    "id": "8UzC9leO5vIO"
   },
   "outputs": [],
   "source": []
  },
  {
   "cell_type": "code",
   "execution_count": 23,
   "metadata": {
    "colab": {
     "base_uri": "https://localhost:8080/"
    },
    "id": "fkTy4rLD-DHZ",
    "outputId": "3f630e65-aec8-4673-8e0c-5230603d8fa2"
   },
   "outputs": [
    {
     "name": "stdout",
     "output_type": "stream",
     "text": [
      "/usr/local/lib/python3.7/dist-packages/aif360/data/raw/german\n"
     ]
    }
   ],
   "source": [
    "cd /usr/local/lib/python3.7/dist-packages/aif360/data/raw/german"
   ]
  },
  {
   "cell_type": "code",
   "execution_count": 24,
   "metadata": {
    "colab": {
     "base_uri": "https://localhost:8080/"
    },
    "id": "1P6r2QG5-I6j",
    "outputId": "4cf3e32f-cad5-4e53-9e17-a507b6d07751"
   },
   "outputs": [
    {
     "name": "stdout",
     "output_type": "stream",
     "text": [
      "--2022-05-11 10:48:59--  https://archive.ics.uci.edu/ml/machine-learning-databases/statlog/german/german.data\n",
      "Resolving archive.ics.uci.edu (archive.ics.uci.edu)... 128.195.10.252\n",
      "Connecting to archive.ics.uci.edu (archive.ics.uci.edu)|128.195.10.252|:443... connected.\n",
      "HTTP request sent, awaiting response... 200 OK\n",
      "Length: 79793 (78K) [application/x-httpd-php]\n",
      "Saving to: ‘german.data’\n",
      "\n",
      "german.data         100%[===================>]  77.92K  --.-KB/s    in 0.05s   \n",
      "\n",
      "2022-05-11 10:48:59 (1.40 MB/s) - ‘german.data’ saved [79793/79793]\n",
      "\n"
     ]
    }
   ],
   "source": [
    "!wget https://archive.ics.uci.edu/ml/machine-learning-databases/statlog/german/german.data"
   ]
  },
  {
   "cell_type": "code",
   "execution_count": 25,
   "metadata": {
    "id": "-aIuDzdJ-LYn"
   },
   "outputs": [],
   "source": [
    "from aif360.datasets import GermanDataset\n",
    "from aif360.algorithms.preprocessing.optim_preproc_helpers.data_preproc_functions import load_preproc_data_german\n",
    "\n",
    "np.random.seed(4)"
   ]
  },
  {
   "cell_type": "code",
   "execution_count": 26,
   "metadata": {
    "id": "Yi6FR-x4-O4l"
   },
   "outputs": [],
   "source": [
    "OG_dataset = load_preproc_data_german(['age']) #setting the protected attribute to age\n",
    "\n",
    "OG_dataset_train, OG_dataset_test = OG_dataset.split([0.7], shuffle=True) \n",
    "\n",
    "privileged_groups2 = [{'age': 1}] #Over 25\n",
    "unprivileged_groups2 = [{'age': 0}] #Under 25\n",
    "\n",
    "#Normalise all the data (as per the lab class)\n",
    "scale = StandardScaler()\n",
    "X_train = scale.fit_transform(OG_dataset_train.features) #scales each feature/variable to unit variance\n",
    "y_train = OG_dataset_train.labels.ravel() #Flattens array\n",
    "\n",
    "X_test = scale.transform(OG_dataset_test.features) \n",
    "y_test = OG_dataset_test.labels.ravel()"
   ]
  },
  {
   "cell_type": "code",
   "execution_count": 27,
   "metadata": {
    "colab": {
     "base_uri": "https://localhost:8080/"
    },
    "id": "pLO3Pvec-VBX",
    "outputId": "82593786-9fe1-46f8-9577-c6be5c2afd7a"
   },
   "outputs": [
    {
     "name": "stdout",
     "output_type": "stream",
     "text": [
      "               instance weights            features                            \\\n",
      "                                protected attribute                             \n",
      "                                                age  sex credit_history=Delay   \n",
      "instance names                                                                  \n",
      "0                           1.0                 1.0  1.0                  0.0   \n",
      "1                           1.0                 0.0  0.0                  0.0   \n",
      "2                           1.0                 1.0  1.0                  0.0   \n",
      "3                           1.0                 1.0  1.0                  0.0   \n",
      "4                           1.0                 1.0  1.0                  1.0   \n",
      "...                         ...                 ...  ...                  ...   \n",
      "995                         1.0                 1.0  0.0                  0.0   \n",
      "996                         1.0                 1.0  1.0                  0.0   \n",
      "997                         1.0                 1.0  1.0                  0.0   \n",
      "998                         1.0                 0.0  1.0                  0.0   \n",
      "999                         1.0                 1.0  1.0                  0.0   \n",
      "\n",
      "                                                                           \\\n",
      "                                                                            \n",
      "               credit_history=None/Paid credit_history=Other savings=500+   \n",
      "instance names                                                              \n",
      "0                                   0.0                  1.0          0.0   \n",
      "1                                   1.0                  0.0          0.0   \n",
      "2                                   0.0                  1.0          0.0   \n",
      "3                                   1.0                  0.0          0.0   \n",
      "4                                   0.0                  0.0          0.0   \n",
      "...                                 ...                  ...          ...   \n",
      "995                                 1.0                  0.0          0.0   \n",
      "996                                 1.0                  0.0          0.0   \n",
      "997                                 1.0                  0.0          0.0   \n",
      "998                                 1.0                  0.0          0.0   \n",
      "999                                 0.0                  1.0          0.0   \n",
      "\n",
      "                                                                       \\\n",
      "                                                                        \n",
      "               savings=<500 savings=Unknown/None employment=1-4 years   \n",
      "instance names                                                          \n",
      "0                       0.0                  1.0                  0.0   \n",
      "1                       1.0                  0.0                  1.0   \n",
      "2                       1.0                  0.0                  0.0   \n",
      "3                       1.0                  0.0                  0.0   \n",
      "4                       1.0                  0.0                  1.0   \n",
      "...                     ...                  ...                  ...   \n",
      "995                     1.0                  0.0                  0.0   \n",
      "996                     1.0                  0.0                  1.0   \n",
      "997                     1.0                  0.0                  0.0   \n",
      "998                     1.0                  0.0                  1.0   \n",
      "999                     1.0                  0.0                  0.0   \n",
      "\n",
      "                                                         labels  \n",
      "                                                                 \n",
      "               employment=4+ years employment=Unemployed         \n",
      "instance names                                                   \n",
      "0                              1.0                   0.0    1.0  \n",
      "1                              0.0                   0.0    2.0  \n",
      "2                              1.0                   0.0    1.0  \n",
      "3                              1.0                   0.0    1.0  \n",
      "4                              0.0                   0.0    2.0  \n",
      "...                            ...                   ...    ...  \n",
      "995                            1.0                   0.0    1.0  \n",
      "996                            0.0                   0.0    1.0  \n",
      "997                            1.0                   0.0    1.0  \n",
      "998                            0.0                   0.0    2.0  \n",
      "999                            0.0                   1.0    1.0  \n",
      "\n",
      "[1000 rows x 13 columns]\n"
     ]
    }
   ],
   "source": [
    "print(OG_dataset) #checking where the age attribute is"
   ]
  },
  {
   "cell_type": "code",
   "execution_count": 28,
   "metadata": {
    "colab": {
     "base_uri": "https://localhost:8080/"
    },
    "id": "2GsxV1va26Be",
    "outputId": "56e53c97-6236-4476-b9de-79502e8db7d8"
   },
   "outputs": [
    {
     "name": "stdout",
     "output_type": "stream",
     "text": [
      "[[-2.04577252  0.6882472  -0.31173496 ...  0.99430195 -0.87617165\n",
      "  -0.25898489]\n",
      " [ 0.4888129  -1.45296631 -0.31173496 ...  0.99430195 -0.87617165\n",
      "  -0.25898489]\n",
      " [ 0.4888129   0.6882472  -0.31173496 ... -1.00573071  1.14132887\n",
      "  -0.25898489]\n",
      " ...\n",
      " [ 0.4888129   0.6882472  -0.31173496 ... -1.00573071  1.14132887\n",
      "  -0.25898489]\n",
      " [ 0.4888129   0.6882472  -0.31173496 ... -1.00573071  1.14132887\n",
      "  -0.25898489]\n",
      " [ 0.4888129   0.6882472  -0.31173496 ... -1.00573071  1.14132887\n",
      "  -0.25898489]]\n"
     ]
    }
   ],
   "source": [
    "print(X_train)"
   ]
  },
  {
   "cell_type": "code",
   "execution_count": 29,
   "metadata": {
    "colab": {
     "base_uri": "https://localhost:8080/"
    },
    "id": "nWOHwrSF21-Z",
    "outputId": "7dbdd720-7f45-4f25-e4b8-ba1c1aeec6de"
   },
   "outputs": [
    {
     "data": {
      "text/plain": [
       "(700, 11)"
      ]
     },
     "execution_count": 29,
     "metadata": {},
     "output_type": "execute_result"
    }
   ],
   "source": [
    "X_train.shape"
   ]
  },
  {
   "cell_type": "code",
   "execution_count": 30,
   "metadata": {
    "id": "nemTR4wT-hRy"
   },
   "outputs": [],
   "source": [
    "X_train = np.delete(X_train, (0, 0), 1) #delete age attribute"
   ]
  },
  {
   "cell_type": "code",
   "execution_count": 31,
   "metadata": {
    "colab": {
     "base_uri": "https://localhost:8080/"
    },
    "id": "o-47MQ1_2vMK",
    "outputId": "0b73b6df-7129-419c-9891-cdc1b590cad4"
   },
   "outputs": [
    {
     "data": {
      "text/plain": [
       "(700, 10)"
      ]
     },
     "execution_count": 31,
     "metadata": {},
     "output_type": "execute_result"
    }
   ],
   "source": [
    "X_train.shape"
   ]
  },
  {
   "cell_type": "code",
   "execution_count": 32,
   "metadata": {
    "colab": {
     "base_uri": "https://localhost:8080/"
    },
    "id": "WCMqLDna-lZ5",
    "outputId": "fdf5dc52-ab00-4936-be96-46685418e604"
   },
   "outputs": [
    {
     "name": "stdout",
     "output_type": "stream",
     "text": [
      "Accuracy: 0.707  Standard deviation: 0.006\n"
     ]
    }
   ],
   "source": [
    "Cross_Validation = StratifiedKFold(n_splits=5, shuffle=True, random_state=1)\n",
    "Model = LogisticRegression(solver='liblinear', random_state=1)\n",
    "\n",
    "Scores = cross_val_score(Model, X_train, y_train, scoring='accuracy', cv=Cross_Validation)\n",
    "print('Accuracy: %.3f  Standard deviation: %.3f' % (mean(Scores), std(Scores)))"
   ]
  },
  {
   "cell_type": "code",
   "execution_count": 33,
   "metadata": {
    "colab": {
     "base_uri": "https://localhost:8080/"
    },
    "id": "PT-nWiFQ-qdU",
    "outputId": "460ac27f-8297-4bfc-d35c-e595b3d6badb"
   },
   "outputs": [
    {
     "name": "stdout",
     "output_type": "stream",
     "text": [
      "C value = 100000  Accuracy: 0.707\n",
      "C value = 1000  Accuracy: 0.707\n",
      "C value = 10  Accuracy: 0.707\n",
      "C value = 1.0  Accuracy: 0.707\n",
      "C value = 0.01  Accuracy: 0.674\n",
      "C value = 0.0001  Accuracy: 0.673\n",
      "C value = 1e-06  Accuracy: 0.673\n",
      "C value = 1e-08  Accuracy: 0.673\n",
      "The model with the highest accuracy has a C value of:  100000\n"
     ]
    }
   ],
   "source": [
    "C_Values=[100000, 1000, 10, 1.0, 0.01, 0.0001, 0.000001, 0.00000001]\n",
    "\n",
    "my_dict = {}\n",
    "accuracy = []\n",
    "\n",
    "for i in C_Values:\n",
    "  Model = LogisticRegression(C=i, solver='liblinear')\n",
    "  Scores = cross_val_score(Model, X_train, y_train, scoring='accuracy', cv=Cross_Validation)\n",
    "  print(\"C value = \" +  str(i) + '  Accuracy: %.3f' % (mean(Scores)))\n",
    "  accuracy.append(mean(Scores))\n",
    "\n",
    "for i in range(len(C_Values)):\n",
    "    my_dict[C_Values[i]] = accuracy[i]\n",
    "\n",
    "find_best_accuracy = max(my_dict, key=my_dict.get)\n",
    "\n",
    "print( \"The model with the highest accuracy has a C value of: \", find_best_accuracy)"
   ]
  },
  {
   "cell_type": "code",
   "execution_count": 34,
   "metadata": {
    "colab": {
     "base_uri": "https://localhost:8080/"
    },
    "id": "5f-iRSnb-ubA",
    "outputId": "9741f06d-f6ec-41ab-c7d3-385ce3149b12"
   },
   "outputs": [
    {
     "name": "stdout",
     "output_type": "stream",
     "text": [
      "C value = 100000  Equality_of_Opportunity score: 0.010\n",
      "C value = 1000  Equality_of_Opportunity score: 0.010\n",
      "C value = 10  Equality_of_Opportunity score: 0.010\n",
      "C value = 1.0  Equality_of_Opportunity score: 0.010\n",
      "C value = 0.01  Equality_of_Opportunity score: -0.029\n",
      "C value = 0.0001  Equality_of_Opportunity score: -0.092\n",
      "C value = 1e-06  Equality_of_Opportunity score: -0.092\n",
      "C value = 1e-08  Equality_of_Opportunity score: -0.092\n",
      "The model with the highest fairness has a C value of:  100000\n"
     ]
    }
   ],
   "source": [
    "C_Values=[100000, 1000, 10, 1.0, 0.01, 0.0001, 0.000001, 0.00000001]\n",
    "\n",
    "my_dict = {}\n",
    "fairness = []\n",
    "value=0\n",
    "\n",
    "for i in C_Values:\n",
    "  Model = LogisticRegression(C=i, solver='liblinear')\n",
    "  Scores = cross_val_score(Model, X_train, y_train, scoring='accuracy', cv=Cross_Validation)\n",
    "\n",
    "  predictions = cross_val_predict(Model, X_train, y_train, cv=Cross_Validation)\n",
    "\n",
    "  train_predictions = OG_dataset_train.copy()\n",
    "  train_predictions.labels = predictions\n",
    "\n",
    "  Metric = ClassificationMetric(OG_dataset_train, train_predictions , unprivileged_groups=unprivileged_groups2, privileged_groups=privileged_groups2)\n",
    "  Equal_of_Opp = Metric.equal_opportunity_difference()\n",
    "  print(\"C value = \" +  str(i) + '  Equality_of_Opportunity score: %.3f' % Equal_of_Opp)\n",
    "  fairness.append(Equal_of_Opp)\n",
    "\n",
    "for i in range(len(C_Values)):\n",
    "    my_dict[C_Values[i]] = fairness[i]\n",
    "\n",
    "fair_key, fair_val = min(my_dict.items(), key=lambda x: abs(value - x[1]))\n",
    "\n",
    "print( \"The model with the highest fairness has a C value of: \", fair_key)"
   ]
  },
  {
   "cell_type": "code",
   "execution_count": 35,
   "metadata": {
    "id": "mTQr_fEd-9vS"
   },
   "outputs": [],
   "source": [
    "X_test = np.delete(X_test, (0,0), 1) "
   ]
  },
  {
   "cell_type": "code",
   "execution_count": 36,
   "metadata": {
    "id": "Tk0cTejU4ALG"
   },
   "outputs": [],
   "source": [
    "Accurate_model = find_best_accuracy\n",
    "Fair_model = fair_key"
   ]
  },
  {
   "cell_type": "code",
   "execution_count": 37,
   "metadata": {
    "colab": {
     "base_uri": "https://localhost:8080/"
    },
    "id": "NCCC8h1d---v",
    "outputId": "a5098f2e-d9c3-4dcd-9db2-eaecf3397c37"
   },
   "outputs": [
    {
     "name": "stdout",
     "output_type": "stream",
     "text": [
      "C value =  100000\n",
      "Accuracy 0.68\n",
      "Equality_of_Opportunity score: -0.034\n"
     ]
    }
   ],
   "source": [
    "print(\"C value = \", Accurate_model)\n",
    "Model = LogisticRegression(C=Accurate_model, solver='liblinear')\n",
    "Model.fit(X_train, y_train)\n",
    "predictions = Model.predict(X_test)\n",
    "\n",
    "test_predictions = OG_dataset_test.copy()\n",
    "test_predictions.labels = predictions\n",
    "print(\"Accuracy\", sum(predictions==y_test)/len(y_test))\n",
    "\n",
    "Metric = ClassificationMetric(OG_dataset_test, test_predictions , unprivileged_groups=unprivileged_groups2, privileged_groups=privileged_groups2)\n",
    "Equal_of_Opp = Metric.equal_opportunity_difference()\n",
    "print('Equality_of_Opportunity score: %.3f' % Equal_of_Opp)"
   ]
  },
  {
   "cell_type": "code",
   "execution_count": 38,
   "metadata": {
    "colab": {
     "base_uri": "https://localhost:8080/"
    },
    "id": "RAtXVcgh4K6Y",
    "outputId": "6d261117-0c47-4b55-cadc-fbebd01d368e"
   },
   "outputs": [
    {
     "name": "stdout",
     "output_type": "stream",
     "text": [
      "C value =  100000\n",
      "Accuracy 0.68\n",
      "Equality_of_Opportunity score: -0.034\n"
     ]
    }
   ],
   "source": [
    "print(\"C value = \", Fair_model)\n",
    "Model = LogisticRegression(C=Fair_model, solver='liblinear')\n",
    "Model.fit(X_train, y_train)\n",
    "predictions = Model.predict(X_test)\n",
    "\n",
    "test_predictions = OG_dataset_test.copy()\n",
    "test_predictions.labels = predictions\n",
    "print(\"Accuracy\", sum(predictions==y_test)/len(y_test))\n",
    "\n",
    "Metric = ClassificationMetric(OG_dataset_test, test_predictions , unprivileged_groups=unprivileged_groups2, privileged_groups=privileged_groups2)\n",
    "Equal_of_Opp = Metric.equal_opportunity_difference()\n",
    "print('Equality_of_Opportunity score: %.3f' % Equal_of_Opp)"
   ]
  },
  {
   "cell_type": "code",
   "execution_count": 39,
   "metadata": {
    "colab": {
     "base_uri": "https://localhost:8080/",
     "height": 541
    },
    "id": "dLlrzC9r_jBD",
    "outputId": "fc7bdf16-483c-4cc4-c00b-5673a966fa66"
   },
   "outputs": [
    {
     "data": {
      "image/png": "[encoded data removed]",
      "text/plain": [
       "<Figure size 432x288 with 1 Axes>"
      ]
     },
     "metadata": {
      "needs_background": "light"
     },
     "output_type": "display_data"
    },
    {
     "data": {
      "image/png": "[encoded data removed]",
      "text/plain": [
       "<Figure size 432x288 with 1 Axes>"
      ]
     },
     "metadata": {
      "needs_background": "light"
     },
     "output_type": "display_data"
    }
   ],
   "source": [
    "y_score = Model.decision_function(X_test)\n",
    "\n",
    "fpr, tpr, _ = roc_curve(y_test, y_score, pos_label=Model.classes_[1])\n",
    "roc_display = RocCurveDisplay(fpr=fpr, tpr=tpr).plot()\n",
    "\n",
    "prec, recall, _ = precision_recall_curve(y_test, y_score, pos_label=Model.classes_[1])\n",
    "pr_display = PrecisionRecallDisplay(precision=prec, recall=recall).plot()"
   ]
  }
 ],
 "metadata": {
  "colab": {
   "collapsed_sections": [],
   "name": "Fairness through unawareness.ipynb",
   "provenance": []
  },
  "kernelspec": {
   "display_name": "Python 3",
   "language": "python",
   "name": "python3"
  },
  "language_info": {
   "codemirror_mode": {
    "name": "ipython",
    "version": 3
   },
   "file_extension": ".py",
   "mimetype": "text/x-python",
   "name": "python",
   "nbconvert_exporter": "python",
   "pygments_lexer": "ipython3",
   "version": "3.8.3"
  }
 },
 "nbformat": 4,
 "nbformat_minor": 1
}
