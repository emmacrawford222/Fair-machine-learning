{
  "nbformat": 4,
  "nbformat_minor": 0,
  "metadata": {
    "colab": {
      "name": "Two attributes.ipynb",
      "provenance": [],
      "collapsed_sections": []
    },
    "kernelspec": {
      "name": "python3",
      "display_name": "Python 3"
    },
    "language_info": {
      "name": "python"
    }
  },
  "cells": [
    {
      "cell_type": "code",
      "execution_count": 1,
      "metadata": {
        "colab": {
          "base_uri": "https://localhost:8080/"
        },
        "id": "s-ZAY9R6Ax_R",
        "outputId": "79c1a9b5-f9f1-48c2-e853-a02a8e3012f7"
      },
      "outputs": [
        {
          "output_type": "stream",
          "name": "stdout",
          "text": [
            "Collecting aif360\n",
            "  Downloading aif360-0.4.0-py3-none-any.whl (175 kB)\n",
            "\u001b[?25l\r\u001b[K     |█▉                              | 10 kB 21.8 MB/s eta 0:00:01\r\u001b[K     |███▊                            | 20 kB 12.7 MB/s eta 0:00:01\r\u001b[K     |█████▋                          | 30 kB 9.8 MB/s eta 0:00:01\r\u001b[K     |███████▌                        | 40 kB 8.8 MB/s eta 0:00:01\r\u001b[K     |█████████▍                      | 51 kB 4.3 MB/s eta 0:00:01\r\u001b[K     |███████████▎                    | 61 kB 5.0 MB/s eta 0:00:01\r\u001b[K     |█████████████                   | 71 kB 5.7 MB/s eta 0:00:01\r\u001b[K     |███████████████                 | 81 kB 4.3 MB/s eta 0:00:01\r\u001b[K     |████████████████▉               | 92 kB 4.8 MB/s eta 0:00:01\r\u001b[K     |██████████████████▊             | 102 kB 5.3 MB/s eta 0:00:01\r\u001b[K     |████████████████████▋           | 112 kB 5.3 MB/s eta 0:00:01\r\u001b[K     |██████████████████████▌         | 122 kB 5.3 MB/s eta 0:00:01\r\u001b[K     |████████████████████████▎       | 133 kB 5.3 MB/s eta 0:00:01\r\u001b[K     |██████████████████████████▏     | 143 kB 5.3 MB/s eta 0:00:01\r\u001b[K     |████████████████████████████    | 153 kB 5.3 MB/s eta 0:00:01\r\u001b[K     |██████████████████████████████  | 163 kB 5.3 MB/s eta 0:00:01\r\u001b[K     |███████████████████████████████▉| 174 kB 5.3 MB/s eta 0:00:01\r\u001b[K     |████████████████████████████████| 175 kB 5.3 MB/s \n",
            "\u001b[?25hRequirement already satisfied: numpy>=1.16 in /usr/local/lib/python3.7/dist-packages (from aif360) (1.21.6)\n",
            "Requirement already satisfied: scipy<1.6.0,>=1.2.0 in /usr/local/lib/python3.7/dist-packages (from aif360) (1.4.1)\n",
            "Requirement already satisfied: scikit-learn>=0.22.1 in /usr/local/lib/python3.7/dist-packages (from aif360) (1.0.2)\n",
            "Requirement already satisfied: pandas>=0.24.0 in /usr/local/lib/python3.7/dist-packages (from aif360) (1.3.5)\n",
            "Requirement already satisfied: matplotlib in /usr/local/lib/python3.7/dist-packages (from aif360) (3.2.2)\n",
            "Collecting tempeh\n",
            "  Downloading tempeh-0.1.12-py3-none-any.whl (39 kB)\n",
            "Requirement already satisfied: python-dateutil>=2.7.3 in /usr/local/lib/python3.7/dist-packages (from pandas>=0.24.0->aif360) (2.8.2)\n",
            "Requirement already satisfied: pytz>=2017.3 in /usr/local/lib/python3.7/dist-packages (from pandas>=0.24.0->aif360) (2022.1)\n",
            "Requirement already satisfied: six>=1.5 in /usr/local/lib/python3.7/dist-packages (from python-dateutil>=2.7.3->pandas>=0.24.0->aif360) (1.15.0)\n",
            "Requirement already satisfied: threadpoolctl>=2.0.0 in /usr/local/lib/python3.7/dist-packages (from scikit-learn>=0.22.1->aif360) (3.1.0)\n",
            "Requirement already satisfied: joblib>=0.11 in /usr/local/lib/python3.7/dist-packages (from scikit-learn>=0.22.1->aif360) (1.1.0)\n",
            "Requirement already satisfied: kiwisolver>=1.0.1 in /usr/local/lib/python3.7/dist-packages (from matplotlib->aif360) (1.4.2)\n",
            "Requirement already satisfied: pyparsing!=2.0.4,!=2.1.2,!=2.1.6,>=2.0.1 in /usr/local/lib/python3.7/dist-packages (from matplotlib->aif360) (3.0.8)\n",
            "Requirement already satisfied: cycler>=0.10 in /usr/local/lib/python3.7/dist-packages (from matplotlib->aif360) (0.11.0)\n",
            "Requirement already satisfied: typing-extensions in /usr/local/lib/python3.7/dist-packages (from kiwisolver>=1.0.1->matplotlib->aif360) (4.2.0)\n",
            "Collecting memory-profiler\n",
            "  Downloading memory_profiler-0.60.0.tar.gz (38 kB)\n",
            "Requirement already satisfied: pytest in /usr/local/lib/python3.7/dist-packages (from tempeh->aif360) (3.6.4)\n",
            "Collecting shap\n",
            "  Downloading shap-0.40.0-cp37-cp37m-manylinux2010_x86_64.whl (564 kB)\n",
            "\u001b[K     |████████████████████████████████| 564 kB 23.8 MB/s \n",
            "\u001b[?25hRequirement already satisfied: requests in /usr/local/lib/python3.7/dist-packages (from tempeh->aif360) (2.23.0)\n",
            "Requirement already satisfied: psutil in /usr/local/lib/python3.7/dist-packages (from memory-profiler->tempeh->aif360) (5.4.8)\n",
            "Requirement already satisfied: pluggy<0.8,>=0.5 in /usr/local/lib/python3.7/dist-packages (from pytest->tempeh->aif360) (0.7.1)\n",
            "Requirement already satisfied: more-itertools>=4.0.0 in /usr/local/lib/python3.7/dist-packages (from pytest->tempeh->aif360) (8.12.0)\n",
            "Requirement already satisfied: atomicwrites>=1.0 in /usr/local/lib/python3.7/dist-packages (from pytest->tempeh->aif360) (1.4.0)\n",
            "Requirement already satisfied: setuptools in /usr/local/lib/python3.7/dist-packages (from pytest->tempeh->aif360) (57.4.0)\n",
            "Requirement already satisfied: attrs>=17.4.0 in /usr/local/lib/python3.7/dist-packages (from pytest->tempeh->aif360) (21.4.0)\n",
            "Requirement already satisfied: py>=1.5.0 in /usr/local/lib/python3.7/dist-packages (from pytest->tempeh->aif360) (1.11.0)\n",
            "Requirement already satisfied: chardet<4,>=3.0.2 in /usr/local/lib/python3.7/dist-packages (from requests->tempeh->aif360) (3.0.4)\n",
            "Requirement already satisfied: idna<3,>=2.5 in /usr/local/lib/python3.7/dist-packages (from requests->tempeh->aif360) (2.10)\n",
            "Requirement already satisfied: certifi>=2017.4.17 in /usr/local/lib/python3.7/dist-packages (from requests->tempeh->aif360) (2021.10.8)\n",
            "Requirement already satisfied: urllib3!=1.25.0,!=1.25.1,<1.26,>=1.21.1 in /usr/local/lib/python3.7/dist-packages (from requests->tempeh->aif360) (1.24.3)\n",
            "Requirement already satisfied: packaging>20.9 in /usr/local/lib/python3.7/dist-packages (from shap->tempeh->aif360) (21.3)\n",
            "Requirement already satisfied: cloudpickle in /usr/local/lib/python3.7/dist-packages (from shap->tempeh->aif360) (1.3.0)\n",
            "Requirement already satisfied: tqdm>4.25.0 in /usr/local/lib/python3.7/dist-packages (from shap->tempeh->aif360) (4.64.0)\n",
            "Requirement already satisfied: numba in /usr/local/lib/python3.7/dist-packages (from shap->tempeh->aif360) (0.51.2)\n",
            "Collecting slicer==0.0.7\n",
            "  Downloading slicer-0.0.7-py3-none-any.whl (14 kB)\n",
            "Requirement already satisfied: llvmlite<0.35,>=0.34.0.dev0 in /usr/local/lib/python3.7/dist-packages (from numba->shap->tempeh->aif360) (0.34.0)\n",
            "Building wheels for collected packages: memory-profiler\n",
            "  Building wheel for memory-profiler (setup.py) ... \u001b[?25l\u001b[?25hdone\n",
            "  Created wheel for memory-profiler: filename=memory_profiler-0.60.0-py3-none-any.whl size=31284 sha256=a25f3f848c4708a811438150a21cecb768d058fbcdcc251a118c2fd6b72065df\n",
            "  Stored in directory: /root/.cache/pip/wheels/67/2b/fb/326e30d638c538e69a5eb0aa47f4223d979f502bbdb403950f\n",
            "Successfully built memory-profiler\n",
            "Installing collected packages: slicer, shap, memory-profiler, tempeh, aif360\n",
            "Successfully installed aif360-0.4.0 memory-profiler-0.60.0 shap-0.40.0 slicer-0.0.7 tempeh-0.1.12\n"
          ]
        }
      ],
      "source": [
        "!pip install 'aif360'"
      ]
    },
    {
      "cell_type": "code",
      "source": [
        "cd /usr/local/lib/python3.7/dist-packages/aif360/data/raw/adult"
      ],
      "metadata": {
        "colab": {
          "base_uri": "https://localhost:8080/"
        },
        "id": "Za0OxxIeA9MO",
        "outputId": "ebf29fcd-67a0-4064-d8df-252bb42b1a7a"
      },
      "execution_count": 2,
      "outputs": [
        {
          "output_type": "stream",
          "name": "stdout",
          "text": [
            "/usr/local/lib/python3.7/dist-packages/aif360/data/raw/adult\n"
          ]
        }
      ]
    },
    {
      "cell_type": "code",
      "source": [
        "!wget https://archive.ics.uci.edu/ml/machine-learning-databases/adult/adult.data\n",
        "!wget https://archive.ics.uci.edu/ml/machine-learning-databases/adult/adult.names\n",
        "!wget https://archive.ics.uci.edu/ml/machine-learning-databases/adult/adult.test"
      ],
      "metadata": {
        "colab": {
          "base_uri": "https://localhost:8080/"
        },
        "id": "tPUCDGOLBA0l",
        "outputId": "6ce2579e-a447-4df8-a484-d39904ef8da2"
      },
      "execution_count": 3,
      "outputs": [
        {
          "output_type": "stream",
          "name": "stdout",
          "text": [
            "--2022-05-11 11:03:02--  https://archive.ics.uci.edu/ml/machine-learning-databases/adult/adult.data\n",
            "Resolving archive.ics.uci.edu (archive.ics.uci.edu)... 128.195.10.252\n",
            "Connecting to archive.ics.uci.edu (archive.ics.uci.edu)|128.195.10.252|:443... connected.\n",
            "HTTP request sent, awaiting response... 200 OK\n",
            "Length: 3974305 (3.8M) [application/x-httpd-php]\n",
            "Saving to: ‘adult.data’\n",
            "\n",
            "adult.data          100%[===================>]   3.79M  9.14MB/s    in 0.4s    \n",
            "\n",
            "2022-05-11 11:03:04 (9.14 MB/s) - ‘adult.data’ saved [3974305/3974305]\n",
            "\n",
            "--2022-05-11 11:03:04--  https://archive.ics.uci.edu/ml/machine-learning-databases/adult/adult.names\n",
            "Resolving archive.ics.uci.edu (archive.ics.uci.edu)... 128.195.10.252\n",
            "Connecting to archive.ics.uci.edu (archive.ics.uci.edu)|128.195.10.252|:443... connected.\n",
            "HTTP request sent, awaiting response... 200 OK\n",
            "Length: 5229 (5.1K) [application/x-httpd-php]\n",
            "Saving to: ‘adult.names’\n",
            "\n",
            "adult.names         100%[===================>]   5.11K  --.-KB/s    in 0s      \n",
            "\n",
            "2022-05-11 11:03:04 (141 MB/s) - ‘adult.names’ saved [5229/5229]\n",
            "\n",
            "--2022-05-11 11:03:04--  https://archive.ics.uci.edu/ml/machine-learning-databases/adult/adult.test\n",
            "Resolving archive.ics.uci.edu (archive.ics.uci.edu)... 128.195.10.252\n",
            "Connecting to archive.ics.uci.edu (archive.ics.uci.edu)|128.195.10.252|:443... connected.\n",
            "HTTP request sent, awaiting response... 200 OK\n",
            "Length: 2003153 (1.9M) [application/x-httpd-php]\n",
            "Saving to: ‘adult.test’\n",
            "\n",
            "adult.test          100%[===================>]   1.91M  5.27MB/s    in 0.4s    \n",
            "\n",
            "2022-05-11 11:03:05 (5.27 MB/s) - ‘adult.test’ saved [2003153/2003153]\n",
            "\n"
          ]
        }
      ]
    },
    {
      "cell_type": "code",
      "source": [
        "pip install fairlearn"
      ],
      "metadata": {
        "colab": {
          "base_uri": "https://localhost:8080/"
        },
        "id": "au8BbRT3BDwE",
        "outputId": "2099fcd2-a569-483b-e577-f138c697e7b7"
      },
      "execution_count": 4,
      "outputs": [
        {
          "output_type": "stream",
          "name": "stdout",
          "text": [
            "Collecting fairlearn\n",
            "  Downloading fairlearn-0.7.0-py3-none-any.whl (177 kB)\n",
            "\u001b[?25l\r\u001b[K     |█▉                              | 10 kB 18.7 MB/s eta 0:00:01\r\u001b[K     |███▊                            | 20 kB 20.6 MB/s eta 0:00:01\r\u001b[K     |█████▌                          | 30 kB 10.9 MB/s eta 0:00:01\r\u001b[K     |███████▍                        | 40 kB 5.2 MB/s eta 0:00:01\r\u001b[K     |█████████▎                      | 51 kB 4.8 MB/s eta 0:00:01\r\u001b[K     |███████████                     | 61 kB 5.6 MB/s eta 0:00:01\r\u001b[K     |█████████████                   | 71 kB 5.7 MB/s eta 0:00:01\r\u001b[K     |██████████████▊                 | 81 kB 5.6 MB/s eta 0:00:01\r\u001b[K     |████████████████▋               | 92 kB 6.2 MB/s eta 0:00:01\r\u001b[K     |██████████████████▌             | 102 kB 5.6 MB/s eta 0:00:01\r\u001b[K     |████████████████████▎           | 112 kB 5.6 MB/s eta 0:00:01\r\u001b[K     |██████████████████████▏         | 122 kB 5.6 MB/s eta 0:00:01\r\u001b[K     |████████████████████████        | 133 kB 5.6 MB/s eta 0:00:01\r\u001b[K     |█████████████████████████▉      | 143 kB 5.6 MB/s eta 0:00:01\r\u001b[K     |███████████████████████████▊    | 153 kB 5.6 MB/s eta 0:00:01\r\u001b[K     |█████████████████████████████▌  | 163 kB 5.6 MB/s eta 0:00:01\r\u001b[K     |███████████████████████████████▍| 174 kB 5.6 MB/s eta 0:00:01\r\u001b[K     |████████████████████████████████| 177 kB 5.6 MB/s \n",
            "\u001b[?25hRequirement already satisfied: scikit-learn>=0.22.1 in /usr/local/lib/python3.7/dist-packages (from fairlearn) (1.0.2)\n",
            "Requirement already satisfied: numpy>=1.17.2 in /usr/local/lib/python3.7/dist-packages (from fairlearn) (1.21.6)\n",
            "Requirement already satisfied: scipy>=1.4.1 in /usr/local/lib/python3.7/dist-packages (from fairlearn) (1.4.1)\n",
            "Requirement already satisfied: pandas>=0.25.1 in /usr/local/lib/python3.7/dist-packages (from fairlearn) (1.3.5)\n",
            "Requirement already satisfied: python-dateutil>=2.7.3 in /usr/local/lib/python3.7/dist-packages (from pandas>=0.25.1->fairlearn) (2.8.2)\n",
            "Requirement already satisfied: pytz>=2017.3 in /usr/local/lib/python3.7/dist-packages (from pandas>=0.25.1->fairlearn) (2022.1)\n",
            "Requirement already satisfied: six>=1.5 in /usr/local/lib/python3.7/dist-packages (from python-dateutil>=2.7.3->pandas>=0.25.1->fairlearn) (1.15.0)\n",
            "Requirement already satisfied: threadpoolctl>=2.0.0 in /usr/local/lib/python3.7/dist-packages (from scikit-learn>=0.22.1->fairlearn) (3.1.0)\n",
            "Requirement already satisfied: joblib>=0.11 in /usr/local/lib/python3.7/dist-packages (from scikit-learn>=0.22.1->fairlearn) (1.1.0)\n",
            "Installing collected packages: fairlearn\n",
            "Successfully installed fairlearn-0.7.0\n"
          ]
        }
      ]
    },
    {
      "cell_type": "code",
      "source": [
        "from aif360.datasets import AdultDataset\n",
        "from aif360.algorithms.preprocessing.optim_preproc_helpers.data_preproc_functions import load_preproc_data_adult\n",
        "import numpy as np\n",
        "from sklearn.preprocessing import StandardScaler\n",
        "from aif360.metrics import ClassificationMetric\n",
        "from sklearn.model_selection import StratifiedKFold\n",
        "\n",
        "np.random.seed(4) #set random seed"
      ],
      "metadata": {
        "id": "w4RIrReuBGiW"
      },
      "execution_count": 5,
      "outputs": []
    },
    {
      "cell_type": "code",
      "source": [
        "OG_dataset = load_preproc_data_adult(['sex','race'])#setting the protected attributes to sex and race \n",
        "\n",
        "OG_dataset_train, OG_dataset_test = OG_dataset.split([0.7], shuffle=True) \n",
        "\n",
        "privileged_groups = [{'sex': 1, 'race': 1}] #Male, white\n",
        "unprivileged_groups = [{'sex': 0, 'race': 0}] #Female, non-white \n",
        "\n",
        "#Normalise all the data (as per the lab class)\n",
        "scale = StandardScaler()\n",
        "X_train = scale.fit_transform(OG_dataset_train.features) #scales each feature/variable to unit variance\n",
        "y_train = OG_dataset_train.labels.ravel() #Flattens array\n",
        "\n",
        "X_test = scale.transform(OG_dataset_test.features) \n",
        "y_test = OG_dataset_test.labels.ravel() "
      ],
      "metadata": {
        "id": "67REuQ7eBH1a"
      },
      "execution_count": 6,
      "outputs": []
    },
    {
      "cell_type": "code",
      "source": [
        "from numpy import mean\n",
        "from numpy import std\n",
        "from sklearn.model_selection import KFold\n",
        "from sklearn.model_selection import cross_val_score\n",
        "from sklearn.model_selection import cross_val_predict\n",
        "from sklearn.linear_model import LogisticRegression"
      ],
      "metadata": {
        "id": "RYkKSF9FDGfO"
      },
      "execution_count": 7,
      "outputs": []
    },
    {
      "cell_type": "code",
      "source": [
        "#same process as before \n",
        "\n",
        "Cross_Validation = StratifiedKFold(n_splits=5, shuffle=True, random_state=1)\n",
        "Model = LogisticRegression(solver='liblinear', random_state=1)\n",
        "\n",
        "Scores = cross_val_score(Model, X_train, y_train, scoring='accuracy', cv=Cross_Validation)\n",
        "# report performance\n",
        "print('Accuracy: %.3f  Standard deviation: %.3f' % (mean(Scores), std(Scores)))"
      ],
      "metadata": {
        "colab": {
          "base_uri": "https://localhost:8080/"
        },
        "id": "B9sukHjxDKts",
        "outputId": "979000ee-bf77-4d49-ecb6-98f00efe0e18"
      },
      "execution_count": 8,
      "outputs": [
        {
          "output_type": "stream",
          "name": "stdout",
          "text": [
            "Accuracy: 0.804  Standard deviation: 0.004\n"
          ]
        }
      ]
    },
    {
      "cell_type": "code",
      "source": [
        "C_Values=[100000, 1000, 10, 1.0, 0.01, 0.0001, 0.000001, 0.00000001]\n",
        "\n",
        "my_dict = {}\n",
        "\n",
        "accuracy = []\n",
        "\n",
        "for i in C_Values:\n",
        "  Model = LogisticRegression(C=i, solver='liblinear')\n",
        "  Scores = cross_val_score(Model, X_train, y_train, scoring='accuracy', cv=Cross_Validation)\n",
        "  print(\"C value = \" +  str(i) + '  Accuracy: %.3f' % (mean(Scores)))\n",
        "  accuracy.append(mean(Scores))\n",
        "\n",
        "for i in range(len(C_Values)):\n",
        "    my_dict[C_Values[i]] = accuracy[i]\n",
        "\n",
        "find_best_accuracy = max(my_dict, key=my_dict.get)\n",
        "\n",
        "print( \"The model with the highest accuracy has a C value of: \", find_best_accuracy)"
      ],
      "metadata": {
        "colab": {
          "base_uri": "https://localhost:8080/"
        },
        "id": "FtGCLSMEDTKA",
        "outputId": "89e81663-6bd2-4429-e601-0215252dcdf5"
      },
      "execution_count": 9,
      "outputs": [
        {
          "output_type": "stream",
          "name": "stdout",
          "text": [
            "C value = 100000  Accuracy: 0.804\n",
            "C value = 1000  Accuracy: 0.804\n",
            "C value = 10  Accuracy: 0.804\n",
            "C value = 1.0  Accuracy: 0.804\n",
            "C value = 0.01  Accuracy: 0.805\n",
            "C value = 0.0001  Accuracy: 0.798\n",
            "C value = 1e-06  Accuracy: 0.796\n",
            "C value = 1e-08  Accuracy: 0.796\n",
            "The model with the highest accuracy has a C value of:  0.01\n"
          ]
        }
      ]
    },
    {
      "cell_type": "code",
      "source": [
        "C_Values=[100000, 1000, 10, 1.0, 0.01, 0.0001, 0.000001, 0.00000001]\n",
        "\n",
        "my_dict = {}\n",
        "fairness = []\n",
        "value= 0\n",
        "\n",
        "for i in C_Values:\n",
        "  Model = LogisticRegression(C=i, solver='liblinear')\n",
        "  Scores = cross_val_score(Model, X_train, y_train, scoring='accuracy', cv=Cross_Validation)\n",
        "\n",
        "  predictions = cross_val_predict(Model, X_train, y_train, cv=Cross_Validation)\n",
        "\n",
        "  train_predictions = OG_dataset_train.copy()\n",
        "  train_predictions.labels = predictions\n",
        "\n",
        "  Metric = ClassificationMetric(OG_dataset_train, train_predictions , unprivileged_groups=unprivileged_groups, privileged_groups=privileged_groups)\n",
        "  Equal_of_Opp = Metric.equal_opportunity_difference()\n",
        "  print(\"C value = \" +  str(i) + '  Equality_of_Opportunity score: %.3f' % Equal_of_Opp)\n",
        "  fairness.append(Equal_of_Opp)\n",
        "\n",
        "for i in range(len(C_Values)):\n",
        "    my_dict[C_Values[i]] = fairness[i]\n",
        "\n",
        "fair_key, fair_val = min(my_dict.items(), key=lambda x: abs(value - x[1]))\n",
        "\n",
        "print( \"The model with the highest fairness has a C value of: \", fair_key)"
      ],
      "metadata": {
        "colab": {
          "base_uri": "https://localhost:8080/"
        },
        "id": "iIpEdDjLDWlU",
        "outputId": "801d1160-18f0-4915-b2d4-162682044882"
      },
      "execution_count": 10,
      "outputs": [
        {
          "output_type": "stream",
          "name": "stdout",
          "text": [
            "C value = 100000  Equality_of_Opportunity score: -0.468\n",
            "C value = 1000  Equality_of_Opportunity score: -0.468\n",
            "C value = 10  Equality_of_Opportunity score: -0.468\n",
            "C value = 1.0  Equality_of_Opportunity score: -0.468\n",
            "C value = 0.01  Equality_of_Opportunity score: -0.464\n",
            "C value = 0.0001  Equality_of_Opportunity score: -0.468\n",
            "C value = 1e-06  Equality_of_Opportunity score: -0.310\n",
            "C value = 1e-08  Equality_of_Opportunity score: -0.252\n",
            "The model with the highest fairness has a C value of:  1e-08\n"
          ]
        }
      ]
    },
    {
      "cell_type": "code",
      "source": [
        "Model_1 = find_best_accuracy\n",
        "Model_2 = fair_key"
      ],
      "metadata": {
        "id": "PnLZf09_EiY6"
      },
      "execution_count": 11,
      "outputs": []
    },
    {
      "cell_type": "code",
      "source": [
        "from sklearn.model_selection import cross_validate"
      ],
      "metadata": {
        "id": "nZ663DLDEoiX"
      },
      "execution_count": 12,
      "outputs": []
    },
    {
      "cell_type": "code",
      "source": [
        "print(\"C value = \", Model_1)\n",
        "Model = LogisticRegression(C=Model_1, solver='liblinear')\n",
        "Model.fit(X_train, y_train)\n",
        "predictions = Model.predict(X_test)\n",
        "\n",
        "test_predictions = OG_dataset_test.copy()\n",
        "test_predictions.labels = predictions\n",
        "print(\"Accuracy\", sum(predictions==y_test)/len(y_test))\n",
        "\n",
        "Metric = ClassificationMetric(OG_dataset_test, test_predictions , unprivileged_groups=unprivileged_groups, privileged_groups=privileged_groups)\n",
        "Equal_of_Opp = Metric.equal_opportunity_difference()\n",
        "print('Equality_of_Opportunity score: %.3f' % Equal_of_Opp)"
      ],
      "metadata": {
        "colab": {
          "base_uri": "https://localhost:8080/"
        },
        "id": "jVfNTTO4Er0Z",
        "outputId": "763a3ec4-bdd3-43f8-806e-a1c2c4aa9625"
      },
      "execution_count": 13,
      "outputs": [
        {
          "output_type": "stream",
          "name": "stdout",
          "text": [
            "C value =  0.01\n",
            "Accuracy 0.8027025182556473\n",
            "Equality_of_Opportunity score: -0.464\n"
          ]
        }
      ]
    },
    {
      "cell_type": "code",
      "source": [
        "from sklearn.metrics import roc_curve\n",
        "from sklearn.metrics import RocCurveDisplay\n",
        "from sklearn.metrics import precision_recall_curve\n",
        "from sklearn.metrics import PrecisionRecallDisplay\n",
        "\n",
        "y_score = Model.decision_function(X_test)\n",
        "\n",
        "fpr, tpr, _ = roc_curve(y_test, y_score, pos_label=Model.classes_[1])\n",
        "roc_display = RocCurveDisplay(fpr=fpr, tpr=tpr).plot()\n",
        "\n",
        "prec, recall, _ = precision_recall_curve(y_test, y_score, pos_label=Model.classes_[1])\n",
        "pr_display = PrecisionRecallDisplay(precision=prec, recall=recall).plot()\n",
        "\n",
        "#code for graphs adapted from scikit learn[16]"
      ],
      "metadata": {
        "colab": {
          "base_uri": "https://localhost:8080/",
          "height": 541
        },
        "id": "lPJDuyZfzQBa",
        "outputId": "47d1ac8b-336b-4d82-9a08-580361e942be"
      },
      "execution_count": 14,
      "outputs": [
        {
          "output_type": "display_data",
          "data": {
            "text/plain": [
              "<Figure size 432x288 with 1 Axes>"
            ],
            "image/png": "[encoded data removed]"
          },
          "metadata": {
            "needs_background": "light"
          }
        },
        {
          "output_type": "display_data",
          "data": {
            "text/plain": [
              "<Figure size 432x288 with 1 Axes>"
            ],
            "image/png": "[encoded data removed]"
          },
          "metadata": {
            "needs_background": "light"
          }
        }
      ]
    },
    {
      "cell_type": "code",
      "source": [
        "print(\"C value = \", Model_2)\n",
        "Model = LogisticRegression(C=Model_2, solver='liblinear')\n",
        "Model.fit(X_train, y_train)\n",
        "predictions = Model.predict(X_test)\n",
        "\n",
        "test_predictions = OG_dataset_test.copy()\n",
        "test_predictions.labels = predictions\n",
        "print(\"Accuracy\", sum(predictions==y_test)/len(y_test))\n",
        "\n",
        "Metric = ClassificationMetric(OG_dataset_test, test_predictions , unprivileged_groups=unprivileged_groups, privileged_groups=privileged_groups)\n",
        "Equal_of_Opp = Metric.equal_opportunity_difference()\n",
        "print('Equality_of_Opportunity score: %.3f' % Equal_of_Opp)"
      ],
      "metadata": {
        "colab": {
          "base_uri": "https://localhost:8080/"
        },
        "id": "u2eMF0WTEvbL",
        "outputId": "745301b7-1d14-42cc-b6c0-2331ca3b459e"
      },
      "execution_count": 15,
      "outputs": [
        {
          "output_type": "stream",
          "name": "stdout",
          "text": [
            "C value =  1e-08\n",
            "Accuracy 0.7963556950795059\n",
            "Equality_of_Opportunity score: -0.223\n"
          ]
        }
      ]
    },
    {
      "cell_type": "code",
      "source": [
        "\n",
        "y_score = Model.decision_function(X_test)\n",
        "\n",
        "fpr, tpr, _ = roc_curve(y_test, y_score, pos_label=Model.classes_[1])\n",
        "roc_display = RocCurveDisplay(fpr=fpr, tpr=tpr).plot()\n",
        "\n",
        "prec, recall, _ = precision_recall_curve(y_test, y_score, pos_label=Model.classes_[1])\n",
        "pr_display = PrecisionRecallDisplay(precision=prec, recall=recall).plot()"
      ],
      "metadata": {
        "colab": {
          "base_uri": "https://localhost:8080/",
          "height": 541
        },
        "id": "q1R9uRGizfHY",
        "outputId": "bf5f5e36-3f73-47bb-8364-84d0340de927"
      },
      "execution_count": 16,
      "outputs": [
        {
          "output_type": "display_data",
          "data": {
            "text/plain": [
              "<Figure size 432x288 with 1 Axes>"
            ],
            "image/png": "[encoded data removed]"
          },
          "metadata": {
            "needs_background": "light"
          }
        },
        {
          "output_type": "display_data",
          "data": {
            "text/plain": [
              "<Figure size 432x288 with 1 Axes>"
            ],
            "image/png": "[encoded data removed]"
          },
          "metadata": {
            "needs_background": "light"
          }
        }
      ]
    },
    {
      "cell_type": "code",
      "source": [
        "from aif360.algorithms.preprocessing.reweighing import Reweighing\n",
        "\n",
        "my_dict1 = {}\n",
        "my_dict2 = {}\n",
        "accuracy = []\n",
        "fairness = []\n",
        "\n",
        "RW = Reweighing(unprivileged_groups=unprivileged_groups, privileged_groups=privileged_groups)\n",
        "train = RW.fit_transform(OG_dataset_train)\n",
        "weights = train.instance_weights\n",
        "\n",
        "for i in C_Values:\n",
        "  Model = LogisticRegression(C=i, solver='liblinear')\n",
        "  Scores = cross_val_score(Model, X_train, y_train, fit_params= {'sample_weight': weights}, scoring='accuracy', cv=Cross_Validation)\n",
        "  accuracy.append(mean(Scores))\n",
        "\n",
        "  predictions = cross_val_predict(Model, X_train, y_train, fit_params= {'sample_weight': weights}, cv=Cross_Validation)\n",
        "  train_predictions = OG_dataset_train.copy()\n",
        "  train_predictions.labels = predictions\n",
        "\n",
        "  Metric = ClassificationMetric(OG_dataset_train, train_predictions , unprivileged_groups=unprivileged_groups, privileged_groups=privileged_groups)\n",
        "  Equal_of_Opp = Metric.equal_opportunity_difference()\n",
        "  fairness.append(Equal_of_Opp)\n",
        "  print(\"C value = \" +  str(i) + '  Accuracy: %.3f' % (mean(Scores)) + '  Equality_of_Opportunity score: %.3f' % Equal_of_Opp)\n",
        "\n",
        "for i in range(len(C_Values)):\n",
        "    my_dict1[C_Values[i]] = accuracy[i]\n",
        "\n",
        "find_best_accuracy = max(my_dict1, key=my_dict1.get)\n",
        "\n",
        "print( \"The model with the highest accuracy has a C value of: \", find_best_accuracy)\n",
        "\n",
        "for i in range(len(C_Values)):\n",
        "    my_dict2[C_Values[i]] = fairness[i]\n",
        "\n",
        "fair_key, fair_val = min(my_dict2.items(), key=lambda x: abs(value - x[1]))\n",
        "\n",
        "print( \"The model with the best fairness has a C value of: \", fair_key)"
      ],
      "metadata": {
        "colab": {
          "base_uri": "https://localhost:8080/"
        },
        "id": "g_xU0oQEEzpG",
        "outputId": "93b26240-8a3c-4d9a-8991-0a557377c0eb"
      },
      "execution_count": 17,
      "outputs": [
        {
          "output_type": "stream",
          "name": "stdout",
          "text": [
            "C value = 100000  Accuracy: 0.795  Equality_of_Opportunity score: -0.094\n",
            "C value = 1000  Accuracy: 0.795  Equality_of_Opportunity score: -0.094\n",
            "C value = 10  Accuracy: 0.795  Equality_of_Opportunity score: -0.094\n",
            "C value = 1.0  Accuracy: 0.795  Equality_of_Opportunity score: -0.094\n",
            "C value = 0.01  Accuracy: 0.795  Equality_of_Opportunity score: -0.094\n",
            "C value = 0.0001  Accuracy: 0.795  Equality_of_Opportunity score: -0.139\n",
            "C value = 1e-06  Accuracy: 0.795  Equality_of_Opportunity score: -0.096\n",
            "C value = 1e-08  Accuracy: 0.795  Equality_of_Opportunity score: -0.096\n",
            "The model with the highest accuracy has a C value of:  0.0001\n",
            "The model with the best fairness has a C value of:  100000\n"
          ]
        }
      ]
    },
    {
      "cell_type": "code",
      "source": [
        "Model_3 = find_best_accuracy\n",
        "Model_4 = fair_key"
      ],
      "metadata": {
        "id": "i5LLIjX3FDzU"
      },
      "execution_count": 25,
      "outputs": []
    },
    {
      "cell_type": "code",
      "source": [
        "print(\"C value = \", Model_3)\n",
        "Model = LogisticRegression(C=Model_3, solver='liblinear')\n",
        "Model.fit(X_train, y_train, sample_weight = weights)\n",
        "predictions = Model.predict(X_test)\n",
        "\n",
        "test_predictions = OG_dataset_test.copy()\n",
        "test_predictions.labels = predictions\n",
        "print(\"Accuracy\", sum(predictions==y_test)/len(y_test))\n",
        "\n",
        "Metric = ClassificationMetric(OG_dataset_test, test_predictions , unprivileged_groups=unprivileged_groups, privileged_groups=privileged_groups)\n",
        "Equal_of_Opp = Metric.equal_opportunity_difference()\n",
        "print('Equality_of_Opportunity score: %.3f' % Equal_of_Opp)"
      ],
      "metadata": {
        "colab": {
          "base_uri": "https://localhost:8080/"
        },
        "id": "5eJeKuNUFHWH",
        "outputId": "b1082534-79e0-4ea2-c21f-aed23b016352"
      },
      "execution_count": 26,
      "outputs": [
        {
          "output_type": "stream",
          "name": "stdout",
          "text": [
            "C value =  0.0001\n",
            "Accuracy 0.7964921859004982\n",
            "Equality_of_Opportunity score: -0.158\n"
          ]
        }
      ]
    },
    {
      "cell_type": "code",
      "source": [
        "\n",
        "y_score = Model.decision_function(X_test)\n",
        "\n",
        "fpr, tpr, _ = roc_curve(y_test, y_score, pos_label=Model.classes_[1])\n",
        "roc_display = RocCurveDisplay(fpr=fpr, tpr=tpr).plot()\n",
        "\n",
        "prec, recall, _ = precision_recall_curve(y_test, y_score, pos_label=Model.classes_[1])\n",
        "pr_display = PrecisionRecallDisplay(precision=prec, recall=recall).plot()"
      ],
      "metadata": {
        "colab": {
          "base_uri": "https://localhost:8080/",
          "height": 541
        },
        "id": "6PEryIet0CFm",
        "outputId": "4a7b292a-d4c3-4796-8420-b11a57254173"
      },
      "execution_count": 27,
      "outputs": [
        {
          "output_type": "display_data",
          "data": {
            "text/plain": [
              "<Figure size 432x288 with 1 Axes>"
            ],
            "image/png": "[encoded data removed]"
          },
          "metadata": {
            "needs_background": "light"
          }
        },
        {
          "output_type": "display_data",
          "data": {
            "text/plain": [
              "<Figure size 432x288 with 1 Axes>"
            ],
            "image/png": "[encoded data removed]"
          },
          "metadata": {
            "needs_background": "light"
          }
        }
      ]
    },
    {
      "cell_type": "code",
      "source": [
        "print(\"C value = \", Model_4)\n",
        "Model = LogisticRegression(C=Model_4, solver='liblinear')\n",
        "Model.fit(X_train, y_train, sample_weight = weights)\n",
        "predictions = Model.predict(X_test)\n",
        "\n",
        "test_predictions = OG_dataset_test.copy()\n",
        "test_predictions.labels = predictions\n",
        "print(\"Accuracy\", sum(predictions==y_test)/len(y_test))\n",
        "\n",
        "Metric = ClassificationMetric(OG_dataset_test, test_predictions , unprivileged_groups=unprivileged_groups, privileged_groups=privileged_groups)\n",
        "Equal_of_Opp = Metric.equal_opportunity_difference()\n",
        "print('Equality_of_Opportunity score: %.3f' % Equal_of_Opp)"
      ],
      "metadata": {
        "colab": {
          "base_uri": "https://localhost:8080/"
        },
        "id": "oM8__ZxLKdO-",
        "outputId": "a39737b4-e269-4ba6-ab92-f681e8220d41"
      },
      "execution_count": 28,
      "outputs": [
        {
          "output_type": "stream",
          "name": "stdout",
          "text": [
            "C value =  100000\n",
            "Accuracy 0.7928751791442026\n",
            "Equality_of_Opportunity score: -0.019\n"
          ]
        }
      ]
    },
    {
      "cell_type": "code",
      "source": [
        "\n",
        "y_score = Model.decision_function(X_test)\n",
        "\n",
        "fpr, tpr, _ = roc_curve(y_test, y_score, pos_label=Model.classes_[1])\n",
        "roc_display = RocCurveDisplay(fpr=fpr, tpr=tpr).plot()\n",
        "\n",
        "prec, recall, _ = precision_recall_curve(y_test, y_score, pos_label=Model.classes_[1])\n",
        "pr_display = PrecisionRecallDisplay(precision=prec, recall=recall).plot()"
      ],
      "metadata": {
        "id": "nt01E6DAKntz",
        "colab": {
          "base_uri": "https://localhost:8080/",
          "height": 541
        },
        "outputId": "3a1560e6-af1f-4774-cd39-3b83f5baeab5"
      },
      "execution_count": 29,
      "outputs": [
        {
          "output_type": "display_data",
          "data": {
            "text/plain": [
              "<Figure size 432x288 with 1 Axes>"
            ],
            "image/png": "[encoded data removed]"
          },
          "metadata": {
            "needs_background": "light"
          }
        },
        {
          "output_type": "display_data",
          "data": {
            "text/plain": [
              "<Figure size 432x288 with 1 Axes>"
            ],
            "image/png": "[encoded data removed]"
          },
          "metadata": {
            "needs_background": "light"
          }
        }
      ]
    },
    {
      "cell_type": "code",
      "source": [
        ""
      ],
      "metadata": {
        "id": "99D50ABSKn9o"
      },
      "execution_count": null,
      "outputs": []
    },
    {
      "cell_type": "code",
      "source": [
        ""
      ],
      "metadata": {
        "id": "XfZJg6dl0TqZ"
      },
      "execution_count": null,
      "outputs": []
    },
    {
      "cell_type": "code",
      "source": [
        "cd /usr/local/lib/python3.7/dist-packages/aif360/data/raw/german"
      ],
      "metadata": {
        "colab": {
          "base_uri": "https://localhost:8080/"
        },
        "id": "weyb6_KVF1Ev",
        "outputId": "2cb5c696-5249-496f-f876-1073b1394bea"
      },
      "execution_count": 30,
      "outputs": [
        {
          "output_type": "stream",
          "name": "stdout",
          "text": [
            "/usr/local/lib/python3.7/dist-packages/aif360/data/raw/german\n"
          ]
        }
      ]
    },
    {
      "cell_type": "code",
      "source": [
        "!wget https://archive.ics.uci.edu/ml/machine-learning-databases/statlog/german/german.data"
      ],
      "metadata": {
        "colab": {
          "base_uri": "https://localhost:8080/"
        },
        "id": "2aZWy5zqF2Zy",
        "outputId": "a9921590-5ec2-4686-c57a-26d0f9d5dbbd"
      },
      "execution_count": 31,
      "outputs": [
        {
          "output_type": "stream",
          "name": "stdout",
          "text": [
            "--2022-05-11 11:10:47--  https://archive.ics.uci.edu/ml/machine-learning-databases/statlog/german/german.data\n",
            "Resolving archive.ics.uci.edu (archive.ics.uci.edu)... 128.195.10.252\n",
            "Connecting to archive.ics.uci.edu (archive.ics.uci.edu)|128.195.10.252|:443... connected.\n",
            "HTTP request sent, awaiting response... 200 OK\n",
            "Length: 79793 (78K) [application/x-httpd-php]\n",
            "Saving to: ‘german.data’\n",
            "\n",
            "german.data         100%[===================>]  77.92K  --.-KB/s    in 0.1s    \n",
            "\n",
            "2022-05-11 11:10:48 (775 KB/s) - ‘german.data’ saved [79793/79793]\n",
            "\n"
          ]
        }
      ]
    },
    {
      "cell_type": "code",
      "source": [
        "from aif360.datasets import GermanDataset\n",
        "from aif360.algorithms.preprocessing.optim_preproc_helpers.data_preproc_functions import load_preproc_data_german\n",
        "\n",
        "np.random.seed(4)"
      ],
      "metadata": {
        "id": "s4jF7K5zF5Du"
      },
      "execution_count": 32,
      "outputs": []
    },
    {
      "cell_type": "code",
      "source": [
        "OG_dataset = load_preproc_data_german(['age','sex']) #setting the protected attribute to age\n",
        "\n",
        "OG_dataset_train, OG_dataset_test = OG_dataset.split([0.7], shuffle=True) #Split the dataset, 70% for training and 30% for test\n",
        "\n",
        "privileged_groups2 = [{'age': 1, 'sex': 1}] #Over 25\n",
        "unprivileged_groups2 = [{'age': 0, 'sex': 0}] #Under 25\n",
        "\n",
        "#Normalise all the data (as per the lab class)\n",
        "scale = StandardScaler()\n",
        "X_train = scale.fit_transform(OG_dataset_train.features) #scales each feature/variable to unit variance\n",
        "y_train = OG_dataset_train.labels.ravel() #Flattens array\n",
        "\n",
        "X_test = scale.transform(OG_dataset_test.features) \n",
        "y_test = OG_dataset_test.labels.ravel()"
      ],
      "metadata": {
        "id": "bG1fa5AoF72Q"
      },
      "execution_count": 33,
      "outputs": []
    },
    {
      "cell_type": "code",
      "source": [
        "Cross_Validation = StratifiedKFold(n_splits=5, shuffle=True, random_state=1)\n",
        "Model = LogisticRegression(solver='liblinear', random_state=1)\n",
        "\n",
        "Scores = cross_val_score(Model, X_train, y_train, scoring='accuracy', cv=Cross_Validation)\n",
        "print('Accuracy: %.3f  Standard deviation: %.3f' % (mean(Scores), std(Scores)))"
      ],
      "metadata": {
        "colab": {
          "base_uri": "https://localhost:8080/"
        },
        "id": "JQ3y-sy8GVFd",
        "outputId": "12b3aed0-570c-4b5e-cf0a-131e612b4754"
      },
      "execution_count": 34,
      "outputs": [
        {
          "output_type": "stream",
          "name": "stdout",
          "text": [
            "Accuracy: 0.714  Standard deviation: 0.012\n"
          ]
        }
      ]
    },
    {
      "cell_type": "code",
      "source": [
        "C_Values=[100000, 1000, 10, 1.0, 0.01, 0.0001, 0.000001, 0.00000001]\n",
        "\n",
        "my_dict = {}\n",
        "accuracy = []\n",
        "\n",
        "for i in C_Values:\n",
        "  Model = LogisticRegression(C=i, solver='liblinear')\n",
        "  Scores = cross_val_score(Model, X_train, y_train, scoring='accuracy', cv=Cross_Validation)\n",
        "  print(\"C value = \" +  str(i) + '  Accuracy: %.3f' % (mean(Scores)))\n",
        "  accuracy.append(mean(Scores))\n",
        "\n",
        "for i in range(len(C_Values)):\n",
        "    my_dict[C_Values[i]] = accuracy[i]\n",
        "\n",
        "find_best_accuracy = max(my_dict, key=my_dict.get)\n",
        "\n",
        "print( \"The model with the highest accuracy has a C value of: \", find_best_accuracy)"
      ],
      "metadata": {
        "colab": {
          "base_uri": "https://localhost:8080/"
        },
        "id": "L8Zz2CUhGcF-",
        "outputId": "0d925a64-d799-4316-e7fe-991b84c38089"
      },
      "execution_count": 35,
      "outputs": [
        {
          "output_type": "stream",
          "name": "stdout",
          "text": [
            "C value = 100000  Accuracy: 0.714\n",
            "C value = 1000  Accuracy: 0.714\n",
            "C value = 10  Accuracy: 0.714\n",
            "C value = 1.0  Accuracy: 0.714\n",
            "C value = 0.01  Accuracy: 0.720\n",
            "C value = 0.0001  Accuracy: 0.660\n",
            "C value = 1e-06  Accuracy: 0.660\n",
            "C value = 1e-08  Accuracy: 0.660\n",
            "The model with the highest accuracy has a C value of:  0.01\n"
          ]
        }
      ]
    },
    {
      "cell_type": "code",
      "source": [
        "C_Values=[100000, 1000, 10, 1.0, 0.01, 0.0001, 0.000001, 0.00000001]\n",
        "\n",
        "my_dict = {}\n",
        "fairness = []\n",
        "\n",
        "for i in C_Values:\n",
        "  Model = LogisticRegression(C=i, solver='liblinear')\n",
        "  Scores = cross_val_score(Model, X_train, y_train, scoring='accuracy', cv=Cross_Validation)\n",
        "\n",
        "  predictions = cross_val_predict(Model, X_train, y_train, cv=Cross_Validation)\n",
        "\n",
        "  train_predictions = OG_dataset_train.copy()\n",
        "  train_predictions.labels = predictions\n",
        "\n",
        "  Metric = ClassificationMetric(OG_dataset_train, train_predictions , unprivileged_groups=unprivileged_groups2, privileged_groups=privileged_groups2)\n",
        "  Equal_of_Opp = Metric.equal_opportunity_difference()\n",
        "  print(\"C value = \" +  str(i) + '  Equality_of_Opportunity score: %.3f' % Equal_of_Opp)\n",
        "  fairness.append(Equal_of_Opp)\n",
        "\n",
        "for i in range(len(C_Values)):\n",
        "    my_dict[C_Values[i]] = fairness[i]\n",
        "\n",
        "fair_key, fair_val = min(my_dict.items(), key=lambda x: abs(value - x[1]))\n",
        "\n",
        "print( \"The model with the highest fairness has a C value of: \", fair_key)"
      ],
      "metadata": {
        "colab": {
          "base_uri": "https://localhost:8080/"
        },
        "id": "6jLgsnqoGs7m",
        "outputId": "8b5113d4-ed45-43fc-f5af-3a1ac32b2ef1"
      },
      "execution_count": 36,
      "outputs": [
        {
          "output_type": "stream",
          "name": "stdout",
          "text": [
            "C value = 100000  Equality_of_Opportunity score: -0.237\n",
            "C value = 1000  Equality_of_Opportunity score: -0.237\n",
            "C value = 10  Equality_of_Opportunity score: -0.237\n",
            "C value = 1.0  Equality_of_Opportunity score: -0.237\n",
            "C value = 0.01  Equality_of_Opportunity score: -0.237\n",
            "C value = 0.0001  Equality_of_Opportunity score: -0.302\n",
            "C value = 1e-06  Equality_of_Opportunity score: -0.302\n",
            "C value = 1e-08  Equality_of_Opportunity score: -0.302\n",
            "The model with the highest fairness has a C value of:  100000\n"
          ]
        }
      ]
    },
    {
      "cell_type": "code",
      "source": [
        "Model_1 = find_best_accuracy\n",
        "Model_2 = fair_key"
      ],
      "metadata": {
        "id": "4UOhwczzG6jl"
      },
      "execution_count": 37,
      "outputs": []
    },
    {
      "cell_type": "code",
      "source": [
        "print(\"C value = \", Model_1)\n",
        "Model = LogisticRegression(C=Model_1, solver='liblinear')\n",
        "Model.fit(X_train, y_train)\n",
        "predictions = Model.predict(X_test)\n",
        "\n",
        "test_predictions = OG_dataset_test.copy()\n",
        "test_predictions.labels = predictions\n",
        "print(\"Accuracy\", sum(predictions==y_test)/len(y_test))\n",
        "\n",
        "Metric = ClassificationMetric(OG_dataset_test, test_predictions , unprivileged_groups=unprivileged_groups2, privileged_groups=privileged_groups2)\n",
        "Equal_of_Opp = Metric.equal_opportunity_difference()\n",
        "print('Equality_of_Opportunity score: %.3f' % Equal_of_Opp)"
      ],
      "metadata": {
        "colab": {
          "base_uri": "https://localhost:8080/"
        },
        "id": "nVzJbgAnILbm",
        "outputId": "dbd9ad3e-8878-48a4-f9de-2d50173b071f"
      },
      "execution_count": 38,
      "outputs": [
        {
          "output_type": "stream",
          "name": "stdout",
          "text": [
            "C value =  0.01\n",
            "Accuracy 0.67\n",
            "Equality_of_Opportunity score: -0.332\n"
          ]
        }
      ]
    },
    {
      "cell_type": "code",
      "source": [
        "print(\"C value = \", Model_2)\n",
        "Model = LogisticRegression(C=Model_2, solver='liblinear')\n",
        "Model.fit(X_train, y_train)\n",
        "predictions = Model.predict(X_test)\n",
        "\n",
        "test_predictions = OG_dataset_test.copy()\n",
        "test_predictions.labels = predictions\n",
        "print(\"Accuracy\", sum(predictions==y_test)/len(y_test))\n",
        "\n",
        "Metric = ClassificationMetric(OG_dataset_test, test_predictions , unprivileged_groups=unprivileged_groups2, privileged_groups=privileged_groups2)\n",
        "Equal_of_Opp = Metric.equal_opportunity_difference()\n",
        "print('Equality_of_Opportunity score: %.3f' % Equal_of_Opp)"
      ],
      "metadata": {
        "colab": {
          "base_uri": "https://localhost:8080/"
        },
        "id": "R5Q7wb7mLb7L",
        "outputId": "5fb88e6b-988b-43a1-8a6a-fd0e4dbde8f8"
      },
      "execution_count": 40,
      "outputs": [
        {
          "output_type": "stream",
          "name": "stdout",
          "text": [
            "C value =  100000\n",
            "Accuracy 0.67\n",
            "Equality_of_Opportunity score: -0.332\n"
          ]
        }
      ]
    },
    {
      "cell_type": "code",
      "source": [
        "\n",
        "y_score = Model.decision_function(X_test)\n",
        "\n",
        "fpr, tpr, _ = roc_curve(y_test, y_score, pos_label=Model.classes_[1])\n",
        "roc_display = RocCurveDisplay(fpr=fpr, tpr=tpr).plot()\n",
        "\n",
        "prec, recall, _ = precision_recall_curve(y_test, y_score, pos_label=Model.classes_[1])\n",
        "pr_display = PrecisionRecallDisplay(precision=prec, recall=recall).plot()"
      ],
      "metadata": {
        "colab": {
          "base_uri": "https://localhost:8080/",
          "height": 541
        },
        "id": "Y5ayJ5Hk0sde",
        "outputId": "8bf9a106-83b2-4153-838b-a7cee9ec8ddf"
      },
      "execution_count": 41,
      "outputs": [
        {
          "output_type": "display_data",
          "data": {
            "text/plain": [
              "<Figure size 432x288 with 1 Axes>"
            ],
            "image/png": "[encoded data removed]"
          },
          "metadata": {
            "needs_background": "light"
          }
        },
        {
          "output_type": "display_data",
          "data": {
            "text/plain": [
              "<Figure size 432x288 with 1 Axes>"
            ],
            "image/png": "[encoded data removed]"
          },
          "metadata": {
            "needs_background": "light"
          }
        }
      ]
    },
    {
      "cell_type": "code",
      "source": [
        "my_dict1 = {}\n",
        "my_dict2 = {}\n",
        "accuracy = []\n",
        "fairness = []\n",
        "\n",
        "RW = Reweighing(unprivileged_groups=unprivileged_groups2, privileged_groups=privileged_groups2)\n",
        "train = RW.fit_transform(OG_dataset_train)\n",
        "weights = train.instance_weights\n",
        "\n",
        "for i in C_Values:\n",
        "  Model = LogisticRegression(C=i, solver='liblinear')\n",
        "  Scores = cross_val_score(Model, X_train, y_train, fit_params= {'sample_weight': weights}, scoring='accuracy', cv=Cross_Validation)\n",
        "  accuracy.append(mean(Scores))\n",
        "\n",
        "  predictions = cross_val_predict(Model, X_train, y_train, fit_params= {'sample_weight': weights}, cv=Cross_Validation)\n",
        "  train_predictions = OG_dataset_train.copy()\n",
        "  train_predictions.labels = predictions\n",
        "\n",
        "  Metric = ClassificationMetric(OG_dataset_train, train_predictions , unprivileged_groups=unprivileged_groups2, privileged_groups=privileged_groups2)\n",
        "  Equal_of_Opp = Metric.equal_opportunity_difference()\n",
        "  fairness.append(Equal_of_Opp)\n",
        "  print(\"C value = \" +  str(i) + '  Accuracy: %.3f' % (mean(Scores)) + '  Equality_of_Opportunity score: %.3f' % Equal_of_Opp)\n",
        "\n",
        "for i in range(len(C_Values)):\n",
        "    my_dict1[C_Values[i]] = accuracy[i]\n",
        "\n",
        "find_best_accuracy = max(my_dict1, key=my_dict1.get)\n",
        "\n",
        "print( \"The model with the highest accuracy has a C value of: \", find_best_accuracy)\n",
        "\n",
        "for i in range(len(C_Values)):\n",
        "    my_dict2[C_Values[i]] = fairness[i]\n",
        "\n",
        "fair_key, fair_val = min(my_dict2.items(), key=lambda x: abs(value - x[1]))\n",
        "\n",
        "print( \"The model with the best fairness has a C value of: \", fair_key)"
      ],
      "metadata": {
        "colab": {
          "base_uri": "https://localhost:8080/"
        },
        "id": "kD4W138uKHMl",
        "outputId": "e3d0c226-defe-4ac3-f74c-de35d9752487"
      },
      "execution_count": 42,
      "outputs": [
        {
          "output_type": "stream",
          "name": "stdout",
          "text": [
            "C value = 100000  Accuracy: 0.701  Equality_of_Opportunity score: 0.007\n",
            "C value = 1000  Accuracy: 0.701  Equality_of_Opportunity score: 0.007\n",
            "C value = 10  Accuracy: 0.701  Equality_of_Opportunity score: 0.007\n",
            "C value = 1.0  Accuracy: 0.701  Equality_of_Opportunity score: 0.007\n",
            "C value = 0.01  Accuracy: 0.673  Equality_of_Opportunity score: 0.106\n",
            "C value = 0.0001  Accuracy: 0.673  Equality_of_Opportunity score: -0.056\n",
            "C value = 1e-06  Accuracy: 0.673  Equality_of_Opportunity score: -0.056\n",
            "C value = 1e-08  Accuracy: 0.673  Equality_of_Opportunity score: -0.056\n",
            "The model with the highest accuracy has a C value of:  100000\n",
            "The model with the best fairness has a C value of:  100000\n"
          ]
        }
      ]
    },
    {
      "cell_type": "code",
      "source": [
        "Model_3 = find_best_accuracy\n",
        "Model_4 = fair_key"
      ],
      "metadata": {
        "id": "lpyOwNZ1KWbH"
      },
      "execution_count": 43,
      "outputs": []
    },
    {
      "cell_type": "code",
      "source": [
        "print(\"C value = \", Model_3)\n",
        "Model = LogisticRegression(C=Model_3, solver='liblinear')\n",
        "Model.fit(X_train, y_train, sample_weight = weights)\n",
        "predictions = Model.predict(X_test)\n",
        "\n",
        "test_predictions = OG_dataset_test.copy()\n",
        "test_predictions.labels = predictions\n",
        "print(\"Accuracy\", sum(predictions==y_test)/len(y_test))\n",
        "\n",
        "Metric = ClassificationMetric(OG_dataset_test, test_predictions , unprivileged_groups=unprivileged_groups2, privileged_groups=privileged_groups2)\n",
        "Equal_of_Opp = Metric.equal_opportunity_difference()\n",
        "print('Equality_of_Opportunity score: %.3f' % Equal_of_Opp)"
      ],
      "metadata": {
        "colab": {
          "base_uri": "https://localhost:8080/"
        },
        "id": "IFhPmh2tKZ_j",
        "outputId": "ce3ae02c-e199-4041-ddd9-06ceb96b8dd6"
      },
      "execution_count": 44,
      "outputs": [
        {
          "output_type": "stream",
          "name": "stdout",
          "text": [
            "C value =  100000\n",
            "Accuracy 0.6866666666666666\n",
            "Equality_of_Opportunity score: -0.038\n"
          ]
        }
      ]
    },
    {
      "cell_type": "code",
      "source": [
        "print(\"C value = \", Model_4)\n",
        "Model = LogisticRegression(C=Model_4, solver='liblinear')\n",
        "Model.fit(X_train, y_train, sample_weight = weights)\n",
        "predictions = Model.predict(X_test)\n",
        "\n",
        "test_predictions = OG_dataset_test.copy()\n",
        "test_predictions.labels = predictions\n",
        "print(\"Accuracy\", sum(predictions==y_test)/len(y_test))\n",
        "\n",
        "Metric = ClassificationMetric(OG_dataset_test, test_predictions , unprivileged_groups=unprivileged_groups2, privileged_groups=privileged_groups2)\n",
        "Equal_of_Opp = Metric.equal_opportunity_difference()\n",
        "print('Equality_of_Opportunity score: %.3f' % Equal_of_Opp)"
      ],
      "metadata": {
        "colab": {
          "base_uri": "https://localhost:8080/"
        },
        "id": "eA5XCIpoL1p5",
        "outputId": "27014e01-38f3-41e0-b6f1-a23ecd5dec97"
      },
      "execution_count": 45,
      "outputs": [
        {
          "output_type": "stream",
          "name": "stdout",
          "text": [
            "C value =  100000\n",
            "Accuracy 0.6866666666666666\n",
            "Equality_of_Opportunity score: -0.038\n"
          ]
        }
      ]
    },
    {
      "cell_type": "code",
      "source": [
        "y_score = Model.decision_function(X_test)\n",
        "\n",
        "fpr, tpr, _ = roc_curve(y_test, y_score, pos_label=Model.classes_[1])\n",
        "roc_display = RocCurveDisplay(fpr=fpr, tpr=tpr).plot()\n",
        "\n",
        "prec, recall, _ = precision_recall_curve(y_test, y_score, pos_label=Model.classes_[1])\n",
        "pr_display = PrecisionRecallDisplay(precision=prec, recall=recall).plot()"
      ],
      "metadata": {
        "colab": {
          "base_uri": "https://localhost:8080/",
          "height": 541
        },
        "id": "QE0BsrQJ1GHy",
        "outputId": "7056aac3-eb32-4a0e-abfc-63b89eddfbb0"
      },
      "execution_count": 46,
      "outputs": [
        {
          "output_type": "display_data",
          "data": {
            "text/plain": [
              "<Figure size 432x288 with 1 Axes>"
            ],
            "image/png": "[encoded data removed]"
          },
          "metadata": {
            "needs_background": "light"
          }
        },
        {
          "output_type": "display_data",
          "data": {
            "text/plain": [
              "<Figure size 432x288 with 1 Axes>"
            ],
            "image/png": "[encoded data removed]"
          },
          "metadata": {
            "needs_background": "light"
          }
        }
      ]
    }
  ]
}