{
 "cells": [
  {
   "cell_type": "markdown",
   "metadata": {
    "id": "YTgf19sEVI9s"
   },
   "source": [
    "DATASET 1 - ADULT\n",
    "QUESTION 1"
   ]
  },
  {
   "cell_type": "code",
   "execution_count": 1,
   "metadata": {
    "colab": {
     "base_uri": "https://localhost:8080/"
    },
    "id": "DP5gtDRkoHO5",
    "outputId": "fbe2258c-16d5-47d7-d676-66dacd624f5b"
   },
   "outputs": [
    {
     "name": "stdout",
     "output_type": "stream",
     "text": [
      "Requirement already satisfied: aif360 in /usr/local/lib/python3.7/dist-packages (0.4.0)\n",
      "Requirement already satisfied: scipy<1.6.0,>=1.2.0 in /usr/local/lib/python3.7/dist-packages (from aif360) (1.4.1)\n",
      "Requirement already satisfied: scikit-learn>=0.22.1 in /usr/local/lib/python3.7/dist-packages (from aif360) (1.0.2)\n",
      "Requirement already satisfied: tempeh in /usr/local/lib/python3.7/dist-packages (from aif360) (0.1.12)\n",
      "Requirement already satisfied: numpy>=1.16 in /usr/local/lib/python3.7/dist-packages (from aif360) (1.21.6)\n",
      "Requirement already satisfied: matplotlib in /usr/local/lib/python3.7/dist-packages (from aif360) (3.2.2)\n",
      "Requirement already satisfied: pandas>=0.24.0 in /usr/local/lib/python3.7/dist-packages (from aif360) (1.3.5)\n",
      "Requirement already satisfied: pytz>=2017.3 in /usr/local/lib/python3.7/dist-packages (from pandas>=0.24.0->aif360) (2022.1)\n",
      "Requirement already satisfied: python-dateutil>=2.7.3 in /usr/local/lib/python3.7/dist-packages (from pandas>=0.24.0->aif360) (2.8.2)\n",
      "Requirement already satisfied: six>=1.5 in /usr/local/lib/python3.7/dist-packages (from python-dateutil>=2.7.3->pandas>=0.24.0->aif360) (1.15.0)\n",
      "Requirement already satisfied: joblib>=0.11 in /usr/local/lib/python3.7/dist-packages (from scikit-learn>=0.22.1->aif360) (1.1.0)\n",
      "Requirement already satisfied: threadpoolctl>=2.0.0 in /usr/local/lib/python3.7/dist-packages (from scikit-learn>=0.22.1->aif360) (3.1.0)\n",
      "Requirement already satisfied: cycler>=0.10 in /usr/local/lib/python3.7/dist-packages (from matplotlib->aif360) (0.11.0)\n",
      "Requirement already satisfied: pyparsing!=2.0.4,!=2.1.2,!=2.1.6,>=2.0.1 in /usr/local/lib/python3.7/dist-packages (from matplotlib->aif360) (3.0.8)\n",
      "Requirement already satisfied: kiwisolver>=1.0.1 in /usr/local/lib/python3.7/dist-packages (from matplotlib->aif360) (1.4.2)\n",
      "Requirement already satisfied: typing-extensions in /usr/local/lib/python3.7/dist-packages (from kiwisolver>=1.0.1->matplotlib->aif360) (4.2.0)\n",
      "Requirement already satisfied: shap in /usr/local/lib/python3.7/dist-packages (from tempeh->aif360) (0.40.0)\n",
      "Requirement already satisfied: requests in /usr/local/lib/python3.7/dist-packages (from tempeh->aif360) (2.23.0)\n",
      "Requirement already satisfied: memory-profiler in /usr/local/lib/python3.7/dist-packages (from tempeh->aif360) (0.60.0)\n",
      "Requirement already satisfied: pytest in /usr/local/lib/python3.7/dist-packages (from tempeh->aif360) (3.6.4)\n",
      "Requirement already satisfied: psutil in /usr/local/lib/python3.7/dist-packages (from memory-profiler->tempeh->aif360) (5.4.8)\n",
      "Requirement already satisfied: more-itertools>=4.0.0 in /usr/local/lib/python3.7/dist-packages (from pytest->tempeh->aif360) (8.12.0)\n",
      "Requirement already satisfied: setuptools in /usr/local/lib/python3.7/dist-packages (from pytest->tempeh->aif360) (57.4.0)\n",
      "Requirement already satisfied: py>=1.5.0 in /usr/local/lib/python3.7/dist-packages (from pytest->tempeh->aif360) (1.11.0)\n",
      "Requirement already satisfied: pluggy<0.8,>=0.5 in /usr/local/lib/python3.7/dist-packages (from pytest->tempeh->aif360) (0.7.1)\n",
      "Requirement already satisfied: attrs>=17.4.0 in /usr/local/lib/python3.7/dist-packages (from pytest->tempeh->aif360) (21.4.0)\n",
      "Requirement already satisfied: atomicwrites>=1.0 in /usr/local/lib/python3.7/dist-packages (from pytest->tempeh->aif360) (1.4.0)\n",
      "Requirement already satisfied: urllib3!=1.25.0,!=1.25.1,<1.26,>=1.21.1 in /usr/local/lib/python3.7/dist-packages (from requests->tempeh->aif360) (1.24.3)\n",
      "Requirement already satisfied: chardet<4,>=3.0.2 in /usr/local/lib/python3.7/dist-packages (from requests->tempeh->aif360) (3.0.4)\n",
      "Requirement already satisfied: idna<3,>=2.5 in /usr/local/lib/python3.7/dist-packages (from requests->tempeh->aif360) (2.10)\n",
      "Requirement already satisfied: certifi>=2017.4.17 in /usr/local/lib/python3.7/dist-packages (from requests->tempeh->aif360) (2021.10.8)\n",
      "Requirement already satisfied: packaging>20.9 in /usr/local/lib/python3.7/dist-packages (from shap->tempeh->aif360) (21.3)\n",
      "Requirement already satisfied: cloudpickle in /usr/local/lib/python3.7/dist-packages (from shap->tempeh->aif360) (1.3.0)\n",
      "Requirement already satisfied: tqdm>4.25.0 in /usr/local/lib/python3.7/dist-packages (from shap->tempeh->aif360) (4.64.0)\n",
      "Requirement already satisfied: numba in /usr/local/lib/python3.7/dist-packages (from shap->tempeh->aif360) (0.51.2)\n",
      "Requirement already satisfied: slicer==0.0.7 in /usr/local/lib/python3.7/dist-packages (from shap->tempeh->aif360) (0.0.7)\n",
      "Requirement already satisfied: llvmlite<0.35,>=0.34.0.dev0 in /usr/local/lib/python3.7/dist-packages (from numba->shap->tempeh->aif360) (0.34.0)\n"
     ]
    }
   ],
   "source": [
    "!pip install 'aif360'\n",
    "#Code to install the aif360 library if not already on device "
   ]
  },
  {
   "cell_type": "code",
   "execution_count": 2,
   "metadata": {
    "colab": {
     "base_uri": "https://localhost:8080/"
    },
    "id": "vIe-MShZo7Xd",
    "outputId": "fc9430c7-4dcf-4498-adbc-9dea04593387"
   },
   "outputs": [
    {
     "name": "stdout",
     "output_type": "stream",
     "text": [
      "/usr/local/lib/python3.7/dist-packages/aif360/data/raw/adult\n"
     ]
    }
   ],
   "source": [
    "cd /usr/local/lib/python3.7/dist-packages/aif360/data/raw/adult"
   ]
  },
  {
   "cell_type": "code",
   "execution_count": 3,
   "metadata": {
    "colab": {
     "base_uri": "https://localhost:8080/"
    },
    "id": "HCMRZ-wsopxz",
    "outputId": "12f111dc-250d-407c-e631-ed49db485624"
   },
   "outputs": [
    {
     "name": "stdout",
     "output_type": "stream",
     "text": [
      "--2022-05-12 16:13:32--  https://archive.ics.uci.edu/ml/machine-learning-databases/adult/adult.data\n",
      "Resolving archive.ics.uci.edu (archive.ics.uci.edu)... 128.195.10.252\n",
      "Connecting to archive.ics.uci.edu (archive.ics.uci.edu)|128.195.10.252|:443... connected.\n",
      "HTTP request sent, awaiting response... 200 OK\n",
      "Length: 3974305 (3.8M) [application/x-httpd-php]\n",
      "Saving to: ‘adult.data’\n",
      "\n",
      "adult.data          100%[===================>]   3.79M  3.59MB/s    in 1.1s    \n",
      "\n",
      "2022-05-12 16:13:34 (3.59 MB/s) - ‘adult.data’ saved [3974305/3974305]\n",
      "\n",
      "--2022-05-12 16:13:34--  https://archive.ics.uci.edu/ml/machine-learning-databases/adult/adult.names\n",
      "Resolving archive.ics.uci.edu (archive.ics.uci.edu)... 128.195.10.252\n",
      "Connecting to archive.ics.uci.edu (archive.ics.uci.edu)|128.195.10.252|:443... connected.\n",
      "HTTP request sent, awaiting response... 200 OK\n",
      "Length: 5229 (5.1K) [application/x-httpd-php]\n",
      "Saving to: ‘adult.names’\n",
      "\n",
      "adult.names         100%[===================>]   5.11K  --.-KB/s    in 0s      \n",
      "\n",
      "2022-05-12 16:13:34 (134 MB/s) - ‘adult.names’ saved [5229/5229]\n",
      "\n",
      "--2022-05-12 16:13:34--  https://archive.ics.uci.edu/ml/machine-learning-databases/adult/adult.test\n",
      "Resolving archive.ics.uci.edu (archive.ics.uci.edu)... 128.195.10.252\n",
      "Connecting to archive.ics.uci.edu (archive.ics.uci.edu)|128.195.10.252|:443... connected.\n",
      "HTTP request sent, awaiting response... 200 OK\n",
      "Length: 2003153 (1.9M) [application/x-httpd-php]\n",
      "Saving to: ‘adult.test’\n",
      "\n",
      "adult.test          100%[===================>]   1.91M  2.09MB/s    in 0.9s    \n",
      "\n",
      "2022-05-12 16:13:36 (2.09 MB/s) - ‘adult.test’ saved [2003153/2003153]\n",
      "\n"
     ]
    }
   ],
   "source": [
    "!wget https://archive.ics.uci.edu/ml/machine-learning-databases/adult/adult.data\n",
    "!wget https://archive.ics.uci.edu/ml/machine-learning-databases/adult/adult.names\n",
    "!wget https://archive.ics.uci.edu/ml/machine-learning-databases/adult/adult.test"
   ]
  },
  {
   "cell_type": "code",
   "execution_count": 4,
   "metadata": {
    "colab": {
     "base_uri": "https://localhost:8080/"
    },
    "id": "tGIbxI-kpHsf",
    "outputId": "7b451b4d-ff8f-4aa8-e00a-dad7908e94be"
   },
   "outputs": [
    {
     "name": "stdout",
     "output_type": "stream",
     "text": [
      "Requirement already satisfied: fairlearn in /usr/local/lib/python3.7/dist-packages (0.7.0)\n",
      "Requirement already satisfied: numpy>=1.17.2 in /usr/local/lib/python3.7/dist-packages (from fairlearn) (1.21.6)\n",
      "Requirement already satisfied: scipy>=1.4.1 in /usr/local/lib/python3.7/dist-packages (from fairlearn) (1.4.1)\n",
      "Requirement already satisfied: scikit-learn>=0.22.1 in /usr/local/lib/python3.7/dist-packages (from fairlearn) (1.0.2)\n",
      "Requirement already satisfied: pandas>=0.25.1 in /usr/local/lib/python3.7/dist-packages (from fairlearn) (1.3.5)\n",
      "Requirement already satisfied: python-dateutil>=2.7.3 in /usr/local/lib/python3.7/dist-packages (from pandas>=0.25.1->fairlearn) (2.8.2)\n",
      "Requirement already satisfied: pytz>=2017.3 in /usr/local/lib/python3.7/dist-packages (from pandas>=0.25.1->fairlearn) (2022.1)\n",
      "Requirement already satisfied: six>=1.5 in /usr/local/lib/python3.7/dist-packages (from python-dateutil>=2.7.3->pandas>=0.25.1->fairlearn) (1.15.0)\n",
      "Requirement already satisfied: threadpoolctl>=2.0.0 in /usr/local/lib/python3.7/dist-packages (from scikit-learn>=0.22.1->fairlearn) (3.1.0)\n",
      "Requirement already satisfied: joblib>=0.11 in /usr/local/lib/python3.7/dist-packages (from scikit-learn>=0.22.1->fairlearn) (1.1.0)\n"
     ]
    }
   ],
   "source": [
    "pip install fairlearn"
   ]
  },
  {
   "cell_type": "code",
   "execution_count": 5,
   "metadata": {
    "id": "aQbAMkiXpE0u"
   },
   "outputs": [],
   "source": [
    "from aif360.datasets import AdultDataset\n",
    "from aif360.algorithms.preprocessing.optim_preproc_helpers.data_preproc_functions import load_preproc_data_adult\n",
    "import numpy as np\n",
    "from sklearn.preprocessing import StandardScaler\n",
    "from aif360.metrics import ClassificationMetric\n",
    "from sklearn.model_selection import StratifiedKFold\n",
    "\n",
    "np.random.seed(4) #set random seed for reproducible results"
   ]
  },
  {
   "cell_type": "code",
   "execution_count": 6,
   "metadata": {
    "id": "9MsYRMi3pk8h"
   },
   "outputs": [],
   "source": [
    "OG_dataset = load_preproc_data_adult(['sex']) #setting the protected attribute to sex\n",
    "\n",
    "OG_dataset_train, OG_dataset_test = OG_dataset.split([0.7], shuffle=True) #Split the dataset, 70% for training and 30% for test\n",
    "\n",
    "privileged_groups = [{'sex': 1}] #Male\n",
    "unprivileged_groups = [{'sex': 0}] #Female\n",
    "\n",
    "#Normalise the data (as per the lab class)\n",
    "scale = StandardScaler()\n",
    "X_train = scale.fit_transform(OG_dataset_train.features) #scales each feature/variable to unit variance\n",
    "y_train = OG_dataset_train.labels.ravel() #Flattens array\n",
    "\n",
    "X_test = scale.transform(OG_dataset_test.features) \n",
    "y_test = OG_dataset_test.labels.ravel() \n",
    "\n"
   ]
  },
  {
   "cell_type": "code",
   "execution_count": 7,
   "metadata": {
    "colab": {
     "base_uri": "https://localhost:8080/",
     "height": 286
    },
    "id": "O7ivgzXmdAXr",
    "outputId": "ecb00345-39fb-48cd-f339-f98c71b52f82"
   },
   "outputs": [
    {
     "data": {
      "text/plain": [
       "Text(0.5, 0, 'Female                                             Male')"
      ]
     },
     "execution_count": 7,
     "metadata": {},
     "output_type": "execute_result"
    },
    {
     "data": {
      "image/png": "[encoded data removed]",
      "text/plain": [
       "<Figure size 432x288 with 1 Axes>"
      ]
     },
     "metadata": {
      "needs_background": "light"
     },
     "output_type": "display_data"
    }
   ],
   "source": [
    "import pandas as pd\n",
    "import matplotlib as plt\n",
    "import matplotlib.pyplot as plt\n",
    "\n",
    "df = pd.DataFrame( OG_dataset.features , columns= OG_dataset.feature_names) #pandas dataframe makes visualisaion easier\n",
    "df = df.assign(labels=OG_dataset.labels)\n",
    "\n",
    "crosstab = pd.crosstab(df['sex'], df['labels'])\n",
    "\n",
    "#bar chart to visualise the data we have\n",
    "ax = crosstab.plot(kind='bar')\n",
    "ax.legend([\"<50K\", \">50k\"])\n",
    "ax.xaxis.set_ticklabels([]) \n",
    "ax.set_xlabel(\"Female                                             Male\")"
   ]
  },
  {
   "cell_type": "code",
   "execution_count": 8,
   "metadata": {
    "id": "s2PdwD6Tre7d"
   },
   "outputs": [],
   "source": [
    "from numpy import mean\n",
    "from numpy import std\n",
    "from sklearn.model_selection import KFold\n",
    "from sklearn.model_selection import cross_val_score\n",
    "from sklearn.model_selection import cross_val_predict\n",
    "from sklearn.linear_model import LogisticRegression"
   ]
  },
  {
   "cell_type": "code",
   "execution_count": 9,
   "metadata": {
    "colab": {
     "base_uri": "https://localhost:8080/"
    },
    "id": "e1A-dI2hrlmw",
    "outputId": "9541256e-6b23-4e7c-c6b7-71739f82a149"
   },
   "outputs": [
    {
     "name": "stdout",
     "output_type": "stream",
     "text": [
      "Accuracy: 0.804  Standard deviation: 0.004\n"
     ]
    }
   ],
   "source": [
    "Cross_Validation = StratifiedKFold(n_splits=5, shuffle=True, random_state=1) #defining number of folds for cross validation\n",
    "Model = LogisticRegression(solver='liblinear', random_state=1) #defining my model\n",
    "\n",
    "Scores = cross_val_score(Model, X_train, y_train, scoring='accuracy', cv=Cross_Validation) #training my cross validated models\n",
    "\n",
    "print('Accuracy: %.3f  Standard deviation: %.3f' % (mean(Scores), std(Scores))) #printing the accuracy + SD"
   ]
  },
  {
   "cell_type": "code",
   "execution_count": 10,
   "metadata": {
    "colab": {
     "base_uri": "https://localhost:8080/"
    },
    "id": "eviJo6uPCDRM",
    "outputId": "95ac7d2c-e7c8-44f5-9343-551f794a94bc"
   },
   "outputs": [
    {
     "name": "stdout",
     "output_type": "stream",
     "text": [
      "C value = 100000  Accuracy: 0.804\n",
      "C value = 1000  Accuracy: 0.804\n",
      "C value = 10  Accuracy: 0.804\n",
      "C value = 1.0  Accuracy: 0.804\n",
      "C value = 0.01  Accuracy: 0.805\n",
      "C value = 0.0001  Accuracy: 0.798\n",
      "C value = 1e-06  Accuracy: 0.796\n",
      "C value = 1e-08  Accuracy: 0.796\n",
      "The model with the highest accuracy has a C value of:  0.01\n"
     ]
    }
   ],
   "source": [
    "C_Values=[100000, 1000, 10, 1.0, 0.01, 0.0001, 0.000001, 0.00000001] #the regularisation values i will be using for my analysis\n",
    "\n",
    "my_dict = {}\n",
    "accuracy = []\n",
    "\n",
    "for i in C_Values:\n",
    "  Model = LogisticRegression(C=i, solver='liblinear')\n",
    "  Scores = cross_val_score(Model, X_train, y_train, scoring='accuracy', cv=Cross_Validation) #performing cross validation and outputting average accuracy\n",
    "  print(\"C value = \" +  str(i) + '  Accuracy: %.3f' % (mean(Scores)))\n",
    "  accuracy.append(mean(Scores))\n",
    "\n",
    "for i in range(len(C_Values)):\n",
    "    my_dict[C_Values[i]] = accuracy[i]\n",
    "\n",
    "find_best_accuracy = max(my_dict, key=my_dict.get) #selecting the C value pertaining to the most accurate model, stores in a dictionary for easy look up\n",
    "\n",
    "print( \"The model with the highest accuracy has a C value of: \", find_best_accuracy)"
   ]
  },
  {
   "cell_type": "code",
   "execution_count": 11,
   "metadata": {
    "colab": {
     "base_uri": "https://localhost:8080/"
    },
    "id": "ohgMMQIvPSrH",
    "outputId": "873ef624-bd53-49b7-8042-19bc664d4309"
   },
   "outputs": [
    {
     "name": "stdout",
     "output_type": "stream",
     "text": [
      "C value = 100000  Equality_of_Opportunity score: -0.452\n",
      "C value = 1000  Equality_of_Opportunity score: -0.452\n",
      "C value = 10  Equality_of_Opportunity score: -0.452\n",
      "C value = 1.0  Equality_of_Opportunity score: -0.452\n",
      "C value = 0.01  Equality_of_Opportunity score: -0.449\n",
      "C value = 0.0001  Equality_of_Opportunity score: -0.240\n",
      "C value = 1e-06  Equality_of_Opportunity score: -0.231\n",
      "C value = 1e-08  Equality_of_Opportunity score: -0.224\n",
      "The model with the highest fairness has a C value of:  1e-08\n"
     ]
    }
   ],
   "source": [
    "C_Values=[100000, 1000, 10, 1.0, 0.01, 0.0001, 0.000001, 0.00000001]\n",
    "\n",
    "my_dict = {}\n",
    "fairness = []\n",
    "value= 0\n",
    "\n",
    "for i in C_Values:\n",
    "  Model = LogisticRegression(C=i, solver='liblinear')\n",
    "  Scores = cross_val_score(Model, X_train, y_train, scoring='accuracy', cv=Cross_Validation)\n",
    "\n",
    "  predictions = cross_val_predict(Model, X_train, y_train, cv=Cross_Validation) #performing cross validations and outputting predictions\n",
    "\n",
    "  train_predictions = OG_dataset_train.copy() #copy of train dataset\n",
    "  train_predictions.labels = predictions #adding the predictions just made to the copy of the dataset \n",
    "\n",
    "  Metric = ClassificationMetric(OG_dataset_train, train_predictions , unprivileged_groups=unprivileged_groups, privileged_groups=privileged_groups)\n",
    "  Equal_of_Opp = Metric.equal_opportunity_difference() #applying equality of opportunity metric to predictions based on groups defined earlier \n",
    "  print(\"C value = \" +  str(i) + '  Equality_of_Opportunity score: %.3f' % Equal_of_Opp)\n",
    "  fairness.append(Equal_of_Opp)\n",
    "\n",
    "for i in range(len(C_Values)):\n",
    "    my_dict[C_Values[i]] = fairness[i]\n",
    "\n",
    "fair_key, fair_val = min(my_dict.items(), key=lambda x: abs(value - x[1])) #selecting the value closest to 0 from a dictionary \n",
    "\n",
    "print( \"The model with the highest fairness has a C value of: \", fair_key)"
   ]
  },
  {
   "cell_type": "code",
   "execution_count": 12,
   "metadata": {
    "id": "pTTvYFZzwKUP"
   },
   "outputs": [],
   "source": [
    "Model_1 = find_best_accuracy\n",
    "Model_2 = fair_key"
   ]
  },
  {
   "cell_type": "code",
   "execution_count": 13,
   "metadata": {
    "id": "9o756h3r1C9i"
   },
   "outputs": [],
   "source": [
    "from sklearn.model_selection import cross_validate"
   ]
  },
  {
   "cell_type": "code",
   "execution_count": 14,
   "metadata": {
    "colab": {
     "base_uri": "https://localhost:8080/"
    },
    "id": "opx_A5XHy4xl",
    "outputId": "1493b74d-d137-43fd-8530-615194de0b1f"
   },
   "outputs": [
    {
     "name": "stdout",
     "output_type": "stream",
     "text": [
      "C value =  0.01\n",
      "Accuracy 0.8027025182556473\n",
      "Equality_of_Opportunity score: -0.451\n"
     ]
    }
   ],
   "source": [
    "print(\"C value = \", Model_1)\n",
    "Model = LogisticRegression(C=Model_1, solver='liblinear')\n",
    "Model.fit(X_train, y_train) #fitting more accurate model\n",
    "predictions = Model.predict(X_test) #making predictions\n",
    "\n",
    "test_predictions = OG_dataset_test.copy()\n",
    "test_predictions.labels = predictions\n",
    "print(\"Accuracy\", sum(predictions==y_test)/len(y_test))\n",
    "\n",
    "Metric = ClassificationMetric(OG_dataset_test, test_predictions , unprivileged_groups=unprivileged_groups, privileged_groups=privileged_groups)\n",
    "Equal_of_Opp = Metric.equal_opportunity_difference() #applying eqaulity of opportunity metric\n",
    "print('Equality_of_Opportunity score: %.3f' % Equal_of_Opp)"
   ]
  },
  {
   "cell_type": "code",
   "execution_count": 15,
   "metadata": {
    "colab": {
     "base_uri": "https://localhost:8080/",
     "height": 541
    },
    "id": "XSfW1VkUv4JP",
    "outputId": "77e15583-63ac-4c56-948e-32daa5b1be17"
   },
   "outputs": [
    {
     "data": {
      "image/png": "[encoded data removed]",
      "text/plain": [
       "<Figure size 432x288 with 1 Axes>"
      ]
     },
     "metadata": {
      "needs_background": "light"
     },
     "output_type": "display_data"
    },
    {
     "data": {
      "image/png": "[encoded data removed]",
      "text/plain": [
       "<Figure size 432x288 with 1 Axes>"
      ]
     },
     "metadata": {
      "needs_background": "light"
     },
     "output_type": "display_data"
    }
   ],
   "source": [
    "from sklearn.metrics import roc_curve\n",
    "from sklearn.metrics import RocCurveDisplay\n",
    "from sklearn.metrics import precision_recall_curve\n",
    "from sklearn.metrics import PrecisionRecallDisplay\n",
    "\n",
    "y_score = Model.decision_function(X_test)\n",
    "\n",
    "fpr, tpr, _ = roc_curve(y_test, y_score, pos_label=Model.classes_[1])\n",
    "roc_display = RocCurveDisplay(fpr=fpr, tpr=tpr).plot()\n",
    "\n",
    "prec, recall, _ = precision_recall_curve(y_test, y_score, pos_label=Model.classes_[1])\n",
    "pr_display = PrecisionRecallDisplay(precision=prec, recall=recall).plot()\n",
    "\n",
    "#plotting ROC curves and precision recall curves - code adapted from Scikit learn[16]"
   ]
  },
  {
   "cell_type": "code",
   "execution_count": 16,
   "metadata": {
    "colab": {
     "base_uri": "https://localhost:8080/"
    },
    "id": "3qwvWVhc305F",
    "outputId": "e320e4d4-795c-4076-8dba-8eb5359b2d0d"
   },
   "outputs": [
    {
     "name": "stdout",
     "output_type": "stream",
     "text": [
      "C value =  1e-08\n",
      "Accuracy 0.7963556950795059\n",
      "Equality_of_Opportunity score: -0.231\n"
     ]
    }
   ],
   "source": [
    "print(\"C value = \", Model_2)\n",
    "Model = LogisticRegression(C=Model_2, solver='liblinear')\n",
    "Model.fit(X_train, y_train)\n",
    "predictions = Model.predict(X_test)\n",
    "\n",
    "test_predictions = OG_dataset_test.copy()\n",
    "test_predictions.labels = predictions\n",
    "print(\"Accuracy\", sum(predictions==y_test)/len(y_test))\n",
    "\n",
    "Metric = ClassificationMetric(OG_dataset_test, test_predictions , unprivileged_groups=unprivileged_groups, privileged_groups=privileged_groups)\n",
    "Equal_of_Opp = Metric.equal_opportunity_difference()\n",
    "print('Equality_of_Opportunity score: %.3f' % Equal_of_Opp)"
   ]
  },
  {
   "cell_type": "code",
   "execution_count": 17,
   "metadata": {
    "colab": {
     "base_uri": "https://localhost:8080/",
     "height": 541
    },
    "id": "5kJjgfD38BD3",
    "outputId": "1b83d87c-24dd-46f4-bdce-984aba426f77"
   },
   "outputs": [
    {
     "data": {
      "image/png": "[encoded data removed]",
      "text/plain": [
       "<Figure size 432x288 with 1 Axes>"
      ]
     },
     "metadata": {
      "needs_background": "light"
     },
     "output_type": "display_data"
    },
    {
     "data": {
      "image/png": "[encoded data removed]",
      "text/plain": [
       "<Figure size 432x288 with 1 Axes>"
      ]
     },
     "metadata": {
      "needs_background": "light"
     },
     "output_type": "display_data"
    }
   ],
   "source": [
    "y_score = Model.decision_function(X_test)\n",
    "\n",
    "fpr, tpr, _ = roc_curve(y_test, y_score, pos_label=Model.classes_[1])\n",
    "roc_display = RocCurveDisplay(fpr=fpr, tpr=tpr).plot()\n",
    "\n",
    "prec, recall, _ = precision_recall_curve(y_test, y_score, pos_label=Model.classes_[1])\n",
    "pr_display = PrecisionRecallDisplay(precision=prec, recall=recall).plot()"
   ]
  },
  {
   "cell_type": "code",
   "execution_count": 18,
   "metadata": {
    "colab": {
     "base_uri": "https://localhost:8080/"
    },
    "id": "BR8NhQrJ7xNf",
    "outputId": "0287ee44-1423-46a2-bf6b-bf187db7e820"
   },
   "outputs": [
    {
     "name": "stdout",
     "output_type": "stream",
     "text": [
      "14653\n"
     ]
    }
   ],
   "source": [
    "print(len(predictions))"
   ]
  },
  {
   "cell_type": "code",
   "execution_count": 19,
   "metadata": {
    "id": "dj5ggJcTYUAt"
   },
   "outputs": [],
   "source": [
    "#you can see from when we loaded in the dataset that it is pretty large\n",
    "#therefore a drop in 0.8% seem trival but it actually mean that misclassifactions are up by over 1,000 instances"
   ]
  },
  {
   "cell_type": "code",
   "execution_count": 19,
   "metadata": {
    "id": "2iZwtUjAZ2sb"
   },
   "outputs": [],
   "source": []
  },
  {
   "cell_type": "code",
   "execution_count": 20,
   "metadata": {
    "colab": {
     "base_uri": "https://localhost:8080/"
    },
    "id": "uz0FbYLwTPtJ",
    "outputId": "71467a77-4148-45de-b522-95ea818adaed"
   },
   "outputs": [
    {
     "name": "stdout",
     "output_type": "stream",
     "text": [
      "C value = 100000  Accuracy: 0.789  Equality_of_Opportunity score: 0.001\n",
      "C value = 1000  Accuracy: 0.789  Equality_of_Opportunity score: 0.001\n",
      "C value = 10  Accuracy: 0.789  Equality_of_Opportunity score: 0.001\n",
      "C value = 1.0  Accuracy: 0.789  Equality_of_Opportunity score: 0.001\n",
      "C value = 0.01  Accuracy: 0.789  Equality_of_Opportunity score: 0.001\n",
      "C value = 0.0001  Accuracy: 0.789  Equality_of_Opportunity score: 0.005\n",
      "C value = 1e-06  Accuracy: 0.786  Equality_of_Opportunity score: 0.010\n",
      "C value = 1e-08  Accuracy: 0.786  Equality_of_Opportunity score: 0.010\n",
      "The model with the highest accuracy has a C value of:  0.0001\n",
      "The model with the best fairness has a C value of:  100000\n"
     ]
    }
   ],
   "source": [
    "from aif360.algorithms.preprocessing.reweighing import Reweighing\n",
    "\n",
    "my_dict1 = {}\n",
    "my_dict2 = {}\n",
    "accuracy = []\n",
    "fairness = []\n",
    "\n",
    "RW = Reweighing(unprivileged_groups=unprivileged_groups, privileged_groups=privileged_groups) #function that performs the reweighting for us\n",
    "train = RW.fit_transform(OG_dataset_train) #change instance weights to the new ones\n",
    "weights = train.instance_weights #saving ours weights to a variable to use below\n",
    "\n",
    "for i in C_Values:\n",
    "  Model = LogisticRegression(C=i, solver='liblinear')\n",
    "  Scores = cross_val_score(Model, X_train, y_train, fit_params= {'sample_weight': weights}, scoring='accuracy', cv=Cross_Validation) #cross validation with new weights\n",
    "  accuracy.append(mean(Scores))\n",
    "\n",
    "  predictions = cross_val_predict(Model, X_train, y_train, fit_params= {'sample_weight': weights}, cv=Cross_Validation) #predictions with new weights\n",
    "  train_predictions = OG_dataset_train.copy()\n",
    "  train_predictions.labels = predictions\n",
    "\n",
    "  Metric = ClassificationMetric(OG_dataset_train, train_predictions , unprivileged_groups=unprivileged_groups, privileged_groups=privileged_groups)\n",
    "  Equal_of_Opp = Metric.equal_opportunity_difference()\n",
    "  fairness.append(Equal_of_Opp)\n",
    "  print(\"C value = \" +  str(i) + '  Accuracy: %.3f' % (mean(Scores)) + '  Equality_of_Opportunity score: %.3f' % Equal_of_Opp)\n",
    "\n",
    "for i in range(len(C_Values)):\n",
    "    my_dict1[C_Values[i]] = accuracy[i]\n",
    "\n",
    "find_best_accuracy = max(my_dict1, key=my_dict1.get)\n",
    "\n",
    "print( \"The model with the highest accuracy has a C value of: \", find_best_accuracy)\n",
    "\n",
    "for i in range(len(C_Values)):\n",
    "    my_dict2[C_Values[i]] = fairness[i]\n",
    "\n",
    "fair_key, fair_val = min(my_dict2.items(), key=lambda x: abs(value - x[1]))\n",
    "\n",
    "print( \"The model with the best fairness has a C value of: \", fair_key)"
   ]
  },
  {
   "cell_type": "code",
   "execution_count": 21,
   "metadata": {
    "id": "PZhYDNXgfui2"
   },
   "outputs": [],
   "source": [
    "Model_3 = find_best_accuracy\n",
    "Model_4 = fair_key"
   ]
  },
  {
   "cell_type": "code",
   "execution_count": 22,
   "metadata": {
    "colab": {
     "base_uri": "https://localhost:8080/"
    },
    "id": "Y1iYA2qffuoS",
    "outputId": "ab272b4d-5cad-4050-d1b7-1f35f24579d0"
   },
   "outputs": [
    {
     "name": "stdout",
     "output_type": "stream",
     "text": [
      "C value =  0.0001\n",
      "Accuracy 0.7911007984713028\n",
      "Equality_of_Opportunity score: -0.003\n"
     ]
    }
   ],
   "source": [
    "print(\"C value = \", Model_3)\n",
    "Model = LogisticRegression(C=Model_3, solver='liblinear')\n",
    "Model.fit(X_train, y_train, sample_weight = weights)\n",
    "predictions = Model.predict(X_test)\n",
    "\n",
    "test_predictions = OG_dataset_test.copy()\n",
    "test_predictions.labels = predictions\n",
    "print(\"Accuracy\", sum(predictions==y_test)/len(y_test))\n",
    "\n",
    "Metric = ClassificationMetric(OG_dataset_test, test_predictions , unprivileged_groups=unprivileged_groups, privileged_groups=privileged_groups)\n",
    "Equal_of_Opp = Metric.equal_opportunity_difference()\n",
    "print('Equality_of_Opportunity score: %.3f' % Equal_of_Opp)"
   ]
  },
  {
   "cell_type": "code",
   "execution_count": 23,
   "metadata": {
    "colab": {
     "base_uri": "https://localhost:8080/",
     "height": 541
    },
    "id": "Jj0NOm-Uy4Zo",
    "outputId": "46e3fe7b-ff72-4017-f117-d114fc916046"
   },
   "outputs": [
    {
     "data": {
      "image/png": "[encoded data removed]",
      "text/plain": [
       "<Figure size 432x288 with 1 Axes>"
      ]
     },
     "metadata": {
      "needs_background": "light"
     },
     "output_type": "display_data"
    },
    {
     "data": {
      "image/png": "[encoded data removed]",
      "text/plain": [
       "<Figure size 432x288 with 1 Axes>"
      ]
     },
     "metadata": {
      "needs_background": "light"
     },
     "output_type": "display_data"
    }
   ],
   "source": [
    "y_score = Model.decision_function(X_test)\n",
    "\n",
    "fpr, tpr, _ = roc_curve(y_test, y_score, pos_label=Model.classes_[1])\n",
    "roc_display = RocCurveDisplay(fpr=fpr, tpr=tpr).plot()\n",
    "\n",
    "prec, recall, _ = precision_recall_curve(y_test, y_score, pos_label=Model.classes_[1])\n",
    "pr_display = PrecisionRecallDisplay(precision=prec, recall=recall).plot()"
   ]
  },
  {
   "cell_type": "code",
   "execution_count": 24,
   "metadata": {
    "id": "3RyHZwWb6Wf4"
   },
   "outputs": [],
   "source": [
    "from sklearn.metrics import log_loss"
   ]
  },
  {
   "cell_type": "code",
   "execution_count": 25,
   "metadata": {
    "colab": {
     "base_uri": "https://localhost:8080/"
    },
    "id": "ArzVgEK3d_XM",
    "outputId": "b84f6181-3dc9-408a-e73b-b1a1110699d1"
   },
   "outputs": [
    {
     "name": "stdout",
     "output_type": "stream",
     "text": [
      "C value =  100000\n",
      "Accuracy 0.7886439636934416\n",
      "Equality_of_Opportunity score: 0.015\n"
     ]
    }
   ],
   "source": [
    "print(\"C value = \", Model_4)\n",
    "Model = LogisticRegression(C=Model_4, solver='liblinear')\n",
    "Model.fit(X_train, y_train, sample_weight = weights)\n",
    "predictions = Model.predict(X_test)\n",
    "\n",
    "test_predictions = OG_dataset_test.copy()\n",
    "test_predictions.labels = predictions\n",
    "print(\"Accuracy\", sum(predictions==y_test)/len(y_test))\n",
    "\n",
    "Metric = ClassificationMetric(OG_dataset_test, test_predictions , unprivileged_groups=unprivileged_groups, privileged_groups=privileged_groups)\n",
    "Equal_of_Opp = Metric.equal_opportunity_difference()\n",
    "print('Equality_of_Opportunity score: %.3f' % Equal_of_Opp)"
   ]
  },
  {
   "cell_type": "code",
   "execution_count": 26,
   "metadata": {
    "colab": {
     "base_uri": "https://localhost:8080/",
     "height": 541
    },
    "id": "szCURMx08S48",
    "outputId": "3e264938-8f4c-478f-efc8-c789f9bcc351"
   },
   "outputs": [
    {
     "data": {
      "image/png": "[encoded data removed]",
      "text/plain": [
       "<Figure size 432x288 with 1 Axes>"
      ]
     },
     "metadata": {
      "needs_background": "light"
     },
     "output_type": "display_data"
    },
    {
     "data": {
      "image/png": "[encoded data removed]",
      "text/plain": [
       "<Figure size 432x288 with 1 Axes>"
      ]
     },
     "metadata": {
      "needs_background": "light"
     },
     "output_type": "display_data"
    }
   ],
   "source": [
    "y_score = Model.decision_function(X_test)\n",
    "\n",
    "fpr, tpr, _ = roc_curve(y_test, y_score, pos_label=Model.classes_[1])\n",
    "roc_display = RocCurveDisplay(fpr=fpr, tpr=tpr).plot()\n",
    "\n",
    "prec, recall, _ = precision_recall_curve(y_test, y_score, pos_label=Model.classes_[1])\n",
    "pr_display = PrecisionRecallDisplay(precision=prec, recall=recall).plot()"
   ]
  },
  {
   "cell_type": "code",
   "execution_count": 27,
   "metadata": {
    "id": "oiO3CUqgeRUg"
   },
   "outputs": [],
   "source": [
    "#TASK 3 before reweighting "
   ]
  },
  {
   "cell_type": "code",
   "execution_count": 28,
   "metadata": {
    "colab": {
     "base_uri": "https://localhost:8080/"
    },
    "id": "SrCMeqGYMlsK",
    "outputId": "65def5df-f331-4b8a-fe34-7f28090b3bf9"
   },
   "outputs": [
    {
     "name": "stdout",
     "output_type": "stream",
     "text": [
      "C value = 100000  Accuracy: 0.804  Equality_of_Opportunity score: -0.452\n",
      "C value = 1000  Accuracy: 0.804  Equality_of_Opportunity score: -0.452\n",
      "C value = 10  Accuracy: 0.804  Equality_of_Opportunity score: -0.452\n",
      "C value = 1.0  Accuracy: 0.804  Equality_of_Opportunity score: -0.452\n",
      "C value = 0.01  Accuracy: 0.805  Equality_of_Opportunity score: -0.449\n",
      "C value = 0.0001  Accuracy: 0.798  Equality_of_Opportunity score: -0.240\n",
      "C value = 1e-06  Accuracy: 0.796  Equality_of_Opportunity score: -0.231\n",
      "C value = 1e-08  Accuracy: 0.796  Equality_of_Opportunity score: -0.224\n",
      "The model that has been selected as most fair + accurate is:  1e-08\n",
      "The model selected using bayes information theroy:  1.0\n"
     ]
    }
   ],
   "source": [
    "my_dict1 = {}\n",
    "my_dict2 = {}\n",
    "accuracy = []\n",
    "fairness = []\n",
    "value= 0\n",
    "\n",
    "my_dict3 = {}\n",
    "BIC_scores =[]\n",
    "\n",
    "for i in C_Values:\n",
    "  Model = LogisticRegression(C=i, solver='liblinear')\n",
    "  Scores = cross_val_score(Model, X_train, y_train, scoring='accuracy', cv=Cross_Validation)\n",
    "  accuracy.append(mean(Scores))\n",
    "\n",
    "  predictions = cross_val_predict(Model, X_train, y_train, cv=Cross_Validation)\n",
    "\n",
    "  train_predictions = OG_dataset_train.copy()\n",
    "  train_predictions.labels = predictions\n",
    "\n",
    "  Metric = ClassificationMetric(OG_dataset_train, train_predictions , unprivileged_groups=unprivileged_groups, privileged_groups=privileged_groups)\n",
    "  Equal_of_Opp = Metric.equal_opportunity_difference()\n",
    "  fairness.append(Equal_of_Opp)\n",
    "  print(\"C value = \" +  str(i) + '  Accuracy: %.3f' % (mean(Scores)) + '  Equality_of_Opportunity score: %.3f' % Equal_of_Opp)\n",
    "\n",
    "  proba = cross_val_predict(Model, X_train, y_train, cv=Cross_Validation, method='predict_proba') #obtaining prediction probabilities as opposed to noraml predictions\n",
    "  my_log_loss = log_loss(OG_dataset_train.labels, proba) #function to calculate the log_loss\n",
    "  log_liklihood = my_log_loss * -1 #log_likihood is inverse of log_loss\n",
    "  BIC= -2 * log_liklihood + np.log(X_train.shape[0]) * X_train.shape[1] #applied the BIC formula to my models\n",
    "  BIC_scores.append(BIC) #stored in a list\n",
    "\n",
    "for i in range(len(C_Values)):\n",
    "    my_dict1[C_Values[i]] = accuracy[i]\n",
    "\n",
    "for i in range(len(C_Values)):\n",
    "    my_dict2[C_Values[i]] = fairness[i]\n",
    "\n",
    "for i in range(len(C_Values)):\n",
    "    my_dict3[C_Values[i]] = BIC_scores[i]\n",
    "\n",
    "for i in my_dict1:\n",
    "  fair_key, fair_val = min(my_dict2.items(), key=lambda x: abs(value - x[1]))\n",
    "  highest_accuracy = max(my_dict1.values())\n",
    "  accuracy_cireteria = highest_accuracy - 0.01\n",
    "\n",
    "  fair_acc = 0\n",
    "  for Cval, acc in my_dict1.items(): \n",
    "    if Cval == fair_key:\n",
    "        fair_acc = fair_acc + acc\n",
    "\n",
    "  if fair_acc > accuracy_cireteria:\n",
    "    print(\"The model that has been selected as most fair + accurate is: \", fair_key)\n",
    "    break\n",
    "  else:\n",
    "    del my_dict2[fair_key]\n",
    "\n",
    "find_best_BIC = min(my_dict3, key=my_dict3.get) #selected lowest BIC score as this is supposed to be optimal \n",
    "\n",
    "print( \"The model selected using bayes information theroy: \", find_best_BIC)"
   ]
  },
  {
   "cell_type": "code",
   "execution_count": 29,
   "metadata": {
    "id": "T872O1e6cY3E"
   },
   "outputs": [],
   "source": [
    "Model_5 = fair_key\n",
    "Model_5_cond = find_best_BIC"
   ]
  },
  {
   "cell_type": "code",
   "execution_count": 30,
   "metadata": {
    "colab": {
     "base_uri": "https://localhost:8080/"
    },
    "id": "Ma2PHwEcV9u0",
    "outputId": "60f2038b-45e5-4057-8422-60b75a2760e7"
   },
   "outputs": [
    {
     "name": "stdout",
     "output_type": "stream",
     "text": [
      "C value =  1e-08\n",
      "Accuracy 0.7963556950795059\n",
      "Equality_of_Opportunity score: -0.231\n"
     ]
    }
   ],
   "source": [
    "print(\"C value = \", Model_5)\n",
    "Model = LogisticRegression(C=Model_5, solver='liblinear')\n",
    "Model.fit(X_train, y_train)\n",
    "predictions = Model.predict(X_test)\n",
    "\n",
    "test_predictions = OG_dataset_test.copy()\n",
    "test_predictions.labels = predictions\n",
    "print(\"Accuracy\", sum(predictions==y_test)/len(y_test))\n",
    "\n",
    "Metric = ClassificationMetric(OG_dataset_test, test_predictions , unprivileged_groups=unprivileged_groups, privileged_groups=privileged_groups)\n",
    "Equal_of_Opp = Metric.equal_opportunity_difference()\n",
    "print('Equality_of_Opportunity score: %.3f' % Equal_of_Opp)"
   ]
  },
  {
   "cell_type": "code",
   "execution_count": 31,
   "metadata": {
    "colab": {
     "base_uri": "https://localhost:8080/",
     "height": 541
    },
    "id": "zQIJcQ1c8Vn-",
    "outputId": "5300340a-08b2-4da6-afae-ef52c88b40ef"
   },
   "outputs": [
    {
     "data": {
      "image/png": "[encoded data removed]",
      "text/plain": [
       "<Figure size 432x288 with 1 Axes>"
      ]
     },
     "metadata": {
      "needs_background": "light"
     },
     "output_type": "display_data"
    },
    {
     "data": {
      "image/png": "[encoded data removed]",
      "text/plain": [
       "<Figure size 432x288 with 1 Axes>"
      ]
     },
     "metadata": {
      "needs_background": "light"
     },
     "output_type": "display_data"
    }
   ],
   "source": [
    "y_score = Model.decision_function(X_test)\n",
    "\n",
    "fpr, tpr, _ = roc_curve(y_test, y_score, pos_label=Model.classes_[1])\n",
    "roc_display = RocCurveDisplay(fpr=fpr, tpr=tpr).plot()\n",
    "\n",
    "prec, recall, _ = precision_recall_curve(y_test, y_score, pos_label=Model.classes_[1])\n",
    "pr_display = PrecisionRecallDisplay(precision=prec, recall=recall).plot()"
   ]
  },
  {
   "cell_type": "code",
   "execution_count": 32,
   "metadata": {
    "colab": {
     "base_uri": "https://localhost:8080/"
    },
    "id": "jv7COOr7zGyv",
    "outputId": "f8f821fe-ecb6-4c1a-f810-269614cf22df"
   },
   "outputs": [
    {
     "name": "stdout",
     "output_type": "stream",
     "text": [
      "C value =  1.0\n",
      "Accuracy 0.8027025182556473\n",
      "Equality_of_Opportunity score: -0.451\n"
     ]
    }
   ],
   "source": [
    "print(\"C value = \", Model_5_cond)\n",
    "Model = LogisticRegression(C=Model_5_cond, solver='liblinear')\n",
    "Model.fit(X_train, y_train)\n",
    "predictions = Model.predict(X_test)\n",
    "\n",
    "test_predictions = OG_dataset_test.copy()\n",
    "test_predictions.labels = predictions\n",
    "print(\"Accuracy\", sum(predictions==y_test)/len(y_test))\n",
    "\n",
    "Metric = ClassificationMetric(OG_dataset_test, test_predictions , unprivileged_groups=unprivileged_groups, privileged_groups=privileged_groups)\n",
    "Equal_of_Opp = Metric.equal_opportunity_difference()\n",
    "print('Equality_of_Opportunity score: %.3f' % Equal_of_Opp)"
   ]
  },
  {
   "cell_type": "code",
   "execution_count": 33,
   "metadata": {
    "colab": {
     "base_uri": "https://localhost:8080/",
     "height": 541
    },
    "id": "XLeGuyMb8W6J",
    "outputId": "94aebccf-5d81-456d-e0dd-be3a5925d7f0"
   },
   "outputs": [
    {
     "data": {
      "image/png": "[encoded data removed]",
      "text/plain": [
       "<Figure size 432x288 with 1 Axes>"
      ]
     },
     "metadata": {
      "needs_background": "light"
     },
     "output_type": "display_data"
    },
    {
     "data": {
      "image/png": "[encoded data removed]",
      "text/plain": [
       "<Figure size 432x288 with 1 Axes>"
      ]
     },
     "metadata": {
      "needs_background": "light"
     },
     "output_type": "display_data"
    }
   ],
   "source": [
    "y_score = Model.decision_function(X_test)\n",
    "\n",
    "fpr, tpr, _ = roc_curve(y_test, y_score, pos_label=Model.classes_[1])\n",
    "roc_display = RocCurveDisplay(fpr=fpr, tpr=tpr).plot()\n",
    "\n",
    "prec, recall, _ = precision_recall_curve(y_test, y_score, pos_label=Model.classes_[1])\n",
    "pr_display = PrecisionRecallDisplay(precision=prec, recall=recall).plot()"
   ]
  },
  {
   "cell_type": "code",
   "execution_count": 34,
   "metadata": {
    "id": "Nxdgxg2ja_vr"
   },
   "outputs": [],
   "source": [
    "#TASK3 - after reweighting"
   ]
  },
  {
   "cell_type": "code",
   "execution_count": 35,
   "metadata": {
    "colab": {
     "base_uri": "https://localhost:8080/"
    },
    "id": "R8fbSsB6Mlwn",
    "outputId": "ff1a4142-703e-4f1b-c76f-6f274508200a"
   },
   "outputs": [
    {
     "name": "stdout",
     "output_type": "stream",
     "text": [
      "C value = 100000  Accuracy: 0.789  Equality_of_Opportunity score: 0.001\n",
      "C value = 1000  Accuracy: 0.789  Equality_of_Opportunity score: 0.001\n",
      "C value = 10  Accuracy: 0.789  Equality_of_Opportunity score: 0.001\n",
      "C value = 1.0  Accuracy: 0.789  Equality_of_Opportunity score: 0.001\n",
      "C value = 0.01  Accuracy: 0.789  Equality_of_Opportunity score: 0.001\n",
      "C value = 0.0001  Accuracy: 0.789  Equality_of_Opportunity score: 0.005\n",
      "C value = 1e-06  Accuracy: 0.786  Equality_of_Opportunity score: 0.010\n",
      "C value = 1e-08  Accuracy: 0.786  Equality_of_Opportunity score: 0.010\n",
      "The model that has been selected as most fair + accurate is:  100000\n",
      "{100000: 188.75338439287228, 1000: 188.75338437789443, 10: 188.75338293993843, 1.0: 188.7533742399374, 0.01: 188.75510950121884, 0.0001: 188.99399261699295, 1e-06: 189.2932966321671, 1e-08: 189.3000910821789}\n",
      "The model selected using bayes information theroy:  1.0\n"
     ]
    }
   ],
   "source": [
    "my_dict1 = {}\n",
    "my_dict2 = {}\n",
    "my_dict3 = {}\n",
    "accuracy = []\n",
    "fairness = []\n",
    "BIC_scores = []\n",
    "\n",
    "\n",
    "RW = Reweighing(unprivileged_groups=unprivileged_groups, privileged_groups=privileged_groups)\n",
    "train = RW.fit_transform(OG_dataset_train)\n",
    "weights = train.instance_weights\n",
    "\n",
    "for i in C_Values:\n",
    "  Model = LogisticRegression(C=i, solver='liblinear')\n",
    "  Scores = cross_val_score(Model, X_train, y_train, fit_params= {'sample_weight': weights}, scoring='accuracy', cv=Cross_Validation)\n",
    "  accuracy.append(mean(Scores))\n",
    "\n",
    "  predictions = cross_val_predict(Model, X_train, y_train, fit_params= {'sample_weight': weights}, cv=Cross_Validation)\n",
    "  train_predictions = OG_dataset_train.copy()\n",
    "  train_predictions.labels = predictions\n",
    "\n",
    "  Metric = ClassificationMetric(OG_dataset_train, train_predictions , unprivileged_groups=unprivileged_groups, privileged_groups=privileged_groups)\n",
    "  Equal_of_Opp = Metric.equal_opportunity_difference()\n",
    "  fairness.append(Equal_of_Opp)\n",
    "  print(\"C value = \" +  str(i) + '  Accuracy: %.3f' % (mean(Scores)) + '  Equality_of_Opportunity score: %.3f' % Equal_of_Opp)\n",
    "\n",
    "  proba = cross_val_predict(Model, X_train, y_train, cv=Cross_Validation, method='predict_proba')\n",
    "  my_log_loss = log_loss(OG_dataset_train.labels, proba) \n",
    "  log_liklihood = my_log_loss * -1\n",
    "  BIC= -2 * log_liklihood + np.log(X_train.shape[0]) * X_train.shape[1] \n",
    "  BIC_scores.append(BIC) \n",
    "\n",
    "for i in range(len(C_Values)):\n",
    "    my_dict1[C_Values[i]] = accuracy[i]\n",
    "\n",
    "for i in range(len(C_Values)):\n",
    "    my_dict2[C_Values[i]] = fairness[i]\n",
    "\n",
    "for i in range(len(C_Values)):\n",
    "    my_dict3[C_Values[i]] = BIC_scores[i]\n",
    "\n",
    "for i in my_dict1:\n",
    "  fair_key, fair_val = min(my_dict2.items(), key=lambda x: abs(value - x[1]))\n",
    "  highest_accuracy = max(my_dict1.values())\n",
    "  accuracy_cireteria = highest_accuracy - 0.01\n",
    "\n",
    "  fair_acc = 0\n",
    "  for Cval, acc in my_dict1.items(): \n",
    "    if Cval == fair_key:\n",
    "        fair_acc = fair_acc + acc\n",
    "\n",
    "  if fair_acc > accuracy_cireteria:\n",
    "    print(\"The model that has been selected as most fair + accurate is: \", fair_key)\n",
    "    break\n",
    "  else:\n",
    "    del my_dict2[fair_key]\n",
    "\n",
    "print(my_dict3)\n",
    "find_best_BIC = min(my_dict3, key=my_dict3.get)\n",
    "\n",
    "print( \"The model selected using bayes information theroy: \", find_best_BIC)"
   ]
  },
  {
   "cell_type": "code",
   "execution_count": 36,
   "metadata": {
    "id": "mYNaLzMdcfCW"
   },
   "outputs": [],
   "source": [
    "Model_6 = fair_key\n",
    "Model_6_cond = find_best_BIC"
   ]
  },
  {
   "cell_type": "code",
   "execution_count": 37,
   "metadata": {
    "colab": {
     "base_uri": "https://localhost:8080/"
    },
    "id": "955o-ROBTa8w",
    "outputId": "edfaa3bb-adea-4ed2-ba73-52d8c8ab9efe"
   },
   "outputs": [
    {
     "name": "stdout",
     "output_type": "stream",
     "text": [
      "C value =  100000\n",
      "Accuracy 0.7886439636934416\n",
      "Equality_of_Opportunity score: 0.015\n"
     ]
    }
   ],
   "source": [
    "print(\"C value = \", Model_6)\n",
    "Model = LogisticRegression(C=Model_6, solver='liblinear')\n",
    "Model.fit(X_train, y_train, sample_weight = weights)\n",
    "predictions = Model.predict(X_test)\n",
    "\n",
    "test_predictions = OG_dataset_test.copy()\n",
    "test_predictions.labels = predictions\n",
    "print(\"Accuracy\", sum(predictions==y_test)/len(y_test))\n",
    "\n",
    "Metric = ClassificationMetric(OG_dataset_test, test_predictions , unprivileged_groups=unprivileged_groups, privileged_groups=privileged_groups)\n",
    "Equal_of_Opp = Metric.equal_opportunity_difference()\n",
    "print('Equality_of_Opportunity score: %.3f' % Equal_of_Opp)"
   ]
  },
  {
   "cell_type": "code",
   "execution_count": 38,
   "metadata": {
    "colab": {
     "base_uri": "https://localhost:8080/"
    },
    "id": "9Ymy-tv6beRW",
    "outputId": "60c8b961-6b57-4255-fe6e-60eea150bce6"
   },
   "outputs": [
    {
     "name": "stdout",
     "output_type": "stream",
     "text": [
      "C value =  1.0\n",
      "Accuracy 0.7886439636934416\n",
      "Equality_of_Opportunity score: 0.015\n"
     ]
    }
   ],
   "source": [
    "print(\"C value = \", Model_6_cond)\n",
    "Model = LogisticRegression(C=Model_6_cond, solver='liblinear')\n",
    "Model.fit(X_train, y_train, sample_weight = weights)\n",
    "predictions = Model.predict(X_test)\n",
    "\n",
    "test_predictions = OG_dataset_test.copy()\n",
    "test_predictions.labels = predictions\n",
    "print(\"Accuracy\", sum(predictions==y_test)/len(y_test))\n",
    "\n",
    "Metric = ClassificationMetric(OG_dataset_test, test_predictions , unprivileged_groups=unprivileged_groups, privileged_groups=privileged_groups)\n",
    "Equal_of_Opp = Metric.equal_opportunity_difference()\n",
    "print('Equality_of_Opportunity score: %.3f' % Equal_of_Opp)"
   ]
  },
  {
   "cell_type": "code",
   "execution_count": 39,
   "metadata": {
    "colab": {
     "base_uri": "https://localhost:8080/",
     "height": 541
    },
    "id": "3OAWBDgJ8Zul",
    "outputId": "f38f265d-d1d0-43f2-d1da-cbcbbc6eae4f"
   },
   "outputs": [
    {
     "data": {
      "image/png": "[encoded data removed]",
      "text/plain": [
       "<Figure size 432x288 with 1 Axes>"
      ]
     },
     "metadata": {
      "needs_background": "light"
     },
     "output_type": "display_data"
    },
    {
     "data": {
      "image/png": "[encoded data removed]",
      "text/plain": [
       "<Figure size 432x288 with 1 Axes>"
      ]
     },
     "metadata": {
      "needs_background": "light"
     },
     "output_type": "display_data"
    }
   ],
   "source": [
    "y_score = Model.decision_function(X_test)\n",
    "\n",
    "fpr, tpr, _ = roc_curve(y_test, y_score, pos_label=Model.classes_[1])\n",
    "roc_display = RocCurveDisplay(fpr=fpr, tpr=tpr).plot()\n",
    "\n",
    "prec, recall, _ = precision_recall_curve(y_test, y_score, pos_label=Model.classes_[1])\n",
    "pr_display = PrecisionRecallDisplay(precision=prec, recall=recall).plot()"
   ]
  },
  {
   "cell_type": "code",
   "execution_count": 39,
   "metadata": {
    "id": "Kf6p-0zDbe7d"
   },
   "outputs": [],
   "source": []
  },
  {
   "cell_type": "code",
   "execution_count": 39,
   "metadata": {
    "id": "EJxIqWxA3fq2"
   },
   "outputs": [],
   "source": []
  },
  {
   "cell_type": "code",
   "execution_count": 39,
   "metadata": {
    "id": "gO37olNY3f26"
   },
   "outputs": [],
   "source": []
  },
  {
   "cell_type": "markdown",
   "metadata": {
    "id": "OZvrhltX6Evg"
   },
   "source": [
    "NOW ONTO THE GERMAN DATASET"
   ]
  },
  {
   "cell_type": "code",
   "execution_count": 40,
   "metadata": {
    "colab": {
     "base_uri": "https://localhost:8080/"
    },
    "id": "aSEqucHR83b_",
    "outputId": "30d2473e-6b47-46ed-bdfa-63b9ee979b1c"
   },
   "outputs": [
    {
     "name": "stdout",
     "output_type": "stream",
     "text": [
      "/usr/local/lib/python3.7/dist-packages/aif360/data/raw/german\n"
     ]
    }
   ],
   "source": [
    "cd /usr/local/lib/python3.7/dist-packages/aif360/data/raw/german"
   ]
  },
  {
   "cell_type": "code",
   "execution_count": 41,
   "metadata": {
    "colab": {
     "base_uri": "https://localhost:8080/"
    },
    "id": "2tbmPvt886T8",
    "outputId": "74da23a9-67eb-4d5f-f9f6-52c7de4f75a7"
   },
   "outputs": [
    {
     "name": "stdout",
     "output_type": "stream",
     "text": [
      "--2022-05-12 16:15:05--  https://archive.ics.uci.edu/ml/machine-learning-databases/statlog/german/german.data\n",
      "Resolving archive.ics.uci.edu (archive.ics.uci.edu)... 128.195.10.252\n",
      "Connecting to archive.ics.uci.edu (archive.ics.uci.edu)|128.195.10.252|:443... connected.\n",
      "HTTP request sent, awaiting response... 200 OK\n",
      "Length: 79793 (78K) [application/x-httpd-php]\n",
      "Saving to: ‘german.data.1’\n",
      "\n",
      "german.data.1       100%[===================>]  77.92K   296KB/s    in 0.3s    \n",
      "\n",
      "2022-05-12 16:15:06 (296 KB/s) - ‘german.data.1’ saved [79793/79793]\n",
      "\n"
     ]
    }
   ],
   "source": [
    "!wget https://archive.ics.uci.edu/ml/machine-learning-databases/statlog/german/german.data"
   ]
  },
  {
   "cell_type": "code",
   "execution_count": 101,
   "metadata": {
    "id": "pmXB52-48A6n"
   },
   "outputs": [],
   "source": [
    "from aif360.datasets import GermanDataset\n",
    "from aif360.algorithms.preprocessing.optim_preproc_helpers.data_preproc_functions import load_preproc_data_german\n",
    "\n",
    "np.random.seed(4)"
   ]
  },
  {
   "cell_type": "code",
   "execution_count": 102,
   "metadata": {
    "id": "RuHfeO67t5KF"
   },
   "outputs": [],
   "source": [
    "OG_dataset = load_preproc_data_german(['age']) #setting the protected attribute to age\n",
    "\n",
    "OG_dataset_train, OG_dataset_test = OG_dataset.split([0.7], shuffle=True) \n",
    "\n",
    "privileged_groups2 = [{'age': 1}] #Over 25\n",
    "unprivileged_groups2 = [{'age': 0}] #Under 25\n",
    "\n",
    "#Normalise all the data (as per the lab class)\n",
    "scale = StandardScaler()\n",
    "X_train = scale.fit_transform(OG_dataset_train.features) #scales each feature/variable to unit variance\n",
    "y_train = OG_dataset_train.labels.ravel() #Flattens array\n",
    "\n",
    "X_test = scale.transform(OG_dataset_test.features) \n",
    "y_test = OG_dataset_test.labels.ravel()"
   ]
  },
  {
   "cell_type": "code",
   "execution_count": 44,
   "metadata": {
    "colab": {
     "base_uri": "https://localhost:8080/",
     "height": 286
    },
    "id": "K3u-Fj2F-Qfe",
    "outputId": "13bf8127-4f0c-474f-f01d-537dce64aeed"
   },
   "outputs": [
    {
     "data": {
      "text/plain": [
       "Text(0.5, 0, 'Young                                             Old')"
      ]
     },
     "execution_count": 44,
     "metadata": {},
     "output_type": "execute_result"
    },
    {
     "data": {
      "image/png": "[encoded data removed]",
      "text/plain": [
       "<Figure size 432x288 with 1 Axes>"
      ]
     },
     "metadata": {
      "needs_background": "light"
     },
     "output_type": "display_data"
    }
   ],
   "source": [
    "df = pd.DataFrame( OG_dataset.features , columns= OG_dataset.feature_names) \n",
    "df = df.assign(labels=OG_dataset.labels)\n",
    "\n",
    "crosstab = pd.crosstab(df['age'], df['labels'])\n",
    "\n",
    "ax = crosstab.plot(kind='bar')\n",
    "ax.legend([\"Good Credit\", \"Bad credit\"])\n",
    "ax.xaxis.set_ticklabels([]) \n",
    "ax.set_xlabel(\"Young                                             Old\")"
   ]
  },
  {
   "cell_type": "code",
   "execution_count": 103,
   "metadata": {
    "colab": {
     "base_uri": "https://localhost:8080/"
    },
    "id": "sgU9QKnBuI36",
    "outputId": "5bfa11c7-b1bf-48a9-c6e8-e1110a4d229f"
   },
   "outputs": [
    {
     "name": "stdout",
     "output_type": "stream",
     "text": [
      "Accuracy: 0.714  Standard deviation: 0.012\n"
     ]
    }
   ],
   "source": [
    "Cross_Validation = StratifiedKFold(n_splits=5, shuffle=True, random_state=1)\n",
    "Model = LogisticRegression(solver='liblinear', random_state=1)\n",
    "\n",
    "Scores = cross_val_score(Model, X_train, y_train, scoring='accuracy', cv=Cross_Validation)\n",
    "print('Accuracy: %.3f  Standard deviation: %.3f' % (mean(Scores), std(Scores)))"
   ]
  },
  {
   "cell_type": "code",
   "execution_count": 104,
   "metadata": {
    "colab": {
     "base_uri": "https://localhost:8080/"
    },
    "id": "DimM38MiwhYt",
    "outputId": "c41bb428-47ec-4e4f-93a9-baf186925de0"
   },
   "outputs": [
    {
     "name": "stdout",
     "output_type": "stream",
     "text": [
      "C value = 100000  Accuracy: 0.714\n",
      "C value = 1000  Accuracy: 0.714\n",
      "C value = 10  Accuracy: 0.714\n",
      "C value = 1.0  Accuracy: 0.714\n",
      "C value = 0.01  Accuracy: 0.720\n",
      "C value = 0.0001  Accuracy: 0.660\n",
      "C value = 1e-06  Accuracy: 0.660\n",
      "C value = 1e-08  Accuracy: 0.660\n",
      "The model with the highest accuracy has a C value of:  0.01\n"
     ]
    }
   ],
   "source": [
    "C_Values=[100000, 1000, 10, 1.0, 0.01, 0.0001, 0.000001, 0.00000001]\n",
    "\n",
    "my_dict = {}\n",
    "accuracy = []\n",
    "\n",
    "for i in C_Values:\n",
    "  Model = LogisticRegression(C=i, solver='liblinear')\n",
    "  Scores = cross_val_score(Model, X_train, y_train, scoring='accuracy', cv=Cross_Validation)\n",
    "  print(\"C value = \" +  str(i) + '  Accuracy: %.3f' % (mean(Scores)))\n",
    "  accuracy.append(mean(Scores))\n",
    "\n",
    "for i in range(len(C_Values)):\n",
    "    my_dict[C_Values[i]] = accuracy[i]\n",
    "\n",
    "find_best_accuracy = max(my_dict, key=my_dict.get)\n",
    "\n",
    "print( \"The model with the highest accuracy has a C value of: \", find_best_accuracy)"
   ]
  },
  {
   "cell_type": "code",
   "execution_count": 105,
   "metadata": {
    "colab": {
     "base_uri": "https://localhost:8080/"
    },
    "id": "fO4iLXJ9w_bT",
    "outputId": "d01b799b-f133-44ed-8023-35c8d5885a3a"
   },
   "outputs": [
    {
     "name": "stdout",
     "output_type": "stream",
     "text": [
      "C value = 100000  Equality_of_Opportunity score: -0.300\n",
      "C value = 1000  Equality_of_Opportunity score: -0.300\n",
      "C value = 10  Equality_of_Opportunity score: -0.300\n",
      "C value = 1.0  Equality_of_Opportunity score: -0.300\n",
      "C value = 0.01  Equality_of_Opportunity score: -0.313\n",
      "C value = 0.0001  Equality_of_Opportunity score: -0.239\n",
      "C value = 1e-06  Equality_of_Opportunity score: -0.239\n",
      "C value = 1e-08  Equality_of_Opportunity score: -0.239\n",
      "The model with the highest fairness has a C value of:  0.0001\n"
     ]
    }
   ],
   "source": [
    "C_Values=[100000, 1000, 10, 1.0, 0.01, 0.0001, 0.000001, 0.00000001]\n",
    "\n",
    "my_dict = {}\n",
    "fairness = []\n",
    "\n",
    "for i in C_Values:\n",
    "  Model = LogisticRegression(C=i, solver='liblinear')\n",
    "  Scores = cross_val_score(Model, X_train, y_train, scoring='accuracy', cv=Cross_Validation)\n",
    "\n",
    "  predictions = cross_val_predict(Model, X_train, y_train, cv=Cross_Validation)\n",
    "\n",
    "  train_predictions = OG_dataset_train.copy()\n",
    "  train_predictions.labels = predictions\n",
    "\n",
    "  Metric = ClassificationMetric(OG_dataset_train, train_predictions , unprivileged_groups=unprivileged_groups2, privileged_groups=privileged_groups2)\n",
    "  Equal_of_Opp = Metric.equal_opportunity_difference()\n",
    "  print(\"C value = \" +  str(i) + '  Equality_of_Opportunity score: %.3f' % Equal_of_Opp)\n",
    "  fairness.append(Equal_of_Opp)\n",
    "\n",
    "for i in range(len(C_Values)):\n",
    "    my_dict[C_Values[i]] = fairness[i]\n",
    "\n",
    "fair_key, fair_val = min(my_dict.items(), key=lambda x: abs(value - x[1]))\n",
    "\n",
    "print( \"The model with the highest fairness has a C value of: \", fair_key)"
   ]
  },
  {
   "cell_type": "code",
   "execution_count": 106,
   "metadata": {
    "id": "58mVNYvPLj3e"
   },
   "outputs": [],
   "source": [
    "Model_1 = find_best_accuracy\n",
    "Model_2 = fair_key"
   ]
  },
  {
   "cell_type": "code",
   "execution_count": 107,
   "metadata": {
    "colab": {
     "base_uri": "https://localhost:8080/"
    },
    "id": "JOTIckuiL7_i",
    "outputId": "7abffd3d-5598-4890-a7c3-56f85074c3b0"
   },
   "outputs": [
    {
     "name": "stdout",
     "output_type": "stream",
     "text": [
      "C value =  0.01\n",
      "Accuracy 0.67\n",
      "Equality_of_Opportunity score: -0.503\n"
     ]
    }
   ],
   "source": [
    "print(\"C value = \", Model_1)\n",
    "Model = LogisticRegression(C=Model_1, solver='liblinear')\n",
    "Model.fit(X_train, y_train)\n",
    "predictions = Model.predict(X_test)\n",
    "\n",
    "test_predictions = OG_dataset_test.copy()\n",
    "test_predictions.labels = predictions\n",
    "print(\"Accuracy\", sum(predictions==y_test)/len(y_test))\n",
    "\n",
    "Metric = ClassificationMetric(OG_dataset_test, test_predictions , unprivileged_groups=unprivileged_groups2, privileged_groups=privileged_groups2)\n",
    "Equal_of_Opp = Metric.equal_opportunity_difference()\n",
    "print('Equality_of_Opportunity score: %.3f' % Equal_of_Opp)"
   ]
  },
  {
   "cell_type": "code",
   "execution_count": 50,
   "metadata": {
    "colab": {
     "base_uri": "https://localhost:8080/",
     "height": 541
    },
    "id": "IbWcWCAD8dgD",
    "outputId": "dd842141-f261-43f1-8f0a-d8c3ba98099d"
   },
   "outputs": [
    {
     "data": {
      "image/png": "[encoded data removed]",
      "text/plain": [
       "<Figure size 432x288 with 1 Axes>"
      ]
     },
     "metadata": {
      "needs_background": "light"
     },
     "output_type": "display_data"
    },
    {
     "data": {
      "image/png": "[encoded data removed]",
      "text/plain": [
       "<Figure size 432x288 with 1 Axes>"
      ]
     },
     "metadata": {
      "needs_background": "light"
     },
     "output_type": "display_data"
    }
   ],
   "source": [
    "y_score = Model.decision_function(X_test)\n",
    "\n",
    "fpr, tpr, _ = roc_curve(y_test, y_score, pos_label=Model.classes_[1])\n",
    "roc_display = RocCurveDisplay(fpr=fpr, tpr=tpr).plot()\n",
    "\n",
    "prec, recall, _ = precision_recall_curve(y_test, y_score, pos_label=Model.classes_[1])\n",
    "pr_display = PrecisionRecallDisplay(precision=prec, recall=recall).plot()"
   ]
  },
  {
   "cell_type": "code",
   "execution_count": 108,
   "metadata": {
    "colab": {
     "base_uri": "https://localhost:8080/"
    },
    "id": "5hu_v_qCPojt",
    "outputId": "4d38f18b-3257-4958-ad01-116c32c034a4"
   },
   "outputs": [
    {
     "name": "stdout",
     "output_type": "stream",
     "text": [
      "C value =  0.0001\n",
      "Accuracy 0.6333333333333333\n",
      "Equality_of_Opportunity score: -0.408\n"
     ]
    }
   ],
   "source": [
    "print(\"C value = \", Model_2)\n",
    "Model = LogisticRegression(C=Model_2, solver='liblinear')\n",
    "Model.fit(X_train, y_train)\n",
    "predictions = Model.predict(X_test)\n",
    "\n",
    "test_predictions = OG_dataset_test.copy()\n",
    "test_predictions.labels = predictions\n",
    "print(\"Accuracy\", sum(predictions==y_test)/len(y_test))\n",
    "\n",
    "Metric = ClassificationMetric(OG_dataset_test, test_predictions , unprivileged_groups=unprivileged_groups2, privileged_groups=privileged_groups2)\n",
    "Equal_of_Opp = Metric.equal_opportunity_difference()\n",
    "print('Equality_of_Opportunity score: %.3f' % Equal_of_Opp)"
   ]
  },
  {
   "cell_type": "code",
   "execution_count": 52,
   "metadata": {
    "colab": {
     "base_uri": "https://localhost:8080/",
     "height": 541
    },
    "id": "A7ncbneh8e55",
    "outputId": "ed23549c-8194-4bef-944a-14182c4cdf9d"
   },
   "outputs": [
    {
     "data": {
      "image/png": "[encoded data removed]",
      "text/plain": [
       "<Figure size 432x288 with 1 Axes>"
      ]
     },
     "metadata": {
      "needs_background": "light"
     },
     "output_type": "display_data"
    },
    {
     "data": {
      "image/png": "[encoded data removed]",
      "text/plain": [
       "<Figure size 432x288 with 1 Axes>"
      ]
     },
     "metadata": {
      "needs_background": "light"
     },
     "output_type": "display_data"
    }
   ],
   "source": [
    "y_score = Model.decision_function(X_test)\n",
    "\n",
    "fpr, tpr, _ = roc_curve(y_test, y_score, pos_label=Model.classes_[1])\n",
    "roc_display = RocCurveDisplay(fpr=fpr, tpr=tpr).plot()\n",
    "\n",
    "prec, recall, _ = precision_recall_curve(y_test, y_score, pos_label=Model.classes_[1])\n",
    "pr_display = PrecisionRecallDisplay(precision=prec, recall=recall).plot()"
   ]
  },
  {
   "cell_type": "code",
   "execution_count": 53,
   "metadata": {
    "colab": {
     "base_uri": "https://localhost:8080/"
    },
    "id": "trYC7spS0iXu",
    "outputId": "2ce8f7b6-a79e-4321-ffa1-900408bd70ff"
   },
   "outputs": [
    {
     "name": "stdout",
     "output_type": "stream",
     "text": [
      "400\n"
     ]
    }
   ],
   "source": [
    "print(len(predictions))"
   ]
  },
  {
   "cell_type": "code",
   "execution_count": 54,
   "metadata": {
    "id": "vAdS9kJTqgMb"
   },
   "outputs": [],
   "source": [
    "#clearly there is some inherent difference in the test set when it comes to fairness as it's lots higher!"
   ]
  },
  {
   "cell_type": "code",
   "execution_count": 55,
   "metadata": {
    "colab": {
     "base_uri": "https://localhost:8080/"
    },
    "id": "NLbu6gUGW5kC",
    "outputId": "eb24a9c0-5243-46d7-9cd3-95b3c97378e9"
   },
   "outputs": [
    {
     "name": "stdout",
     "output_type": "stream",
     "text": [
      "C value = 100000  Accuracy: 0.718  Equality_of_Opportunity score: 0.011\n",
      "C value = 1000  Accuracy: 0.718  Equality_of_Opportunity score: 0.011\n",
      "C value = 10  Accuracy: 0.718  Equality_of_Opportunity score: 0.011\n",
      "C value = 1.0  Accuracy: 0.718  Equality_of_Opportunity score: 0.011\n",
      "C value = 0.01  Accuracy: 0.682  Equality_of_Opportunity score: 0.030\n",
      "C value = 0.0001  Accuracy: 0.678  Equality_of_Opportunity score: -0.090\n",
      "C value = 1e-06  Accuracy: 0.678  Equality_of_Opportunity score: -0.090\n",
      "C value = 1e-08  Accuracy: 0.678  Equality_of_Opportunity score: -0.090\n",
      "The model with the highest accuracy has a C value of:  100000\n",
      "The model with the best fairness has a C value of:  100000\n"
     ]
    }
   ],
   "source": [
    "my_dict1 = {}\n",
    "my_dict2 = {}\n",
    "accuracy = []\n",
    "fairness = []\n",
    "\n",
    "RW = Reweighing(unprivileged_groups=unprivileged_groups2, privileged_groups=privileged_groups2)\n",
    "train = RW.fit_transform(OG_dataset_train)\n",
    "weights = train.instance_weights\n",
    "\n",
    "for i in C_Values:\n",
    "  Model = LogisticRegression(C=i, solver='liblinear')\n",
    "  Scores = cross_val_score(Model, X_train, y_train, fit_params= {'sample_weight': weights}, scoring='accuracy', cv=Cross_Validation)\n",
    "  accuracy.append(mean(Scores))\n",
    "\n",
    "  predictions = cross_val_predict(Model, X_train, y_train, fit_params= {'sample_weight': weights}, cv=Cross_Validation)\n",
    "  train_predictions = OG_dataset_train.copy()\n",
    "  train_predictions.labels = predictions\n",
    "\n",
    "  Metric = ClassificationMetric(OG_dataset_train, train_predictions , unprivileged_groups=unprivileged_groups2, privileged_groups=privileged_groups2)\n",
    "  Equal_of_Opp = Metric.equal_opportunity_difference()\n",
    "  fairness.append(Equal_of_Opp)\n",
    "  print(\"C value = \" +  str(i) + '  Accuracy: %.3f' % (mean(Scores)) + '  Equality_of_Opportunity score: %.3f' % Equal_of_Opp)\n",
    "\n",
    "for i in range(len(C_Values)):\n",
    "    my_dict1[C_Values[i]] = accuracy[i]\n",
    "\n",
    "find_best_accuracy = max(my_dict1, key=my_dict1.get)\n",
    "\n",
    "print( \"The model with the highest accuracy has a C value of: \", find_best_accuracy)\n",
    "\n",
    "for i in range(len(C_Values)):\n",
    "    my_dict2[C_Values[i]] = fairness[i]\n",
    "\n",
    "fair_key, fair_val = min(my_dict2.items(), key=lambda x: abs(value - x[1]))\n",
    "\n",
    "print( \"The model with the best fairness has a C value of: \", fair_key)"
   ]
  },
  {
   "cell_type": "code",
   "execution_count": 56,
   "metadata": {
    "id": "xE2oXv7xx67Y"
   },
   "outputs": [],
   "source": [
    "Model_3 = find_best_accuracy\n",
    "Model_4 = fair_key"
   ]
  },
  {
   "cell_type": "code",
   "execution_count": 57,
   "metadata": {
    "colab": {
     "base_uri": "https://localhost:8080/"
    },
    "id": "2vV00Xqox7aJ",
    "outputId": "e3b684c9-187c-4bc4-bfce-257b03bdd1c8"
   },
   "outputs": [
    {
     "name": "stdout",
     "output_type": "stream",
     "text": [
      "C value =  100000\n",
      "Accuracy 0.6775\n",
      "Equality_of_Opportunity score: -0.024\n"
     ]
    }
   ],
   "source": [
    "print(\"C value = \", Model_3)\n",
    "Model = LogisticRegression(C=Model_3, solver='liblinear')\n",
    "Model.fit(X_train, y_train, sample_weight = weights)\n",
    "predictions = Model.predict(X_test)\n",
    "\n",
    "test_predictions = OG_dataset_test.copy()\n",
    "test_predictions.labels = predictions\n",
    "print(\"Accuracy\", sum(predictions==y_test)/len(y_test))\n",
    "\n",
    "Metric = ClassificationMetric(OG_dataset_test, test_predictions , unprivileged_groups=unprivileged_groups2, privileged_groups=privileged_groups2)\n",
    "Equal_of_Opp = Metric.equal_opportunity_difference()\n",
    "print('Equality_of_Opportunity score: %.3f' % Equal_of_Opp)"
   ]
  },
  {
   "cell_type": "code",
   "execution_count": 58,
   "metadata": {
    "colab": {
     "base_uri": "https://localhost:8080/"
    },
    "id": "Z6GJg9TBdLma",
    "outputId": "0efb6dbc-f444-4390-bfb7-e1dd7c4b6af7"
   },
   "outputs": [
    {
     "name": "stdout",
     "output_type": "stream",
     "text": [
      "C value =  100000\n",
      "Accuracy 0.6775\n",
      "Equality_of_Opportunity score: -0.024\n"
     ]
    }
   ],
   "source": [
    "print(\"C value = \", Model_4)\n",
    "Model = LogisticRegression(C=Model_4, solver='liblinear')\n",
    "Model.fit(X_train, y_train, sample_weight = weights)\n",
    "predictions = Model.predict(X_test)\n",
    "\n",
    "test_predictions = OG_dataset_test.copy()\n",
    "test_predictions.labels = predictions\n",
    "print(\"Accuracy\", sum(predictions==y_test)/len(y_test))\n",
    "\n",
    "Metric = ClassificationMetric(OG_dataset_test, test_predictions , unprivileged_groups=unprivileged_groups2, privileged_groups=privileged_groups2)\n",
    "Equal_of_Opp = Metric.equal_opportunity_difference()\n",
    "print('Equality_of_Opportunity score: %.3f' % Equal_of_Opp)"
   ]
  },
  {
   "cell_type": "code",
   "execution_count": 59,
   "metadata": {
    "colab": {
     "base_uri": "https://localhost:8080/",
     "height": 541
    },
    "id": "pNL5qUL48tLx",
    "outputId": "52ee607c-642e-403a-bde5-950091001b91"
   },
   "outputs": [
    {
     "data": {
      "image/png": "[encoded data removed]",
      "text/plain": [
       "<Figure size 432x288 with 1 Axes>"
      ]
     },
     "metadata": {
      "needs_background": "light"
     },
     "output_type": "display_data"
    },
    {
     "data": {
      "image/png": "[encoded data removed]",
      "text/plain": [
       "<Figure size 432x288 with 1 Axes>"
      ]
     },
     "metadata": {
      "needs_background": "light"
     },
     "output_type": "display_data"
    }
   ],
   "source": [
    "y_score = Model.decision_function(X_test)\n",
    "\n",
    "fpr, tpr, _ = roc_curve(y_test, y_score, pos_label=Model.classes_[1])\n",
    "roc_display = RocCurveDisplay(fpr=fpr, tpr=tpr).plot()\n",
    "\n",
    "prec, recall, _ = precision_recall_curve(y_test, y_score, pos_label=Model.classes_[1])\n",
    "pr_display = PrecisionRecallDisplay(precision=prec, recall=recall).plot()"
   ]
  },
  {
   "cell_type": "code",
   "execution_count": 60,
   "metadata": {
    "id": "nYIwGfPtfXgT"
   },
   "outputs": [],
   "source": [
    "#TASK 3 - before reweighting"
   ]
  },
  {
   "cell_type": "code",
   "execution_count": 61,
   "metadata": {
    "colab": {
     "base_uri": "https://localhost:8080/"
    },
    "id": "CrOUAfyYeTzA",
    "outputId": "fd73a82e-9072-45ae-f9c3-5f42d50f2816"
   },
   "outputs": [
    {
     "name": "stdout",
     "output_type": "stream",
     "text": [
      "C value = 100000  Accuracy: 0.728  Equality_of_Opportunity score: -0.307\n",
      "C value = 1000  Accuracy: 0.728  Equality_of_Opportunity score: -0.307\n",
      "C value = 10  Accuracy: 0.728  Equality_of_Opportunity score: -0.307\n",
      "C value = 1.0  Accuracy: 0.728  Equality_of_Opportunity score: -0.307\n",
      "C value = 0.01  Accuracy: 0.722  Equality_of_Opportunity score: -0.368\n",
      "C value = 0.0001  Accuracy: 0.665  Equality_of_Opportunity score: -0.317\n",
      "C value = 1e-06  Accuracy: 0.665  Equality_of_Opportunity score: -0.317\n",
      "C value = 1e-08  Accuracy: 0.665  Equality_of_Opportunity score: -0.317\n",
      "The model that has been selected as most fair + accurate is:  100000\n",
      "The model selected using bayes information theroy:  1.0\n"
     ]
    }
   ],
   "source": [
    "my_dict1 = {}\n",
    "my_dict2 = {}\n",
    "accuracy = []\n",
    "fairness = []\n",
    "value= 0\n",
    "\n",
    "for i in C_Values:\n",
    "  Model = LogisticRegression(C=i, solver='liblinear')\n",
    "  Scores = cross_val_score(Model, X_train, y_train, scoring='accuracy', cv=Cross_Validation)\n",
    "  accuracy.append(mean(Scores))\n",
    "\n",
    "  predictions = cross_val_predict(Model, X_train, y_train, cv=Cross_Validation)\n",
    "\n",
    "  train_predictions = OG_dataset_train.copy()\n",
    "  train_predictions.labels = predictions\n",
    "\n",
    "  Metric = ClassificationMetric(OG_dataset_train, train_predictions , unprivileged_groups=unprivileged_groups2, privileged_groups=privileged_groups2)\n",
    "  Equal_of_Opp = Metric.equal_opportunity_difference()\n",
    "  fairness.append(Equal_of_Opp)\n",
    "  print(\"C value = \" +  str(i) + '  Accuracy: %.3f' % (mean(Scores)) + '  Equality_of_Opportunity score: %.3f' % Equal_of_Opp)\n",
    "\n",
    "  proba = cross_val_predict(Model, X_train, y_train, cv=Cross_Validation, method='predict_proba')\n",
    "  my_log_loss = log_loss(OG_dataset_train.labels, proba) \n",
    "  log_liklihood = my_log_loss * -1\n",
    "  BIC= -2 * log_liklihood + np.log(X_train.shape[0]) * X_train.shape[1] \n",
    "  BIC_scores.append(BIC) \n",
    "\n",
    "for i in range(len(C_Values)):\n",
    "    my_dict1[C_Values[i]] = accuracy[i]\n",
    "\n",
    "for i in range(len(C_Values)):\n",
    "    my_dict2[C_Values[i]] = fairness[i]\n",
    "\n",
    "for i in my_dict1:\n",
    "  fair_key, fair_val = min(my_dict2.items(), key=lambda x: abs(value - x[1]))\n",
    "  highest_accuracy = max(my_dict1.values())\n",
    "  accuracy_cireteria = highest_accuracy - 0.03\n",
    "\n",
    "  fair_acc = 0\n",
    "  for Cval, acc in my_dict1.items(): \n",
    "    if Cval == fair_key:\n",
    "        fair_acc = fair_acc + acc\n",
    "\n",
    "  if fair_acc > accuracy_cireteria:\n",
    "    print(\"The model that has been selected as most fair + accurate is: \", fair_key)\n",
    "    break\n",
    "  else:\n",
    "    del my_dict2[fair_key]\n",
    "\n",
    "for i in range(len(C_Values)):\n",
    "    my_dict3[C_Values[i]] = BIC_scores[i]\n",
    "\n",
    "find_best_BIC = min(my_dict3, key=my_dict3.get)\n",
    "\n",
    "print( \"The model selected using bayes information theroy: \", find_best_BIC)"
   ]
  },
  {
   "cell_type": "code",
   "execution_count": 62,
   "metadata": {
    "id": "U6UJBq4Bd4-N"
   },
   "outputs": [],
   "source": [
    "#This decision makes sense to me as the improvement in fairness is quite small and i don't think justifies a 5% drop in accuracy"
   ]
  },
  {
   "cell_type": "code",
   "execution_count": 63,
   "metadata": {
    "colab": {
     "base_uri": "https://localhost:8080/"
    },
    "id": "Bq59QNHrd5WY",
    "outputId": "558eb2c4-79ea-4341-ea34-f4710f888118"
   },
   "outputs": [
    {
     "name": "stdout",
     "output_type": "stream",
     "text": [
      "C value =  100000\n",
      "Accuracy 0.675\n",
      "Equality_of_Opportunity score: -0.456\n"
     ]
    }
   ],
   "source": [
    "Model_5 = fair_key\n",
    "Model_5_cond = find_best_BIC\n",
    "\n",
    "print(\"C value = \", Model_5)\n",
    "Model = LogisticRegression(C=Model_5, solver='liblinear')\n",
    "Model.fit(X_train, y_train)\n",
    "predictions = Model.predict(X_test)\n",
    "\n",
    "test_predictions = OG_dataset_test.copy()\n",
    "test_predictions.labels = predictions\n",
    "print(\"Accuracy\", sum(predictions==y_test)/len(y_test))\n",
    "\n",
    "Metric = ClassificationMetric(OG_dataset_test, test_predictions , unprivileged_groups=unprivileged_groups2, privileged_groups=privileged_groups2)\n",
    "Equal_of_Opp = Metric.equal_opportunity_difference()\n",
    "print('Equality_of_Opportunity score: %.3f' % Equal_of_Opp)"
   ]
  },
  {
   "cell_type": "code",
   "execution_count": 64,
   "metadata": {
    "colab": {
     "base_uri": "https://localhost:8080/"
    },
    "id": "tEoRwsLa6TN3",
    "outputId": "d900daac-4e5d-4520-880e-0363f0180b23"
   },
   "outputs": [
    {
     "name": "stdout",
     "output_type": "stream",
     "text": [
      "C value =  1.0\n",
      "Accuracy 0.675\n",
      "Equality_of_Opportunity score: -0.456\n"
     ]
    }
   ],
   "source": [
    "print(\"C value = \", Model_5_cond)\n",
    "Model = LogisticRegression(C=Model_5_cond, solver='liblinear')\n",
    "Model.fit(X_train, y_train)\n",
    "predictions = Model.predict(X_test)\n",
    "\n",
    "test_predictions = OG_dataset_test.copy()\n",
    "test_predictions.labels = predictions\n",
    "print(\"Accuracy\", sum(predictions==y_test)/len(y_test))\n",
    "\n",
    "Metric = ClassificationMetric(OG_dataset_test, test_predictions , unprivileged_groups=unprivileged_groups2, privileged_groups=privileged_groups2)\n",
    "Equal_of_Opp = Metric.equal_opportunity_difference()\n",
    "print('Equality_of_Opportunity score: %.3f' % Equal_of_Opp)"
   ]
  },
  {
   "cell_type": "code",
   "execution_count": 65,
   "metadata": {
    "colab": {
     "base_uri": "https://localhost:8080/",
     "height": 541
    },
    "id": "3D5XoqRH8xL9",
    "outputId": "7a787f87-1674-4281-ea33-3000b44811c0"
   },
   "outputs": [
    {
     "data": {
      "image/png": "[encoded data removed]",
      "text/plain": [
       "<Figure size 432x288 with 1 Axes>"
      ]
     },
     "metadata": {
      "needs_background": "light"
     },
     "output_type": "display_data"
    },
    {
     "data": {
      "image/png": "[encoded data removed]",
      "text/plain": [
       "<Figure size 432x288 with 1 Axes>"
      ]
     },
     "metadata": {
      "needs_background": "light"
     },
     "output_type": "display_data"
    }
   ],
   "source": [
    "y_score = Model.decision_function(X_test)\n",
    "\n",
    "fpr, tpr, _ = roc_curve(y_test, y_score, pos_label=Model.classes_[1])\n",
    "roc_display = RocCurveDisplay(fpr=fpr, tpr=tpr).plot()\n",
    "\n",
    "prec, recall, _ = precision_recall_curve(y_test, y_score, pos_label=Model.classes_[1])\n",
    "pr_display = PrecisionRecallDisplay(precision=prec, recall=recall).plot()"
   ]
  },
  {
   "cell_type": "code",
   "execution_count": 66,
   "metadata": {
    "colab": {
     "base_uri": "https://localhost:8080/"
    },
    "id": "hpSHxggqfRsR",
    "outputId": "706ff6ef-0cc6-4c45-a755-67ae4baf708a"
   },
   "outputs": [
    {
     "name": "stdout",
     "output_type": "stream",
     "text": [
      "C value = 100000  Accuracy: 0.718  Equality_of_Opportunity score: 0.011\n",
      "C value = 1000  Accuracy: 0.718  Equality_of_Opportunity score: 0.011\n",
      "C value = 10  Accuracy: 0.718  Equality_of_Opportunity score: 0.011\n",
      "C value = 1.0  Accuracy: 0.718  Equality_of_Opportunity score: 0.011\n",
      "C value = 0.01  Accuracy: 0.682  Equality_of_Opportunity score: 0.030\n",
      "C value = 0.0001  Accuracy: 0.678  Equality_of_Opportunity score: -0.090\n",
      "C value = 1e-06  Accuracy: 0.678  Equality_of_Opportunity score: -0.090\n",
      "C value = 1e-08  Accuracy: 0.678  Equality_of_Opportunity score: -0.090\n",
      "The model that has been selected as most fair + accurate is:  100000\n",
      "The model selected using bayes information theroy:  1.0\n"
     ]
    }
   ],
   "source": [
    "my_dict1 = {}\n",
    "my_dict2 = {}\n",
    "accuracy = []\n",
    "fairness = []\n",
    "\n",
    "RW = Reweighing(unprivileged_groups=unprivileged_groups2, privileged_groups=privileged_groups2)\n",
    "train = RW.fit_transform(OG_dataset_train)\n",
    "weights = train.instance_weights\n",
    "\n",
    "for i in C_Values:\n",
    "  Model = LogisticRegression(C=i, solver='liblinear')\n",
    "  Scores = cross_val_score(Model, X_train, y_train, fit_params= {'sample_weight': weights}, scoring='accuracy', cv=Cross_Validation)\n",
    "  accuracy.append(mean(Scores))\n",
    "\n",
    "  predictions = cross_val_predict(Model, X_train, y_train, fit_params= {'sample_weight': weights}, cv=Cross_Validation)\n",
    "  train_predictions = OG_dataset_train.copy()\n",
    "  train_predictions.labels = predictions\n",
    "\n",
    "  Metric = ClassificationMetric(OG_dataset_train, train_predictions , unprivileged_groups=unprivileged_groups2, privileged_groups=privileged_groups2)\n",
    "  Equal_of_Opp = Metric.equal_opportunity_difference()\n",
    "  fairness.append(Equal_of_Opp)\n",
    "  print(\"C value = \" +  str(i) + '  Accuracy: %.3f' % (mean(Scores)) + '  Equality_of_Opportunity score: %.3f' % Equal_of_Opp)\n",
    "\n",
    "  proba = cross_val_predict(Model, X_train, y_train, cv=Cross_Validation, method='predict_proba')\n",
    "  my_log_loss = log_loss(OG_dataset_train.labels, proba) \n",
    "  log_liklihood = my_log_loss * -1\n",
    "  BIC= -2 * log_liklihood + np.log(X_train.shape[0]) * X_train.shape[1] \n",
    "  BIC_scores.append(BIC) \n",
    "\n",
    "for i in range(len(C_Values)):\n",
    "    my_dict1[C_Values[i]] = accuracy[i]\n",
    "\n",
    "for i in range(len(C_Values)):\n",
    "    my_dict2[C_Values[i]] = fairness[i]\n",
    "\n",
    "for i in my_dict1:\n",
    "  fair_key, fair_val = min(my_dict2.items(), key=lambda x: abs(value - x[1]))\n",
    "  highest_accuracy = max(my_dict1.values())\n",
    "  accuracy_cireteria = highest_accuracy - 0.03\n",
    "\n",
    "  fair_acc = 0\n",
    "  for Cval, acc in my_dict1.items(): \n",
    "    if Cval == fair_key:\n",
    "        fair_acc = fair_acc + acc\n",
    "\n",
    "  if fair_acc > accuracy_cireteria:\n",
    "    print(\"The model that has been selected as most fair + accurate is: \", fair_key)\n",
    "    break\n",
    "  else:\n",
    "    del my_dict2[fair_key]\n",
    "\n",
    "find_best_BIC = min(my_dict3, key=my_dict3.get)\n",
    "\n",
    "print( \"The model selected using bayes information theroy: \", find_best_BIC)"
   ]
  },
  {
   "cell_type": "code",
   "execution_count": 67,
   "metadata": {
    "colab": {
     "base_uri": "https://localhost:8080/"
    },
    "id": "WLivKO6vfnrx",
    "outputId": "8580e489-20c4-4c6f-83e6-8020520fc423"
   },
   "outputs": [
    {
     "name": "stdout",
     "output_type": "stream",
     "text": [
      "C value =  100000\n",
      "Accuracy 0.6775\n",
      "Equality_of_Opportunity score: -0.024\n"
     ]
    }
   ],
   "source": [
    "Model_6 = fair_key\n",
    "Model_6_cond = find_best_BIC\n",
    "\n",
    "print(\"C value = \", Model_6)\n",
    "Model = LogisticRegression(C=Model_6, solver='liblinear')\n",
    "Model.fit(X_train, y_train, sample_weight = weights)\n",
    "predictions = Model.predict(X_test)\n",
    "\n",
    "test_predictions = OG_dataset_test.copy()\n",
    "test_predictions.labels = predictions\n",
    "print(\"Accuracy\", sum(predictions==y_test)/len(y_test))\n",
    "\n",
    "Metric = ClassificationMetric(OG_dataset_test, test_predictions , unprivileged_groups=unprivileged_groups2, privileged_groups=privileged_groups2)\n",
    "Equal_of_Opp = Metric.equal_opportunity_difference()\n",
    "print('Equality_of_Opportunity score: %.3f' % Equal_of_Opp)"
   ]
  },
  {
   "cell_type": "code",
   "execution_count": 68,
   "metadata": {
    "colab": {
     "base_uri": "https://localhost:8080/"
    },
    "id": "WjBUqQHY62ip",
    "outputId": "aec1f00f-7328-4dd1-acab-aed210c55e67"
   },
   "outputs": [
    {
     "name": "stdout",
     "output_type": "stream",
     "text": [
      "C value =  1.0\n",
      "Accuracy 0.6775\n",
      "Equality_of_Opportunity score: -0.024\n"
     ]
    }
   ],
   "source": [
    "print(\"C value = \", Model_6_cond)\n",
    "Model = LogisticRegression(C=Model_6_cond, solver='liblinear')\n",
    "Model.fit(X_train, y_train, sample_weight = weights)\n",
    "predictions = Model.predict(X_test)\n",
    "\n",
    "test_predictions = OG_dataset_test.copy()\n",
    "test_predictions.labels = predictions\n",
    "print(\"Accuracy\", sum(predictions==y_test)/len(y_test))\n",
    "\n",
    "Metric = ClassificationMetric(OG_dataset_test, test_predictions , unprivileged_groups=unprivileged_groups2, privileged_groups=privileged_groups2)\n",
    "Equal_of_Opp = Metric.equal_opportunity_difference()\n",
    "print('Equality_of_Opportunity score: %.3f' % Equal_of_Opp)"
   ]
  },
  {
   "cell_type": "code",
   "execution_count": 69,
   "metadata": {
    "colab": {
     "base_uri": "https://localhost:8080/",
     "height": 541
    },
    "id": "NmIMDNwD8zZM",
    "outputId": "6eac3c17-42c3-4957-bd0e-0c6f1b9cde36"
   },
   "outputs": [
    {
     "data": {
      "image/png": "[encoded data removed]",
      "text/plain": [
       "<Figure size 432x288 with 1 Axes>"
      ]
     },
     "metadata": {
      "needs_background": "light"
     },
     "output_type": "display_data"
    },
    {
     "data": {
      "image/png": "[encoded data removed]",
      "text/plain": [
       "<Figure size 432x288 with 1 Axes>"
      ]
     },
     "metadata": {
      "needs_background": "light"
     },
     "output_type": "display_data"
    }
   ],
   "source": [
    "y_score = Model.decision_function(X_test)\n",
    "\n",
    "fpr, tpr, _ = roc_curve(y_test, y_score, pos_label=Model.classes_[1])\n",
    "roc_display = RocCurveDisplay(fpr=fpr, tpr=tpr).plot()\n",
    "\n",
    "prec, recall, _ = precision_recall_curve(y_test, y_score, pos_label=Model.classes_[1])\n",
    "pr_display = PrecisionRecallDisplay(precision=prec, recall=recall).plot()"
   ]
  },
  {
   "cell_type": "code",
   "execution_count": 70,
   "metadata": {
    "id": "d2amEGqsfn_z"
   },
   "outputs": [],
   "source": [
    "#END"
   ]
  },
  {
   "cell_type": "markdown",
   "metadata": {
    "id": "7EqSdrF_pxa3"
   },
   "source": [
    "EXTRA STUFF"
   ]
  },
  {
   "cell_type": "code",
   "execution_count": 71,
   "metadata": {
    "id": "2xaCBjJ8py18"
   },
   "outputs": [],
   "source": [
    "#Fairness through unawareness \n",
    "#Not using the protected attributes in training a model at all\n",
    "#Did this on a seperate notebook "
   ]
  }
 ],
 "metadata": {
  "colab": {
   "collapsed_sections": [],
   "name": "ML ASSIGNMENT.ipynb",
   "provenance": []
  },
  "kernelspec": {
   "display_name": "Python 3",
   "language": "python",
   "name": "python3"
  },
  "language_info": {
   "codemirror_mode": {
    "name": "ipython",
    "version": 3
   },
   "file_extension": ".py",
   "mimetype": "text/x-python",
   "name": "python",
   "nbconvert_exporter": "python",
   "pygments_lexer": "ipython3",
   "version": "3.8.3"
  }
 },
 "nbformat": 4,
 "nbformat_minor": 1
}
